{
  "cells": [
    {
      "cell_type": "markdown",
      "source": [
        "# Подключение к Google Disk"
      ],
      "metadata": {
        "id": "HU773ViszpWY"
      }
    },
    {
      "cell_type": "code",
      "execution_count": null,
      "metadata": {
        "id": "zYhOQwj3zhVA"
      },
      "outputs": [],
      "source": [
        "from google.colab import drive"
      ]
    },
    {
      "cell_type": "code",
      "source": [
        "drive.mount('/content/gdrive/')"
      ],
      "metadata": {
        "colab": {
          "base_uri": "https://localhost:8080/"
        },
        "id": "ubI2OlbSz3G4",
        "outputId": "846f5733-0b84-423b-d658-664804e69b2b"
      },
      "execution_count": null,
      "outputs": [
        {
          "output_type": "stream",
          "name": "stdout",
          "text": [
            "Mounted at /content/gdrive/\n"
          ]
        }
      ]
    },
    {
      "cell_type": "code",
      "source": [
        "!unzip -q /content/gdrive/MyDrive/deep\\ learning\\ school/train.zip -d train\n",
        "!unzip -q /content/gdrive/MyDrive/deep\\ learning\\ school/testset.zip -d test"
      ],
      "metadata": {
        "id": "zmGVYvPF0kuq"
      },
      "execution_count": null,
      "outputs": []
    },
    {
      "cell_type": "code",
      "source": [
        "!nvidia-smi\n",
        "import torch\n",
        "torch.cuda.is_available()"
      ],
      "metadata": {
        "colab": {
          "base_uri": "https://localhost:8080/"
        },
        "id": "wm70YoeF0p47",
        "outputId": "70c142ae-5508-4343-8326-2c6f8d93f8d7"
      },
      "execution_count": null,
      "outputs": [
        {
          "output_type": "stream",
          "name": "stdout",
          "text": [
            "Mon Nov 21 15:07:24 2022       \n",
            "+-----------------------------------------------------------------------------+\n",
            "| NVIDIA-SMI 460.32.03    Driver Version: 460.32.03    CUDA Version: 11.2     |\n",
            "|-------------------------------+----------------------+----------------------+\n",
            "| GPU  Name        Persistence-M| Bus-Id        Disp.A | Volatile Uncorr. ECC |\n",
            "| Fan  Temp  Perf  Pwr:Usage/Cap|         Memory-Usage | GPU-Util  Compute M. |\n",
            "|                               |                      |               MIG M. |\n",
            "|===============================+======================+======================|\n",
            "|   0  Tesla T4            Off  | 00000000:00:04.0 Off |                    0 |\n",
            "| N/A   43C    P8     9W /  70W |      0MiB / 15109MiB |      0%      Default |\n",
            "|                               |                      |                  N/A |\n",
            "+-------------------------------+----------------------+----------------------+\n",
            "                                                                               \n",
            "+-----------------------------------------------------------------------------+\n",
            "| Processes:                                                                  |\n",
            "|  GPU   GI   CI        PID   Type   Process name                  GPU Memory |\n",
            "|        ID   ID                                                   Usage      |\n",
            "|=============================================================================|\n",
            "|  No running processes found                                                 |\n",
            "+-----------------------------------------------------------------------------+\n"
          ]
        },
        {
          "output_type": "execute_result",
          "data": {
            "text/plain": [
              "True"
            ]
          },
          "metadata": {},
          "execution_count": 4
        }
      ]
    },
    {
      "cell_type": "code",
      "source": [
        "import matplotlib"
      ],
      "metadata": {
        "id": "AeBF7Ym7bwu5"
      },
      "execution_count": null,
      "outputs": []
    },
    {
      "cell_type": "code",
      "source": [
        "a = ['DejaVu Sans', 'Bitstream Vera Sans', 'Computer Modern Sans Serif', 'Lucida Grande', 'Verdana', 'Geneva', 'Lucid', 'Arial', 'Helvetica', 'Avant Garde', 'sans-serif']"
      ],
      "metadata": {
        "id": "Y4QNsDMjcCj2"
      },
      "execution_count": null,
      "outputs": []
    },
    {
      "cell_type": "code",
      "source": [
        "print(matplotlib.rcParams['font.sans-serif'])"
      ],
      "metadata": {
        "colab": {
          "base_uri": "https://localhost:8080/"
        },
        "id": "mFNDUbKCb0BT",
        "outputId": "13302445-00d4-4cc1-de3c-326c7945fa25"
      },
      "execution_count": null,
      "outputs": [
        {
          "output_type": "stream",
          "name": "stdout",
          "text": [
            "['DejaVu Sans', 'Bitstream Vera Sans', 'Computer Modern Sans Serif', 'Lucida Grande', 'Verdana', 'Geneva', 'Lucid', 'Arial', 'Helvetica', 'Avant Garde', 'sans-serif']\n"
          ]
        }
      ]
    },
    {
      "cell_type": "code",
      "source": [
        "matplotlib.rcParams['font.sans-serif'] = a[2]"
      ],
      "metadata": {
        "id": "o3KULpl-copg"
      },
      "execution_count": null,
      "outputs": []
    },
    {
      "cell_type": "code",
      "source": [
        "matplotlib.pyplot.annotate('1', xy=(0.5,0.5), size=70)"
      ],
      "metadata": {
        "colab": {
          "base_uri": "https://localhost:8080/",
          "height": 214
        },
        "id": "QE4LMgRHcISR",
        "outputId": "0edb508e-87db-404e-fb5f-1285d6d48766"
      },
      "execution_count": null,
      "outputs": [
        {
          "output_type": "execute_result",
          "data": {
            "text/plain": [
              "Text(0.5, 0.5, '1')"
            ]
          },
          "metadata": {},
          "execution_count": 16
        },
        {
          "output_type": "display_data",
          "data": {
            "text/plain": [
              "<Figure size 432x288 with 1 Axes>"
            ],
            "image/png": "[encoded data removed]"
          },
          "metadata": {
            "needs_background": "light"
          }
        }
      ]
    },
    {
      "cell_type": "markdown",
      "source": [
        "# Загрузка датасета"
      ],
      "metadata": {
        "id": "IR3h-FVF0sC9"
      }
    },
    {
      "cell_type": "code",
      "source": [
        "import os\n",
        "import random\n",
        "\n",
        "import pickle\n",
        "import numpy as np\n",
        "import pandas as pd\n",
        "from skimage import io\n",
        "\n",
        "from tqdm import tqdm, tqdm_notebook\n",
        "from PIL import Image\n",
        "from pathlib import Path\n",
        "from sklearn.model_selection import train_test_split\n",
        "from torch.utils.data.sampler import WeightedRandomSampler\n",
        "import torch\n",
        "from torchvision import transforms\n",
        "from multiprocessing.pool import ThreadPool\n",
        "from sklearn.preprocessing import LabelEncoder\n",
        "from torch.utils.data import Dataset, DataLoader\n",
        "import torch.nn as nn\n",
        "from collections import Counter\n",
        "from torchvision import datasets, transforms\n",
        "\n",
        "from matplotlib import colors, pyplot as plt\n",
        "%matplotlib inline\n",
        "\n",
        "# в sklearn не все гладко, чтобы в colab удобно выводить картинки\n",
        "# мы будем игнорировать warnings\n",
        "import warnings\n",
        "warnings.filterwarnings(action='ignore', category=DeprecationWarning)"
      ],
      "metadata": {
        "id": "VkyzWaaW0igJ"
      },
      "execution_count": null,
      "outputs": []
    },
    {
      "cell_type": "markdown",
      "source": [
        "Зафиксируем рандомное состояние"
      ],
      "metadata": {
        "id": "Ikx9goqp0dgq"
      }
    },
    {
      "cell_type": "markdown",
      "source": [],
      "metadata": {
        "id": "wLhjmbMl6ZzB"
      }
    },
    {
      "cell_type": "code",
      "source": [
        "SEED = 10\n",
        "torch.manual_seed(SEED)\n",
        "torch.cuda.manual_seed_all(SEED)\n",
        "torch.backends.cudnn.deterministic = True\n",
        "torch.backends.cudnn.benchmark = False\n",
        "np.random.seed(SEED)"
      ],
      "metadata": {
        "id": "nxPV1TQ6sMS-"
      },
      "execution_count": null,
      "outputs": []
    },
    {
      "cell_type": "code",
      "source": [
        "# разные режимы датасета\n",
        "DATA_MODES = ['train', 'val', 'test']\n",
        "# все изображения будут масштабированы к размеру 224x224 px\n",
        "RESCALE_SIZE = 224\n",
        "# работаем на видеокарте\n",
        "DEVICE = torch.device(\"cuda\") if torch.cuda.is_available() else 'cpu'"
      ],
      "metadata": {
        "id": "OQLk7C4-0xxJ"
      },
      "execution_count": null,
      "outputs": []
    },
    {
      "cell_type": "markdown",
      "source": [
        "Загрузим данные, посмотрим на них"
      ],
      "metadata": {
        "id": "CxR3UkGK055J"
      }
    },
    {
      "cell_type": "code",
      "source": [
        "TRAIN_DIR = Path('train/train/simpsons_dataset')\n",
        "TEST_DIR = Path('test/testset/testset')\n",
        "\n",
        "train_val_files = sorted(list(TRAIN_DIR.rglob('*.jpg')))\n",
        "test_files = sorted(list(TEST_DIR.rglob('*.jpg')))\n",
        "\n",
        "train_val_labels = [path.parent.name for path in train_val_files]"
      ],
      "metadata": {
        "id": "3hjlYkeMt4QD"
      },
      "execution_count": null,
      "outputs": []
    },
    {
      "cell_type": "code",
      "source": [
        "lem = pd.Series(train_val_labels).value_counts().sort_values().to_frame(\"count\")"
      ],
      "metadata": {
        "id": "Qmw1uXSnsF3x"
      },
      "execution_count": null,
      "outputs": []
    },
    {
      "cell_type": "code",
      "source": [
        "lem = lem.iloc[16:25, :]"
      ],
      "metadata": {
        "id": "ZswnAGu7B1_O"
      },
      "execution_count": null,
      "outputs": []
    },
    {
      "cell_type": "code",
      "source": [
        "lem"
      ],
      "metadata": {
        "colab": {
          "base_uri": "https://localhost:8080/",
          "height": 331
        },
        "id": "GLS9kUCiL8F2",
        "outputId": "ca541013-a6a9-4df0-c726-aa1be016c626"
      },
      "execution_count": null,
      "outputs": [
        {
          "output_type": "execute_result",
          "data": {
            "text/plain": [
              "                      count\n",
              "carl_carlson             98\n",
              "selma_bouvier           103\n",
              "barney_gumble           106\n",
              "groundskeeper_willie    121\n",
              "maggie_simpson          128\n",
              "waylon_smithers         181\n",
              "mayor_quimby            246\n",
              "lenny_leonard           310\n",
              "nelson_muntz            358"
            ],
            "text/html": [
              "\n",
              "  <div id=\"df-fa48d3fa-c841-4107-9e52-8d36d6de9063\">\n",
              "    <div class=\"colab-df-container\">\n",
              "      <div>\n",
              "<style scoped>\n",
              "    .dataframe tbody tr th:only-of-type {\n",
              "        vertical-align: middle;\n",
              "    }\n",
              "\n",
              "    .dataframe tbody tr th {\n",
              "        vertical-align: top;\n",
              "    }\n",
              "\n",
              "    .dataframe thead th {\n",
              "        text-align: right;\n",
              "    }\n",
              "</style>\n",
              "<table border=\"1\" class=\"dataframe\">\n",
              "  <thead>\n",
              "    <tr style=\"text-align: right;\">\n",
              "      <th></th>\n",
              "      <th>count</th>\n",
              "    </tr>\n",
              "  </thead>\n",
              "  <tbody>\n",
              "    <tr>\n",
              "      <th>carl_carlson</th>\n",
              "      <td>98</td>\n",
              "    </tr>\n",
              "    <tr>\n",
              "      <th>selma_bouvier</th>\n",
              "      <td>103</td>\n",
              "    </tr>\n",
              "    <tr>\n",
              "      <th>barney_gumble</th>\n",
              "      <td>106</td>\n",
              "    </tr>\n",
              "    <tr>\n",
              "      <th>groundskeeper_willie</th>\n",
              "      <td>121</td>\n",
              "    </tr>\n",
              "    <tr>\n",
              "      <th>maggie_simpson</th>\n",
              "      <td>128</td>\n",
              "    </tr>\n",
              "    <tr>\n",
              "      <th>waylon_smithers</th>\n",
              "      <td>181</td>\n",
              "    </tr>\n",
              "    <tr>\n",
              "      <th>mayor_quimby</th>\n",
              "      <td>246</td>\n",
              "    </tr>\n",
              "    <tr>\n",
              "      <th>lenny_leonard</th>\n",
              "      <td>310</td>\n",
              "    </tr>\n",
              "    <tr>\n",
              "      <th>nelson_muntz</th>\n",
              "      <td>358</td>\n",
              "    </tr>\n",
              "  </tbody>\n",
              "</table>\n",
              "</div>\n",
              "      <button class=\"colab-df-convert\" onclick=\"convertToInteractive('df-fa48d3fa-c841-4107-9e52-8d36d6de9063')\"\n",
              "              title=\"Convert this dataframe to an interactive table.\"\n",
              "              style=\"display:none;\">\n",
              "        \n",
              "  <svg xmlns=\"http://www.w3.org/2000/svg\" height=\"24px\"viewBox=\"0 0 24 24\"\n",
              "       width=\"24px\">\n",
              "    <path d=\"M0 0h24v24H0V0z\" fill=\"none\"/>\n",
              "    <path d=\"M18.56 5.44l.94 2.06.94-2.06 2.06-.94-2.06-.94-.94-2.06-.94 2.06-2.06.94zm-11 1L8.5 8.5l.94-2.06 2.06-.94-2.06-.94L8.5 2.5l-.94 2.06-2.06.94zm10 10l.94 2.06.94-2.06 2.06-.94-2.06-.94-.94-2.06-.94 2.06-2.06.94z\"/><path d=\"M17.41 7.96l-1.37-1.37c-.4-.4-.92-.59-1.43-.59-.52 0-1.04.2-1.43.59L10.3 9.45l-7.72 7.72c-.78.78-.78 2.05 0 2.83L4 21.41c.39.39.9.59 1.41.59.51 0 1.02-.2 1.41-.59l7.78-7.78 2.81-2.81c.8-.78.8-2.07 0-2.86zM5.41 20L4 18.59l7.72-7.72 1.47 1.35L5.41 20z\"/>\n",
              "  </svg>\n",
              "      </button>\n",
              "      \n",
              "  <style>\n",
              "    .colab-df-container {\n",
              "      display:flex;\n",
              "      flex-wrap:wrap;\n",
              "      gap: 12px;\n",
              "    }\n",
              "\n",
              "    .colab-df-convert {\n",
              "      background-color: #E8F0FE;\n",
              "      border: none;\n",
              "      border-radius: 50%;\n",
              "      cursor: pointer;\n",
              "      display: none;\n",
              "      fill: #1967D2;\n",
              "      height: 32px;\n",
              "      padding: 0 0 0 0;\n",
              "      width: 32px;\n",
              "    }\n",
              "\n",
              "    .colab-df-convert:hover {\n",
              "      background-color: #E2EBFA;\n",
              "      box-shadow: 0px 1px 2px rgba(60, 64, 67, 0.3), 0px 1px 3px 1px rgba(60, 64, 67, 0.15);\n",
              "      fill: #174EA6;\n",
              "    }\n",
              "\n",
              "    [theme=dark] .colab-df-convert {\n",
              "      background-color: #3B4455;\n",
              "      fill: #D2E3FC;\n",
              "    }\n",
              "\n",
              "    [theme=dark] .colab-df-convert:hover {\n",
              "      background-color: #434B5C;\n",
              "      box-shadow: 0px 1px 3px 1px rgba(0, 0, 0, 0.15);\n",
              "      filter: drop-shadow(0px 1px 2px rgba(0, 0, 0, 0.3));\n",
              "      fill: #FFFFFF;\n",
              "    }\n",
              "  </style>\n",
              "\n",
              "      <script>\n",
              "        const buttonEl =\n",
              "          document.querySelector('#df-fa48d3fa-c841-4107-9e52-8d36d6de9063 button.colab-df-convert');\n",
              "        buttonEl.style.display =\n",
              "          google.colab.kernel.accessAllowed ? 'block' : 'none';\n",
              "\n",
              "        async function convertToInteractive(key) {\n",
              "          const element = document.querySelector('#df-fa48d3fa-c841-4107-9e52-8d36d6de9063');\n",
              "          const dataTable =\n",
              "            await google.colab.kernel.invokeFunction('convertToInteractive',\n",
              "                                                     [key], {});\n",
              "          if (!dataTable) return;\n",
              "\n",
              "          const docLinkHtml = 'Like what you see? Visit the ' +\n",
              "            '<a target=\"_blank\" href=https://colab.research.google.com/notebooks/data_table.ipynb>data table notebook</a>'\n",
              "            + ' to learn more about interactive tables.';\n",
              "          element.innerHTML = '';\n",
              "          dataTable['output_type'] = 'display_data';\n",
              "          await google.colab.output.renderOutput(dataTable, element);\n",
              "          const docLink = document.createElement('div');\n",
              "          docLink.innerHTML = docLinkHtml;\n",
              "          element.appendChild(docLink);\n",
              "        }\n",
              "      </script>\n",
              "    </div>\n",
              "  </div>\n",
              "  "
            ]
          },
          "metadata": {},
          "execution_count": 215
        }
      ]
    },
    {
      "cell_type": "markdown",
      "source": [
        "Сбалансируем данные, используя аугументацию"
      ],
      "metadata": {
        "id": "iaAVU8nl1Bu5"
      }
    },
    {
      "cell_type": "code",
      "source": [
        "augmentations = transforms.RandomChoice([\n",
        "        transforms.Compose([\n",
        "          transforms.CenterCrop(size=300),\n",
        "          transforms.RandomCrop(250),\n",
        "    ]),\n",
        "    transforms.ColorJitter(brightness=0.3),\n",
        "    transforms.RandomRotation(degrees=(-25, 25)),\n",
        "    transforms.RandomHorizontalFlip(p=1),\n",
        "])\n",
        "train_transforms = transforms.Compose([\n",
        "    augmentations,\n",
        "    transforms.Resize(size=(RESCALE_SIZE, RESCALE_SIZE)),\n",
        "    transforms.Lambda(lambda x: np.array(x, dtype=\"float32\") / 255),\n",
        "    transforms.ToTensor(),\n",
        "    transforms.Normalize([0.485, 0.456, 0.406], [0.229, 0.224, 0.225]) ,\n",
        "])\n",
        "train_dataset = datasets.ImageFolder(root=TRAIN_DIR, transform=train_transforms)"
      ],
      "metadata": {
        "id": "iTn1dG8RsRwA"
      },
      "execution_count": null,
      "outputs": []
    },
    {
      "cell_type": "markdown",
      "source": [
        "Разделим на тестовую и валидационную выборки"
      ],
      "metadata": {
        "id": "4v5ZPaHs2sPa"
      }
    },
    {
      "cell_type": "code",
      "source": [
        "train_datas, valid_datas = train_test_split(list(range(len(train_dataset))), train_size=0.8)\n",
        "dataset = {\n",
        "    'train': torch.utils.data.Subset(train_dataset, train_datas),\n",
        "    'valid': torch.utils.data.Subset(train_dataset, valid_datas)\n",
        "}"
      ],
      "metadata": {
        "id": "nLAPTJfnxBNy"
      },
      "execution_count": null,
      "outputs": []
    },
    {
      "cell_type": "markdown",
      "source": [
        "Тестовый набор данных"
      ],
      "metadata": {
        "id": "wcglPxPd2UJe"
      }
    },
    {
      "cell_type": "code",
      "source": [
        "test_transforms = transforms.Compose([\n",
        "    transforms.Resize(size=(RESCALE_SIZE, RESCALE_SIZE)),\n",
        "    transforms.Lambda(lambda x: np.array(x, dtype=\"float32\") / 255),\n",
        "    transforms.ToTensor(),\n",
        "    transforms.Normalize([0.485, 0.456, 0.406], [0.229, 0.224, 0.225]) ,\n",
        "])\n",
        "test_dataset = datasets.ImageFolder(root=TRAIN_DIR, transform=train_transforms)"
      ],
      "metadata": {
        "id": "gLb82X66yxRW"
      },
      "execution_count": null,
      "outputs": []
    },
    {
      "cell_type": "markdown",
      "source": [
        "Функция для отрисовки картинок"
      ],
      "metadata": {
        "id": "mHEqnVnG0-30"
      }
    },
    {
      "cell_type": "code",
      "source": [
        "def imshow(inp, title=None, plt_ax=plt, default=False):\n",
        "    \"\"\"Imshow для тензоров\"\"\"\n",
        "    inp = inp.numpy().transpose((1, 2, 0))\n",
        "    mean = np.array([0.485, 0.456, 0.406])\n",
        "    std = np.array([0.229, 0.224, 0.225])\n",
        "    inp = std * inp + mean\n",
        "    inp = np.clip(inp, 0, 1)\n",
        "    plt_ax.imshow(inp)\n",
        "    if title is not None:\n",
        "        plt_ax.set_title(title)\n",
        "    plt_ax.grid(False)"
      ],
      "metadata": {
        "id": "6z9a5BLBtxDJ"
      },
      "execution_count": null,
      "outputs": []
    },
    {
      "cell_type": "code",
      "source": [
        "train_loader = DataLoader(dataset[\"train\"], batch_size=16)"
      ],
      "metadata": {
        "id": "L_yN7phPyL6-"
      },
      "execution_count": null,
      "outputs": []
    },
    {
      "cell_type": "markdown",
      "source": [
        "Посмотрим на датасет с аугументацией"
      ],
      "metadata": {
        "id": "ByrfajED38Dq"
      }
    },
    {
      "cell_type": "code",
      "source": [
        "axes = plt.subplots(nrows=3, ncols=4, figsize=(12, 9))[1]\n",
        "data, labels = next(iter(train_loader))\n",
        "for ax, d, l in zip(axes.flatten(), data, labels):\n",
        "    imshow(d.data.cpu(), title=train_dataset.classes[l], plt_ax=ax)"
      ],
      "metadata": {
        "colab": {
          "base_uri": "https://localhost:8080/",
          "height": 553
        },
        "id": "JTJt73qoyDEy",
        "outputId": "73ed27e2-f657-4702-e5f0-acc35c678966"
      },
      "execution_count": null,
      "outputs": [
        {
          "output_type": "display_data",
          "data": {
            "text/plain": [
              "<Figure size 864x648 with 12 Axes>"
            ],
            "image/png": "[encoded data removed]"
          },
          "metadata": {
            "needs_background": "light"
          }
        }
      ]
    },
    {
      "cell_type": "markdown",
      "source": [
        "# Simple CNN"
      ],
      "metadata": {
        "id": "tG-ef3Fwu0KL"
      }
    },
    {
      "cell_type": "code",
      "source": [
        "class First_Simpson_CNN(nn.Module):\n",
        "\n",
        "    def __init__(self, n_classes):\n",
        "        super().__init__()\n",
        "        self.conv1 = nn.Sequential(\n",
        "            nn.Conv2d(in_channels=3, out_channels=8, kernel_size=3),\n",
        "            nn.BatchNorm2d(8),\n",
        "            nn.ReLU(),\n",
        "            nn.MaxPool2d(kernel_size=2)\n",
        "        )\n",
        "        self.conv2 = nn.Sequential(\n",
        "            nn.Conv2d(in_channels=8, out_channels=16, kernel_size=3),\n",
        "            nn.BatchNorm2d(16),\n",
        "            nn.ReLU(),\n",
        "            nn.MaxPool2d(kernel_size=2)\n",
        "        )\n",
        "        self.conv3 = nn.Sequential(\n",
        "            nn.Conv2d(in_channels=16, out_channels=32, kernel_size=3),\n",
        "            nn.BatchNorm2d(32),\n",
        "            nn.ReLU(),\n",
        "            nn.MaxPool2d(kernel_size=2)\n",
        "        )\n",
        "        self.conv4 = nn.Sequential(\n",
        "            nn.Conv2d(in_channels=32, out_channels=64, kernel_size=3),\n",
        "            nn.BatchNorm2d(64),\n",
        "            nn.ReLU(),\n",
        "            nn.MaxPool2d(kernel_size=2)\n",
        "        )\n",
        "        self.conv5 = nn.Sequential(\n",
        "            nn.Conv2d(in_channels=64, out_channels=96, kernel_size=3),\n",
        "            nn.BatchNorm2d(96),\n",
        "            nn.ReLU(),\n",
        "            nn.MaxPool2d(kernel_size=2)\n",
        "        )\n",
        "\n",
        "        self.lc = nn.Sequential(\n",
        "            nn.Flatten(),\n",
        "            nn.Linear(96 * 5 * 5, 10),\n",
        "\n",
        "\n",
        "    def forward(self, x):\n",
        "        x = self.conv1(x)\n",
        "        x = self.conv2(x)\n",
        "        x = self.conv3(x)\n",
        "        x = self.conv4(x)\n",
        "        x = self.conv5(x)\n",
        "\n",
        "\n",
        "        logits = self.lc(x)\n",
        "        return logits"
      ],
      "metadata": {
        "id": "49xx3N52ukp7"
      },
      "execution_count": null,
      "outputs": []
    },
    {
      "cell_type": "markdown",
      "source": [
        "Функции для train и predict с сохранением лучшего результата"
      ],
      "metadata": {
        "id": "etp21xe644cm"
      }
    },
    {
      "cell_type": "code",
      "source": [
        "def fit_epoch(model, train_loader, criterion, scheduler, optimizer):\n",
        "    running_loss = 0.0\n",
        "    running_corrects = 0\n",
        "    processed_data = 0\n",
        "    model.train()\n",
        "\n",
        "    for inputs, labels in train_loader:\n",
        "        inputs = inputs.to(DEVICE)\n",
        "        labels = labels.to(DEVICE)\n",
        "        optimizer.zero_grad()\n",
        "\n",
        "        outputs = model(inputs)\n",
        "        loss = criterion(outputs, labels)\n",
        "        loss.backward()\n",
        "        optimizer.step()\n",
        "        preds = torch.argmax(outputs, 1)\n",
        "        running_loss += loss.item() * inputs.size(0)\n",
        "        running_corrects += torch.sum(preds == labels.data)\n",
        "        processed_data += inputs.size(0)\n",
        "    scheduler.step()\n",
        "    train_loss = running_loss / processed_data\n",
        "    train_acc = running_corrects.cpu().numpy() / processed_data\n",
        "    return train_loss, train_acc\n",
        "\n",
        "def eval_epoch(model, val_loader, criterion):\n",
        "      model.eval()\n",
        "      running_loss = 0.0\n",
        "      running_corrects = 0\n",
        "      processed_size = 0\n",
        "\n",
        "      for inputs, labels in val_loader:\n",
        "          inputs = inputs.to(DEVICE)\n",
        "          labels = labels.to(DEVICE)\n",
        "\n",
        "          with torch.set_grad_enabled(False):\n",
        "              outputs = model(inputs)\n",
        "              loss = criterion(outputs, labels)\n",
        "              preds = torch.argmax(outputs, 1)\n",
        "\n",
        "          running_loss += loss.item() * inputs.size(0)\n",
        "          running_corrects += torch.sum(preds == labels.data)\n",
        "          processed_size += inputs.size(0)\n",
        "      val_loss = running_loss / processed_size\n",
        "      val_acc = running_corrects.double() / processed_size\n",
        "\n",
        "      return val_loss, val_acc\n",
        "\n",
        "def predict(model, test_loader):\n",
        "    with torch.no_grad():\n",
        "        logits = []\n",
        "\n",
        "        for inputs in test_loader:\n",
        "            inputs = inputs.to(DEVICE)\n",
        "            model.eval()\n",
        "            outputs = model(inputs).cpu()\n",
        "            logits.append(outputs)\n",
        "\n",
        "    probs = nn.functional.softmax(torch.cat(logits), dim=-1).numpy()\n",
        "    return probs\n",
        "\n",
        "\n",
        "def train(train_dataset, scheduler, opt, model, epochs, batch_size):\n",
        "    random.seed(10)\n",
        "    # train_loader = DataLoader(train_dataset, batch_size=batch_size, shuffle=True)\n",
        "    # val_loader = DataLoader(val_dataset, batch_size=batch_size, shuffle=False)\n",
        "    history = []\n",
        "    log_template = \"\\nEpoch {ep:03d} train_loss: {t_loss:0.4f} \"\\\n",
        "    # val_loss {v_loss:0.4f} train_acc {t_acc:0.4f} val_acc {v_acc:0.4f}\"\n",
        "\n",
        "    with tqdm(desc=\"epoch\", total=epochs) as pbar_outer:\n",
        "        criterion = nn.CrossEntropyLoss()\n",
        "        best_model_wts = model.state_dict()\n",
        "        best_acc = 0.0\n",
        "\n",
        "        for epoch in range(epochs):\n",
        "            train_loss, train_acc = fit_epoch(model, train_loader, criterion, scheduler, opt)\n",
        "            print(\"loss\", train_loss)\n",
        "\n",
        "            # val_loss, val_acc = eval_epoch(model, val_loader, criterion)\n",
        "            # history.append((train_loss, train_acc, val_loss, val_acc))\n",
        "            if train_acc > best_acc:\n",
        "                best_acc = train_acc\n",
        "                best_model_wts = model.state_dict()\n",
        "\n",
        "\n",
        "            pbar_outer.update(1)\n",
        "            tqdm.write(log_template.format(ep=epoch+1, t_loss=train_loss,\\\n",
        "                                          #  v_loss=val_loss, t_acc=train_acc, v_acc=val_acc\n",
        "                                           ))\n",
        "\n",
        "\n",
        "    model.load_state_dict(best_model_wts)\n",
        "    print('Best val Acc: {:4f}'.format(best_acc))\n",
        "    return model, history"
      ],
      "metadata": {
        "id": "9B6IEQFGvCFj"
      },
      "execution_count": null,
      "outputs": []
    },
    {
      "cell_type": "code",
      "source": [
        "n_classes = len(np.unique(train_val_labels))"
      ],
      "metadata": {
        "id": "YLAv_S0jwLmQ"
      },
      "execution_count": null,
      "outputs": []
    },
    {
      "cell_type": "code",
      "source": [
        "train_dataset = dataset['train']\n",
        "val_dataset = dataset['valid']"
      ],
      "metadata": {
        "id": "clsS5nu35HEv"
      },
      "execution_count": null,
      "outputs": []
    },
    {
      "cell_type": "markdown",
      "source": [
        "После всех экспериментов было получено, что лучшее качество на SimpleCNN с опимайзером AdamW, bach-size=64, lr~2e-3, к концу 15 эпохи достигло 93%"
      ],
      "metadata": {
        "id": "kjqyk_d65WAm"
      }
    },
    {
      "cell_type": "markdown",
      "source": [
        "# Файтюнинг"
      ],
      "metadata": {
        "id": "w6gjVta4sXHp"
      }
    },
    {
      "cell_type": "code",
      "source": [
        "import os\n",
        "from tqdm.autonotebook import tqdm, trange\n",
        "\n",
        "import torch\n",
        "import torch.nn as nn\n",
        "import torch.optim as optim\n",
        "from torch.optim import lr_scheduler\n",
        "\n",
        "import numpy as np\n",
        "import torchvision\n",
        "from torchvision import datasets, models, transforms\n",
        "import matplotlib.pyplot as plt\n",
        "import time"
      ],
      "metadata": {
        "id": "rWFJ4PNX3SuE"
      },
      "execution_count": null,
      "outputs": []
    },
    {
      "cell_type": "code",
      "source": [
        "train_dataset = dataset['train']\n",
        "val_dataset = dataset['valid']"
      ],
      "metadata": {
        "id": "oOWXNa3PIMqN"
      },
      "execution_count": null,
      "outputs": []
    },
    {
      "cell_type": "code",
      "source": [
        "model_diff_lr = models.efficientnet_v2_s(pretrained=True)\n",
        "num_features = 1280\n",
        "model_diff_lr.classifier = nn.Linear(num_features, n_classes)\n",
        "\n",
        "optimizer = torch.optim.AdamW(params=[\n",
        "        {\"params\": model_diff_lr.classifier.parameters()},\n",
        "        {\"params\": model_diff_lr.features.parameters(), \"lr\": 1e-4}\n",
        "    ],\n",
        "    lr=1e-3\n",
        ")\n",
        "scheduler = torch.optim.lr_scheduler.StepLR(optimizer, step_size=3, gamma=0.15)\n",
        "model_diff_lr.to(DEVICE)\n",
        "\n",
        "model, hist = train(train_dataset, val_dataset, scheduler, optimizer, model=model_diff_lr, epochs=5, batch_size=64)"
      ],
      "metadata": {
        "colab": {
          "base_uri": "https://localhost:8080/",
          "height": 484,
          "referenced_widgets": [
            "c9a4b16cb4c24eecb670b7cd2e7409b7",
            "ff8beda312e04db39854b1e9d0cb3053",
            "fe3ce54533e341f9ab8d96c5b29edb8e",
            "782217c09169418e95e33cd968fc9f15",
            "2e44834a4f114432aa76fd2fadce15d0",
            "bcb8239c3ae4461d977695d36d143104",
            "425ec57e51734f16a5740c079ee26ce7",
            "ca9090f3ba1b4ddf9ffd601777137c02",
            "4243ddd0932740aa9045e0b2bbfe5e5b",
            "a2a129b37b204cdab541107ea7498b70",
            "e1520c415bea47bfa599c30ad84cf956",
            "7d618b09eec64c4d87ae8abaff4798a1",
            "855f9ebfc23c42f3964f8ac5c361b45c",
            "2243f23371c94634beb796b9354b4a99",
            "a63104fc8bdf4dc3b08a30e5c15ddf51",
            "720c8104ada14bb18f102fa9a20eb303",
            "8df1eb55d91049bbac831999c63160c7",
            "e3169e3edaa843ecb3561ac560be1546",
            "4f10eacc79904e14aca5fb887b61158a",
            "b5fb418a02be44b2b7dda878bb8b591d",
            "95599004dd4e4c3aba43f4c07b3c9b38",
            "6c64c64d2a8344289356b2e282278705"
          ]
        },
        "id": "gTKbpDrZLZlp",
        "outputId": "b35a6dbd-c4b6-4293-beea-dbec07d73b96"
      },
      "execution_count": null,
      "outputs": [
        {
          "metadata": {
            "tags": null
          },
          "name": "stderr",
          "output_type": "stream",
          "text": [
            "/usr/local/lib/python3.7/dist-packages/torchvision/models/_utils.py:209: UserWarning: The parameter 'pretrained' is deprecated since 0.13 and will be removed in 0.15, please use 'weights' instead.\n",
            "  f\"The parameter '{pretrained_param}' is deprecated since 0.13 and will be removed in 0.15, \"\n",
            "/usr/local/lib/python3.7/dist-packages/torchvision/models/_utils.py:223: UserWarning: Arguments other than a weight enum or `None` for 'weights' are deprecated since 0.13 and will be removed in 0.15. The current behavior is equivalent to passing `weights=EfficientNet_V2_S_Weights.IMAGENET1K_V1`. You can also use `weights=EfficientNet_V2_S_Weights.DEFAULT` to get the most up-to-date weights.\n",
            "  warnings.warn(msg)\n",
            "Downloading: \"https://download.pytorch.org/models/efficientnet_v2_s-dd5fe13b.pth\" to /root/.cache/torch/hub/checkpoints/efficientnet_v2_s-dd5fe13b.pth\n"
          ]
        },
        {
          "data": {
            "application/vnd.jupyter.widget-view+json": {
              "model_id": "c9a4b16cb4c24eecb670b7cd2e7409b7",
              "version_major": 2,
              "version_minor": 0
            },
            "text/plain": [
              "  0%|          | 0.00/82.7M [00:00<?, ?B/s]"
            ]
          },
          "metadata": {},
          "output_type": "display_data"
        },
        {
          "data": {
            "application/vnd.jupyter.widget-view+json": {
              "model_id": "7d618b09eec64c4d87ae8abaff4798a1",
              "version_major": 2,
              "version_minor": 0
            },
            "text/plain": [
              "epoch:   0%|          | 0/5 [00:00<?, ?it/s]"
            ]
          },
          "metadata": {},
          "output_type": "display_data"
        },
        {
          "output_type": "stream",
          "name": "stdout",
          "text": [
            "loss 0.7533372874707286\n",
            "\n",
            "Epoch 001 train_loss: 0.7533     val_loss 0.1682 train_acc 0.8173 val_acc 0.9558\n",
            "loss 0.12207861098623358\n",
            "\n",
            "Epoch 002 train_loss: 0.1221     val_loss 0.1316 train_acc 0.9705 val_acc 0.9668\n",
            "loss 0.07217718280838939\n",
            "\n",
            "Epoch 003 train_loss: 0.0722     val_loss 0.1149 train_acc 0.9821 val_acc 0.9737\n",
            "loss 0.0405951334946823\n",
            "\n",
            "Epoch 004 train_loss: 0.0406     val_loss 0.0992 train_acc 0.9905 val_acc 0.9759\n",
            "loss 0.03020105306769321\n",
            "\n",
            "Epoch 005 train_loss: 0.0302     val_loss 0.0963 train_acc 0.9928 val_acc 0.9761\n",
            "Best val Acc: 0.976117\n"
          ]
        }
      ]
    },
    {
      "cell_type": "code",
      "source": [
        "val_loader = DataLoader(val_dataset, batch_size=64, shuffle=False)"
      ],
      "metadata": {
        "id": "HjdhwNdjvzkk"
      },
      "execution_count": null,
      "outputs": []
    },
    {
      "cell_type": "code",
      "source": [
        "probs = predict(model, val_loader)"
      ],
      "metadata": {
        "id": "-jJdI5cwvof-"
      },
      "execution_count": null,
      "outputs": []
    },
    {
      "cell_type": "code",
      "source": [
        "preds = [train_dataset.classes[i] for i in probs.argmax(axis=-1)]"
      ],
      "metadata": {
        "id": "jBd3IFJ_vq4a"
      },
      "execution_count": null,
      "outputs": []
    },
    {
      "cell_type": "code",
      "source": [
        "def get_key(d, value):\n",
        "    for k, v in d.items():\n",
        "        if v == value:\n",
        "            return k"
      ],
      "metadata": {
        "id": "tWIsccUP3l0R"
      },
      "execution_count": null,
      "outputs": []
    },
    {
      "cell_type": "code",
      "source": [
        "for i in class_count_tr.keys():\n",
        "    class_correct= class_count_tr[i] - abs(class_count_tr[i] - class_count_p[i])\n",
        "    class_total = class_count_tr[i]\n",
        "    print('Accuracy of %5s : %2d %%' % (\n",
        "        i, 100 * class_correct / class_total))\n"
      ],
      "metadata": {
        "id": "ugrmCSDSvTCz",
        "colab": {
          "base_uri": "https://localhost:8080/"
        },
        "outputId": "1997a0ef-d1a3-4ead-ed97-a5b29b4d0e35"
      },
      "execution_count": null,
      "outputs": [
        {
          "output_type": "stream",
          "name": "stdout",
          "text": [
            "Accuracy of edna_krabappel : 93 %\n",
            "Accuracy of homer_simpson : 98 %\n",
            "Accuracy of sideshow_bob : 99 %\n",
            "Accuracy of milhouse_van_houten : 99 %\n",
            "Accuracy of moe_szyslak : 99 %\n",
            "Accuracy of krusty_the_clown : 100 %\n",
            "Accuracy of lisa_simpson : 99 %\n",
            "Accuracy of marge_simpson : 99 %\n",
            "Accuracy of principal_skinner : 98 %\n",
            "Accuracy of chief_wiggum : 97 %\n",
            "Accuracy of nelson_muntz : 97 %\n",
            "Accuracy of ned_flanders : 97 %\n",
            "Accuracy of waylon_smithers : 97 %\n",
            "Accuracy of charles_montgomery_burns : 98 %\n",
            "Accuracy of bart_simpson : 98 %\n",
            "Accuracy of barney_gumble : 89 %\n",
            "Accuracy of apu_nahasapeemapetilon : 100 %\n",
            "Accuracy of sideshow_mel : 100 %\n",
            "Accuracy of abraham_grampa_simpson : 100 %\n",
            "Accuracy of comic_book_guy : 98 %\n",
            "Accuracy of   gil : 100 %\n",
            "Accuracy of maggie_simpson : 89 %\n",
            "Accuracy of agnes_skinner : 100 %\n",
            "Accuracy of ralph_wiggum : 86 %\n",
            "Accuracy of kent_brockman : 100 %\n",
            "Accuracy of lenny_leonard : 100 %\n",
            "Accuracy of mayor_quimby : 98 %\n",
            "Accuracy of snake_jailbird : 100 %\n",
            "Accuracy of martin_prince : 88 %\n",
            "Accuracy of patty_bouvier : 77 %\n",
            "Accuracy of professor_john_frink : 92 %\n",
            "Accuracy of selma_bouvier : 83 %\n",
            "Accuracy of groundskeeper_willie : 89 %\n",
            "Accuracy of carl_carlson : 100 %\n",
            "Accuracy of disco_stu : 100 %\n",
            "Accuracy of otto_mann : 100 %\n",
            "Accuracy of troy_mcclure : 50 %\n",
            "Accuracy of cletus_spuckler : 80 %\n",
            "Accuracy of miss_hoover : 100 %\n",
            "Accuracy of rainier_wolfcastle : 100 %\n"
          ]
        }
      ]
    },
    {
      "cell_type": "code",
      "source": [
        "lem.index,"
      ],
      "metadata": {
        "colab": {
          "base_uri": "https://localhost:8080/"
        },
        "id": "NG5rgNurCE7Z",
        "outputId": "3a8688f2-093c-40e8-d29a-6603824d1907"
      },
      "execution_count": null,
      "outputs": [
        {
          "output_type": "execute_result",
          "data": {
            "text/plain": [
              "(Index(['lionel_hutz', 'troy_mcclure', 'disco_stu', 'miss_hoover', 'gil',\n",
              "        'fat_tony', 'otto_mann', 'sideshow_mel', 'agnes_skinner',\n",
              "        'rainier_wolfcastle', 'cletus_spuckler', 'snake_jailbird',\n",
              "        'professor_john_frink', 'martin_prince', 'patty_bouvier',\n",
              "        'ralph_wiggum', 'carl_carlson', 'selma_bouvier', 'barney_gumble',\n",
              "        'groundskeeper_willie', 'maggie_simpson', 'waylon_smithers',\n",
              "        'mayor_quimby', 'lenny_leonard', 'nelson_muntz', 'edna_krabappel'],\n",
              "       dtype='object'),)"
            ]
          },
          "metadata": {},
          "execution_count": 149
        }
      ]
    },
    {
      "cell_type": "code",
      "source": [
        "d = [v for i, (k, v) in enumerate(train_dataset.class_to_idx.items()) if k in lem.index]"
      ],
      "metadata": {
        "id": "Klf2wsNQ40MB"
      },
      "execution_count": null,
      "outputs": []
    },
    {
      "cell_type": "code",
      "source": [
        "\n",
        "s = {d[i]: lem.iloc[i,:].values[0] for i in range(len(lem))}\n",
        ""
      ],
      "metadata": {
        "id": "Vx6E7ylBCzb_"
      },
      "execution_count": null,
      "outputs": []
    },
    {
      "cell_type": "code",
      "source": [
        "s"
      ],
      "metadata": {
        "colab": {
          "base_uri": "https://localhost:8080/"
        },
        "id": "m3AqAauP85Tn",
        "outputId": "3803da00-84a5-4698-880a-680c6e268aaf"
      },
      "execution_count": null,
      "outputs": [
        {
          "output_type": "execute_result",
          "data": {
            "text/plain": [
              "{3: 98, 5: 103, 14: 106, 18: 121, 21: 128, 24: 181, 29: 246, 36: 310, 41: 358}"
            ]
          },
          "metadata": {},
          "execution_count": 220
        }
      ]
    },
    {
      "cell_type": "code",
      "source": [
        "c = {8: 47,\n",
        "  23: 71,\n",
        " 31: 72,\n",
        " 36: 103,\n",
        " 40: 8}"
      ],
      "metadata": {
        "id": "oX3FXSAp89cM"
      },
      "execution_count": null,
      "outputs": []
    },
    {
      "cell_type": "code",
      "source": [
        "all = []\n",
        "for i, (p, j) in enumerate(train_dataset):\n",
        "  if j in d:\n",
        "    all.append(train_dataset[i])"
      ],
      "metadata": {
        "id": "d-vxi-PM6p_1"
      },
      "execution_count": null,
      "outputs": []
    },
    {
      "cell_type": "code",
      "source": [
        "Counter(c)"
      ],
      "metadata": {
        "colab": {
          "base_uri": "https://localhost:8080/"
        },
        "id": "MDpIPoDR9Qoh",
        "outputId": "4a37f43c-a8c2-4b4d-9ee0-a2fa234a2153"
      },
      "execution_count": null,
      "outputs": [
        {
          "output_type": "execute_result",
          "data": {
            "text/plain": [
              "Counter({'cletus_spuckler': 8,\n",
              "         'martin_prince': 23,\n",
              "         'patty_bouvier': 31,\n",
              "         'selma_bouvier': 36,\n",
              "         'troy_mcclure': 40})"
            ]
          },
          "metadata": {},
          "execution_count": 113
        }
      ]
    },
    {
      "cell_type": "code",
      "source": [
        "class_count = s\n",
        "class_weights = {i: 1/c for i, c in class_count.items()}\n",
        "print(class_weights)\n",
        "sample_weights = [0] * len(all)\n",
        "for i, (data, label) in enumerate(tqdm(all)):\n",
        "    class_weight = class_weights[label]\n",
        "    sample_weights[i] = class_weight\n",
        "\n",
        "N = int(max(class_count.values()) * len(class_count))  # fit to max\n",
        "train_sampler = WeightedRandomSampler(sample_weights, num_samples=N, replacement=True)\n",
        "# train_loader = DataLoader(train_dataset, batch_size=BATCH_SIZE, sampler=train_sampler, num_workers=N_CORES)"
      ],
      "metadata": {
        "colab": {
          "base_uri": "https://localhost:8080/",
          "height": 87,
          "referenced_widgets": [
            "038bb2cead94403fb307ac2b64b4f6ec",
            "6d122c73abd94d5a979c3ace9a10556f",
            "ebe437d473194481a7809be5a464c1d0",
            "276d02abd69e4eba87b189997d1e4ff9",
            "f0b461f4396047ee873cccbe56985e18",
            "4932cee31465496982b45100c1558483",
            "017ae6e95bff4ca496a2a721b45525c0",
            "e529f2a3ca2c448e8c4dfdb786d46f51",
            "0ad87c16f36447db80ff140e3e347b54",
            "95a67acded6b427e99c662a3eb20e545",
            "2d78b4fb361342888b692af9f625c5db"
          ]
        },
        "id": "ii7szmmL8Z-w",
        "outputId": "c1818d6a-16ad-4fc7-aa26-52b198355cbe"
      },
      "execution_count": null,
      "outputs": [
        {
          "output_type": "stream",
          "name": "stdout",
          "text": [
            "{3: 0.01020408163265306, 5: 0.009708737864077669, 14: 0.009433962264150943, 18: 0.008264462809917356, 21: 0.0078125, 24: 0.0055248618784530384, 29: 0.0040650406504065045, 36: 0.0032258064516129032, 41: 0.002793296089385475}\n"
          ]
        },
        {
          "output_type": "display_data",
          "data": {
            "text/plain": [
              "  0%|          | 0/1651 [00:00<?, ?it/s]"
            ],
            "application/vnd.jupyter.widget-view+json": {
              "version_major": 2,
              "version_minor": 0,
              "model_id": "038bb2cead94403fb307ac2b64b4f6ec"
            }
          },
          "metadata": {}
        }
      ]
    },
    {
      "cell_type": "code",
      "source": [],
      "metadata": {
        "id": "C70c1DRY-dO6"
      },
      "execution_count": null,
      "outputs": []
    },
    {
      "cell_type": "code",
      "source": [
        "train_dop = DataLoader(all, batch_size=64, sampler=train_sampler)"
      ],
      "metadata": {
        "id": "0YIyk_iF8CfT"
      },
      "execution_count": null,
      "outputs": []
    },
    {
      "cell_type": "code",
      "source": [
        "len(train_dop)"
      ],
      "metadata": {
        "colab": {
          "base_uri": "https://localhost:8080/"
        },
        "id": "pgZ4C7Ty_n1U",
        "outputId": "dd269921-b472-4f9a-ba42-ce9156690959"
      },
      "execution_count": null,
      "outputs": [
        {
          "output_type": "execute_result",
          "data": {
            "text/plain": [
              "23"
            ]
          },
          "metadata": {},
          "execution_count": 181
        }
      ]
    },
    {
      "cell_type": "code",
      "source": [
        "model, hist = train(train_dop, scheduler, optimizer, model=model, epochs=3, batch_size=64)"
      ],
      "metadata": {
        "colab": {
          "base_uri": "https://localhost:8080/",
          "height": 231,
          "referenced_widgets": [
            "8555425a093748b38a11c840ad492e87",
            "fb1946b9af2749a9bfe1987dbd57df89",
            "2b6db0c6502c47e78fbbf03861c8cafc",
            "bea76b6672404033915e28088383b469",
            "f5992608bc2849da9ca4063241bfe014",
            "1cfebd9f1f9e44e7b51c9857ff73d335",
            "ff259f93d218425eae8796faba5295fe",
            "a3c6e2f5d4ac49b7835045fedcc17f85",
            "51d9efd3985d4a53b926f3638b198fc6",
            "9890d867758e4c1cace399c2934983ff",
            "54b4bb1aab6649318a15b626469ec421"
          ]
        },
        "id": "0ChHGuUW-e28",
        "outputId": "08b1ea2d-c83b-4386-f184-8da228438990"
      },
      "execution_count": null,
      "outputs": [
        {
          "output_type": "display_data",
          "data": {
            "text/plain": [
              "epoch:   0%|          | 0/3 [00:00<?, ?it/s]"
            ],
            "application/vnd.jupyter.widget-view+json": {
              "version_major": 2,
              "version_minor": 0,
              "model_id": "8555425a093748b38a11c840ad492e87"
            }
          },
          "metadata": {}
        },
        {
          "output_type": "stream",
          "name": "stdout",
          "text": [
            "loss 0.00947183089583394\n",
            "\n",
            "Epoch 001 train_loss: 0.0095 \n",
            "loss 0.016469639644299157\n",
            "\n",
            "Epoch 002 train_loss: 0.0165 \n",
            "loss 0.020245110305869514\n",
            "\n",
            "Epoch 003 train_loss: 0.0202 \n",
            "Best val Acc: 0.998209\n"
          ]
        }
      ]
    },
    {
      "cell_type": "markdown",
      "source": [
        "# Kaggle"
      ],
      "metadata": {
        "id": "1BwWtt-Gi9cU"
      }
    },
    {
      "cell_type": "markdown",
      "source": [
        "train_dataset - объект imagefolder"
      ],
      "metadata": {
        "id": "AhwVWT0WIusD"
      }
    },
    {
      "cell_type": "code",
      "source": [
        "class TestDataset(Dataset):\n",
        "    def __init__(self, files):\n",
        "        self.files = files\n",
        "\n",
        "    def __getitem__(self, index):\n",
        "        test_transforms = transforms.Compose([\n",
        "            transforms.Resize(size=(RESCALE_SIZE, RESCALE_SIZE)),\n",
        "            transforms.Lambda(lambda x: np.array(x, dtype=\"float32\") / 255),\n",
        "            transforms.ToTensor(),\n",
        "            transforms.Normalize([0.485, 0.456, 0.406], [0.229, 0.224, 0.225]) ,\n",
        "        ])\n",
        "        img = Image.open(self.files[index]).convert('RGB')\n",
        "        return test_transforms(img)\n",
        "\n",
        "    def __len__(self):\n",
        "        return len(self.files)"
      ],
      "metadata": {
        "id": "jrmcMiNPCRbk"
      },
      "execution_count": null,
      "outputs": []
    },
    {
      "cell_type": "code",
      "source": [
        "test_dataset = TestDataset(test_files)\n",
        "test_loader = DataLoader(test_dataset, shuffle=False, batch_size=64)\n",
        "probs = predict(model, test_loader)"
      ],
      "metadata": {
        "id": "Ec63g5GdIthG"
      },
      "execution_count": null,
      "outputs": []
    },
    {
      "cell_type": "code",
      "source": [
        "train_dataset = datasets.ImageFolder(root=TRAIN_DIR, transform=train_transforms)"
      ],
      "metadata": {
        "id": "QOOblB-pKGMk"
      },
      "execution_count": null,
      "outputs": []
    },
    {
      "cell_type": "code",
      "source": [
        "preds = [train_dataset.classes[i] for i in probs.argmax(axis=-1)]\n",
        "test_filenames = [path.name for path in test_dataset.files]"
      ],
      "metadata": {
        "id": "Ya0YlMBWEuDJ"
      },
      "execution_count": null,
      "outputs": []
    },
    {
      "cell_type": "code",
      "metadata": {
        "id": "yw0zZ-Hdd89s",
        "colab": {
          "base_uri": "https://localhost:8080/",
          "height": 206
        },
        "outputId": "5d91934b-7241-4611-854c-e2b281f4a248"
      },
      "source": [
        "import pandas as pd\n",
        "\n",
        "my_submit = pd.read_csv(\"gdrive/My Drive/deep learning school/sample_submission.csv\")\n",
        "my_submit = pd.DataFrame({'id': test_filenames, 'Expected': preds})\n",
        "my_submit.head()"
      ],
      "execution_count": null,
      "outputs": [
        {
          "output_type": "execute_result",
          "data": {
            "text/plain": [
              "           id                Expected\n",
              "0    img0.jpg            nelson_muntz\n",
              "1    img1.jpg            bart_simpson\n",
              "2   img10.jpg            ned_flanders\n",
              "3  img100.jpg            chief_wiggum\n",
              "4  img101.jpg  apu_nahasapeemapetilon"
            ],
            "text/html": [
              "\n",
              "  <div id=\"df-bf662da7-5ab7-43ee-9965-ea5fd45234cc\">\n",
              "    <div class=\"colab-df-container\">\n",
              "      <div>\n",
              "<style scoped>\n",
              "    .dataframe tbody tr th:only-of-type {\n",
              "        vertical-align: middle;\n",
              "    }\n",
              "\n",
              "    .dataframe tbody tr th {\n",
              "        vertical-align: top;\n",
              "    }\n",
              "\n",
              "    .dataframe thead th {\n",
              "        text-align: right;\n",
              "    }\n",
              "</style>\n",
              "<table border=\"1\" class=\"dataframe\">\n",
              "  <thead>\n",
              "    <tr style=\"text-align: right;\">\n",
              "      <th></th>\n",
              "      <th>id</th>\n",
              "      <th>Expected</th>\n",
              "    </tr>\n",
              "  </thead>\n",
              "  <tbody>\n",
              "    <tr>\n",
              "      <th>0</th>\n",
              "      <td>img0.jpg</td>\n",
              "      <td>nelson_muntz</td>\n",
              "    </tr>\n",
              "    <tr>\n",
              "      <th>1</th>\n",
              "      <td>img1.jpg</td>\n",
              "      <td>bart_simpson</td>\n",
              "    </tr>\n",
              "    <tr>\n",
              "      <th>2</th>\n",
              "      <td>img10.jpg</td>\n",
              "      <td>ned_flanders</td>\n",
              "    </tr>\n",
              "    <tr>\n",
              "      <th>3</th>\n",
              "      <td>img100.jpg</td>\n",
              "      <td>chief_wiggum</td>\n",
              "    </tr>\n",
              "    <tr>\n",
              "      <th>4</th>\n",
              "      <td>img101.jpg</td>\n",
              "      <td>apu_nahasapeemapetilon</td>\n",
              "    </tr>\n",
              "  </tbody>\n",
              "</table>\n",
              "</div>\n",
              "      <button class=\"colab-df-convert\" onclick=\"convertToInteractive('df-bf662da7-5ab7-43ee-9965-ea5fd45234cc')\"\n",
              "              title=\"Convert this dataframe to an interactive table.\"\n",
              "              style=\"display:none;\">\n",
              "        \n",
              "  <svg xmlns=\"http://www.w3.org/2000/svg\" height=\"24px\"viewBox=\"0 0 24 24\"\n",
              "       width=\"24px\">\n",
              "    <path d=\"M0 0h24v24H0V0z\" fill=\"none\"/>\n",
              "    <path d=\"M18.56 5.44l.94 2.06.94-2.06 2.06-.94-2.06-.94-.94-2.06-.94 2.06-2.06.94zm-11 1L8.5 8.5l.94-2.06 2.06-.94-2.06-.94L8.5 2.5l-.94 2.06-2.06.94zm10 10l.94 2.06.94-2.06 2.06-.94-2.06-.94-.94-2.06-.94 2.06-2.06.94z\"/><path d=\"M17.41 7.96l-1.37-1.37c-.4-.4-.92-.59-1.43-.59-.52 0-1.04.2-1.43.59L10.3 9.45l-7.72 7.72c-.78.78-.78 2.05 0 2.83L4 21.41c.39.39.9.59 1.41.59.51 0 1.02-.2 1.41-.59l7.78-7.78 2.81-2.81c.8-.78.8-2.07 0-2.86zM5.41 20L4 18.59l7.72-7.72 1.47 1.35L5.41 20z\"/>\n",
              "  </svg>\n",
              "      </button>\n",
              "      \n",
              "  <style>\n",
              "    .colab-df-container {\n",
              "      display:flex;\n",
              "      flex-wrap:wrap;\n",
              "      gap: 12px;\n",
              "    }\n",
              "\n",
              "    .colab-df-convert {\n",
              "      background-color: #E8F0FE;\n",
              "      border: none;\n",
              "      border-radius: 50%;\n",
              "      cursor: pointer;\n",
              "      display: none;\n",
              "      fill: #1967D2;\n",
              "      height: 32px;\n",
              "      padding: 0 0 0 0;\n",
              "      width: 32px;\n",
              "    }\n",
              "\n",
              "    .colab-df-convert:hover {\n",
              "      background-color: #E2EBFA;\n",
              "      box-shadow: 0px 1px 2px rgba(60, 64, 67, 0.3), 0px 1px 3px 1px rgba(60, 64, 67, 0.15);\n",
              "      fill: #174EA6;\n",
              "    }\n",
              "\n",
              "    [theme=dark] .colab-df-convert {\n",
              "      background-color: #3B4455;\n",
              "      fill: #D2E3FC;\n",
              "    }\n",
              "\n",
              "    [theme=dark] .colab-df-convert:hover {\n",
              "      background-color: #434B5C;\n",
              "      box-shadow: 0px 1px 3px 1px rgba(0, 0, 0, 0.15);\n",
              "      filter: drop-shadow(0px 1px 2px rgba(0, 0, 0, 0.3));\n",
              "      fill: #FFFFFF;\n",
              "    }\n",
              "  </style>\n",
              "\n",
              "      <script>\n",
              "        const buttonEl =\n",
              "          document.querySelector('#df-bf662da7-5ab7-43ee-9965-ea5fd45234cc button.colab-df-convert');\n",
              "        buttonEl.style.display =\n",
              "          google.colab.kernel.accessAllowed ? 'block' : 'none';\n",
              "\n",
              "        async function convertToInteractive(key) {\n",
              "          const element = document.querySelector('#df-bf662da7-5ab7-43ee-9965-ea5fd45234cc');\n",
              "          const dataTable =\n",
              "            await google.colab.kernel.invokeFunction('convertToInteractive',\n",
              "                                                     [key], {});\n",
              "          if (!dataTable) return;\n",
              "\n",
              "          const docLinkHtml = 'Like what you see? Visit the ' +\n",
              "            '<a target=\"_blank\" href=https://colab.research.google.com/notebooks/data_table.ipynb>data table notebook</a>'\n",
              "            + ' to learn more about interactive tables.';\n",
              "          element.innerHTML = '';\n",
              "          dataTable['output_type'] = 'display_data';\n",
              "          await google.colab.output.renderOutput(dataTable, element);\n",
              "          const docLink = document.createElement('div');\n",
              "          docLink.innerHTML = docLinkHtml;\n",
              "          element.appendChild(docLink);\n",
              "        }\n",
              "      </script>\n",
              "    </div>\n",
              "  </div>\n",
              "  "
            ]
          },
          "metadata": {},
          "execution_count": 231
        }
      ]
    },
    {
      "cell_type": "code",
      "metadata": {
        "id": "5rdlyMKtiYe2"
      },
      "source": [
        "my_submit.to_csv('simple_cnn_baseline.csv', index=False)"
      ],
      "execution_count": null,
      "outputs": []
    },
    {
      "cell_type": "markdown",
      "source": [
        "![image.png](data:image/png;base64,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)"
      ],
      "metadata": {
        "id": "7Ids85-nI3VB"
      }
    },
    {
      "cell_type": "markdown",
      "source": [
        "Для достижения лучшего качества можно доучить модель на аугументированных данных и добавить в даталоудер sampler"
      ],
      "metadata": {
        "id": "q6SVBtu1JLJr"
      }
    }
  ],
  "metadata": {
    "accelerator": "GPU",
    "colab": {
      "provenance": [],
      "collapsed_sections": [
        "HU773ViszpWY"
      ]
    },
    "kernelspec": {
      "display_name": "Python 3",
      "name": "python3"
    },
    "widgets": {
      "application/vnd.jupyter.widget-state+json": {
        "c9a4b16cb4c24eecb670b7cd2e7409b7": {
          "model_module": "@jupyter-widgets/controls",
          "model_name": "HBoxModel",
          "model_module_version": "1.5.0",
          "state": {
            "_dom_classes": [],
            "_model_module": "@jupyter-widgets/controls",
            "_model_module_version": "1.5.0",
            "_model_name": "HBoxModel",
            "_view_count": null,
            "_view_module": "@jupyter-widgets/controls",
            "_view_module_version": "1.5.0",
            "_view_name": "HBoxView",
            "box_style": "",
            "children": [
              "IPY_MODEL_ff8beda312e04db39854b1e9d0cb3053",
              "IPY_MODEL_fe3ce54533e341f9ab8d96c5b29edb8e",
              "IPY_MODEL_782217c09169418e95e33cd968fc9f15"
            ],
            "layout": "IPY_MODEL_2e44834a4f114432aa76fd2fadce15d0"
          }
        },
        "ff8beda312e04db39854b1e9d0cb3053": {
          "model_module": "@jupyter-widgets/controls",
          "model_name": "HTMLModel",
          "model_module_version": "1.5.0",
          "state": {
            "_dom_classes": [],
            "_model_module": "@jupyter-widgets/controls",
            "_model_module_version": "1.5.0",
            "_model_name": "HTMLModel",
            "_view_count": null,
            "_view_module": "@jupyter-widgets/controls",
            "_view_module_version": "1.5.0",
            "_view_name": "HTMLView",
            "description": "",
            "description_tooltip": null,
            "layout": "IPY_MODEL_bcb8239c3ae4461d977695d36d143104",
            "placeholder": "​",
            "style": "IPY_MODEL_425ec57e51734f16a5740c079ee26ce7",
            "value": "100%"
          }
        },
        "fe3ce54533e341f9ab8d96c5b29edb8e": {
          "model_module": "@jupyter-widgets/controls",
          "model_name": "FloatProgressModel",
          "model_module_version": "1.5.0",
          "state": {
            "_dom_classes": [],
            "_model_module": "@jupyter-widgets/controls",
            "_model_module_version": "1.5.0",
            "_model_name": "FloatProgressModel",
            "_view_count": null,
            "_view_module": "@jupyter-widgets/controls",
            "_view_module_version": "1.5.0",
            "_view_name": "ProgressView",
            "bar_style": "success",
            "description": "",
            "description_tooltip": null,
            "layout": "IPY_MODEL_ca9090f3ba1b4ddf9ffd601777137c02",
            "max": 86721253,
            "min": 0,
            "orientation": "horizontal",
            "style": "IPY_MODEL_4243ddd0932740aa9045e0b2bbfe5e5b",
            "value": 86721253
          }
        },
        "782217c09169418e95e33cd968fc9f15": {
          "model_module": "@jupyter-widgets/controls",
          "model_name": "HTMLModel",
          "model_module_version": "1.5.0",
          "state": {
            "_dom_classes": [],
            "_model_module": "@jupyter-widgets/controls",
            "_model_module_version": "1.5.0",
            "_model_name": "HTMLModel",
            "_view_count": null,
            "_view_module": "@jupyter-widgets/controls",
            "_view_module_version": "1.5.0",
            "_view_name": "HTMLView",
            "description": "",
            "description_tooltip": null,
            "layout": "IPY_MODEL_a2a129b37b204cdab541107ea7498b70",
            "placeholder": "​",
            "style": "IPY_MODEL_e1520c415bea47bfa599c30ad84cf956",
            "value": " 82.7M/82.7M [00:01&lt;00:00, 61.1MB/s]"
          }
        },
        "2e44834a4f114432aa76fd2fadce15d0": {
          "model_module": "@jupyter-widgets/base",
          "model_name": "LayoutModel",
          "model_module_version": "1.2.0",
          "state": {
            "_model_module": "@jupyter-widgets/base",
            "_model_module_version": "1.2.0",
            "_model_name": "LayoutModel",
            "_view_count": null,
            "_view_module": "@jupyter-widgets/base",
            "_view_module_version": "1.2.0",
            "_view_name": "LayoutView",
            "align_content": null,
            "align_items": null,
            "align_self": null,
            "border": null,
            "bottom": null,
            "display": null,
            "flex": null,
            "flex_flow": null,
            "grid_area": null,
            "grid_auto_columns": null,
            "grid_auto_flow": null,
            "grid_auto_rows": null,
            "grid_column": null,
            "grid_gap": null,
            "grid_row": null,
            "grid_template_areas": null,
            "grid_template_columns": null,
            "grid_template_rows": null,
            "height": null,
            "justify_content": null,
            "justify_items": null,
            "left": null,
            "margin": null,
            "max_height": null,
            "max_width": null,
            "min_height": null,
            "min_width": null,
            "object_fit": null,
            "object_position": null,
            "order": null,
            "overflow": null,
            "overflow_x": null,
            "overflow_y": null,
            "padding": null,
            "right": null,
            "top": null,
            "visibility": null,
            "width": null
          }
        },
        "bcb8239c3ae4461d977695d36d143104": {
          "model_module": "@jupyter-widgets/base",
          "model_name": "LayoutModel",
          "model_module_version": "1.2.0",
          "state": {
            "_model_module": "@jupyter-widgets/base",
            "_model_module_version": "1.2.0",
            "_model_name": "LayoutModel",
            "_view_count": null,
            "_view_module": "@jupyter-widgets/base",
            "_view_module_version": "1.2.0",
            "_view_name": "LayoutView",
            "align_content": null,
            "align_items": null,
            "align_self": null,
            "border": null,
            "bottom": null,
            "display": null,
            "flex": null,
            "flex_flow": null,
            "grid_area": null,
            "grid_auto_columns": null,
            "grid_auto_flow": null,
            "grid_auto_rows": null,
            "grid_column": null,
            "grid_gap": null,
            "grid_row": null,
            "grid_template_areas": null,
            "grid_template_columns": null,
            "grid_template_rows": null,
            "height": null,
            "justify_content": null,
            "justify_items": null,
            "left": null,
            "margin": null,
            "max_height": null,
            "max_width": null,
            "min_height": null,
            "min_width": null,
            "object_fit": null,
            "object_position": null,
            "order": null,
            "overflow": null,
            "overflow_x": null,
            "overflow_y": null,
            "padding": null,
            "right": null,
            "top": null,
            "visibility": null,
            "width": null
          }
        },
        "425ec57e51734f16a5740c079ee26ce7": {
          "model_module": "@jupyter-widgets/controls",
          "model_name": "DescriptionStyleModel",
          "model_module_version": "1.5.0",
          "state": {
            "_model_module": "@jupyter-widgets/controls",
            "_model_module_version": "1.5.0",
            "_model_name": "DescriptionStyleModel",
            "_view_count": null,
            "_view_module": "@jupyter-widgets/base",
            "_view_module_version": "1.2.0",
            "_view_name": "StyleView",
            "description_width": ""
          }
        },
        "ca9090f3ba1b4ddf9ffd601777137c02": {
          "model_module": "@jupyter-widgets/base",
          "model_name": "LayoutModel",
          "model_module_version": "1.2.0",
          "state": {
            "_model_module": "@jupyter-widgets/base",
            "_model_module_version": "1.2.0",
            "_model_name": "LayoutModel",
            "_view_count": null,
            "_view_module": "@jupyter-widgets/base",
            "_view_module_version": "1.2.0",
            "_view_name": "LayoutView",
            "align_content": null,
            "align_items": null,
            "align_self": null,
            "border": null,
            "bottom": null,
            "display": null,
            "flex": null,
            "flex_flow": null,
            "grid_area": null,
            "grid_auto_columns": null,
            "grid_auto_flow": null,
            "grid_auto_rows": null,
            "grid_column": null,
            "grid_gap": null,
            "grid_row": null,
            "grid_template_areas": null,
            "grid_template_columns": null,
            "grid_template_rows": null,
            "height": null,
            "justify_content": null,
            "justify_items": null,
            "left": null,
            "margin": null,
            "max_height": null,
            "max_width": null,
            "min_height": null,
            "min_width": null,
            "object_fit": null,
            "object_position": null,
            "order": null,
            "overflow": null,
            "overflow_x": null,
            "overflow_y": null,
            "padding": null,
            "right": null,
            "top": null,
            "visibility": null,
            "width": null
          }
        },
        "4243ddd0932740aa9045e0b2bbfe5e5b": {
          "model_module": "@jupyter-widgets/controls",
          "model_name": "ProgressStyleModel",
          "model_module_version": "1.5.0",
          "state": {
            "_model_module": "@jupyter-widgets/controls",
            "_model_module_version": "1.5.0",
            "_model_name": "ProgressStyleModel",
            "_view_count": null,
            "_view_module": "@jupyter-widgets/base",
            "_view_module_version": "1.2.0",
            "_view_name": "StyleView",
            "bar_color": null,
            "description_width": ""
          }
        },
        "a2a129b37b204cdab541107ea7498b70": {
          "model_module": "@jupyter-widgets/base",
          "model_name": "LayoutModel",
          "model_module_version": "1.2.0",
          "state": {
            "_model_module": "@jupyter-widgets/base",
            "_model_module_version": "1.2.0",
            "_model_name": "LayoutModel",
            "_view_count": null,
            "_view_module": "@jupyter-widgets/base",
            "_view_module_version": "1.2.0",
            "_view_name": "LayoutView",
            "align_content": null,
            "align_items": null,
            "align_self": null,
            "border": null,
            "bottom": null,
            "display": null,
            "flex": null,
            "flex_flow": null,
            "grid_area": null,
            "grid_auto_columns": null,
            "grid_auto_flow": null,
            "grid_auto_rows": null,
            "grid_column": null,
            "grid_gap": null,
            "grid_row": null,
            "grid_template_areas": null,
            "grid_template_columns": null,
            "grid_template_rows": null,
            "height": null,
            "justify_content": null,
            "justify_items": null,
            "left": null,
            "margin": null,
            "max_height": null,
            "max_width": null,
            "min_height": null,
            "min_width": null,
            "object_fit": null,
            "object_position": null,
            "order": null,
            "overflow": null,
            "overflow_x": null,
            "overflow_y": null,
            "padding": null,
            "right": null,
            "top": null,
            "visibility": null,
            "width": null
          }
        },
        "e1520c415bea47bfa599c30ad84cf956": {
          "model_module": "@jupyter-widgets/controls",
          "model_name": "DescriptionStyleModel",
          "model_module_version": "1.5.0",
          "state": {
            "_model_module": "@jupyter-widgets/controls",
            "_model_module_version": "1.5.0",
            "_model_name": "DescriptionStyleModel",
            "_view_count": null,
            "_view_module": "@jupyter-widgets/base",
            "_view_module_version": "1.2.0",
            "_view_name": "StyleView",
            "description_width": ""
          }
        },
        "7d618b09eec64c4d87ae8abaff4798a1": {
          "model_module": "@jupyter-widgets/controls",
          "model_name": "HBoxModel",
          "model_module_version": "1.5.0",
          "state": {
            "_dom_classes": [],
            "_model_module": "@jupyter-widgets/controls",
            "_model_module_version": "1.5.0",
            "_model_name": "HBoxModel",
            "_view_count": null,
            "_view_module": "@jupyter-widgets/controls",
            "_view_module_version": "1.5.0",
            "_view_name": "HBoxView",
            "box_style": "",
            "children": [
              "IPY_MODEL_855f9ebfc23c42f3964f8ac5c361b45c",
              "IPY_MODEL_2243f23371c94634beb796b9354b4a99",
              "IPY_MODEL_a63104fc8bdf4dc3b08a30e5c15ddf51"
            ],
            "layout": "IPY_MODEL_720c8104ada14bb18f102fa9a20eb303"
          }
        },
        "855f9ebfc23c42f3964f8ac5c361b45c": {
          "model_module": "@jupyter-widgets/controls",
          "model_name": "HTMLModel",
          "model_module_version": "1.5.0",
          "state": {
            "_dom_classes": [],
            "_model_module": "@jupyter-widgets/controls",
            "_model_module_version": "1.5.0",
            "_model_name": "HTMLModel",
            "_view_count": null,
            "_view_module": "@jupyter-widgets/controls",
            "_view_module_version": "1.5.0",
            "_view_name": "HTMLView",
            "description": "",
            "description_tooltip": null,
            "layout": "IPY_MODEL_8df1eb55d91049bbac831999c63160c7",
            "placeholder": "​",
            "style": "IPY_MODEL_e3169e3edaa843ecb3561ac560be1546",
            "value": "epoch: 100%"
          }
        },
        "2243f23371c94634beb796b9354b4a99": {
          "model_module": "@jupyter-widgets/controls",
          "model_name": "FloatProgressModel",
          "model_module_version": "1.5.0",
          "state": {
            "_dom_classes": [],
            "_model_module": "@jupyter-widgets/controls",
            "_model_module_version": "1.5.0",
            "_model_name": "FloatProgressModel",
            "_view_count": null,
            "_view_module": "@jupyter-widgets/controls",
            "_view_module_version": "1.5.0",
            "_view_name": "ProgressView",
            "bar_style": "success",
            "description": "",
            "description_tooltip": null,
            "layout": "IPY_MODEL_4f10eacc79904e14aca5fb887b61158a",
            "max": 5,
            "min": 0,
            "orientation": "horizontal",
            "style": "IPY_MODEL_b5fb418a02be44b2b7dda878bb8b591d",
            "value": 5
          }
        },
        "a63104fc8bdf4dc3b08a30e5c15ddf51": {
          "model_module": "@jupyter-widgets/controls",
          "model_name": "HTMLModel",
          "model_module_version": "1.5.0",
          "state": {
            "_dom_classes": [],
            "_model_module": "@jupyter-widgets/controls",
            "_model_module_version": "1.5.0",
            "_model_name": "HTMLModel",
            "_view_count": null,
            "_view_module": "@jupyter-widgets/controls",
            "_view_module_version": "1.5.0",
            "_view_name": "HTMLView",
            "description": "",
            "description_tooltip": null,
            "layout": "IPY_MODEL_95599004dd4e4c3aba43f4c07b3c9b38",
            "placeholder": "​",
            "style": "IPY_MODEL_6c64c64d2a8344289356b2e282278705",
            "value": " 5/5 [28:43&lt;00:00, 341.79s/it]"
          }
        },
        "720c8104ada14bb18f102fa9a20eb303": {
          "model_module": "@jupyter-widgets/base",
          "model_name": "LayoutModel",
          "model_module_version": "1.2.0",
          "state": {
            "_model_module": "@jupyter-widgets/base",
            "_model_module_version": "1.2.0",
            "_model_name": "LayoutModel",
            "_view_count": null,
            "_view_module": "@jupyter-widgets/base",
            "_view_module_version": "1.2.0",
            "_view_name": "LayoutView",
            "align_content": null,
            "align_items": null,
            "align_self": null,
            "border": null,
            "bottom": null,
            "display": null,
            "flex": null,
            "flex_flow": null,
            "grid_area": null,
            "grid_auto_columns": null,
            "grid_auto_flow": null,
            "grid_auto_rows": null,
            "grid_column": null,
            "grid_gap": null,
            "grid_row": null,
            "grid_template_areas": null,
            "grid_template_columns": null,
            "grid_template_rows": null,
            "height": null,
            "justify_content": null,
            "justify_items": null,
            "left": null,
            "margin": null,
            "max_height": null,
            "max_width": null,
            "min_height": null,
            "min_width": null,
            "object_fit": null,
            "object_position": null,
            "order": null,
            "overflow": null,
            "overflow_x": null,
            "overflow_y": null,
            "padding": null,
            "right": null,
            "top": null,
            "visibility": null,
            "width": null
          }
        },
        "8df1eb55d91049bbac831999c63160c7": {
          "model_module": "@jupyter-widgets/base",
          "model_name": "LayoutModel",
          "model_module_version": "1.2.0",
          "state": {
            "_model_module": "@jupyter-widgets/base",
            "_model_module_version": "1.2.0",
            "_model_name": "LayoutModel",
            "_view_count": null,
            "_view_module": "@jupyter-widgets/base",
            "_view_module_version": "1.2.0",
            "_view_name": "LayoutView",
            "align_content": null,
            "align_items": null,
            "align_self": null,
            "border": null,
            "bottom": null,
            "display": null,
            "flex": null,
            "flex_flow": null,
            "grid_area": null,
            "grid_auto_columns": null,
            "grid_auto_flow": null,
            "grid_auto_rows": null,
            "grid_column": null,
            "grid_gap": null,
            "grid_row": null,
            "grid_template_areas": null,
            "grid_template_columns": null,
            "grid_template_rows": null,
            "height": null,
            "justify_content": null,
            "justify_items": null,
            "left": null,
            "margin": null,
            "max_height": null,
            "max_width": null,
            "min_height": null,
            "min_width": null,
            "object_fit": null,
            "object_position": null,
            "order": null,
            "overflow": null,
            "overflow_x": null,
            "overflow_y": null,
            "padding": null,
            "right": null,
            "top": null,
            "visibility": null,
            "width": null
          }
        },
        "e3169e3edaa843ecb3561ac560be1546": {
          "model_module": "@jupyter-widgets/controls",
          "model_name": "DescriptionStyleModel",
          "model_module_version": "1.5.0",
          "state": {
            "_model_module": "@jupyter-widgets/controls",
            "_model_module_version": "1.5.0",
            "_model_name": "DescriptionStyleModel",
            "_view_count": null,
            "_view_module": "@jupyter-widgets/base",
            "_view_module_version": "1.2.0",
            "_view_name": "StyleView",
            "description_width": ""
          }
        },
        "4f10eacc79904e14aca5fb887b61158a": {
          "model_module": "@jupyter-widgets/base",
          "model_name": "LayoutModel",
          "model_module_version": "1.2.0",
          "state": {
            "_model_module": "@jupyter-widgets/base",
            "_model_module_version": "1.2.0",
            "_model_name": "LayoutModel",
            "_view_count": null,
            "_view_module": "@jupyter-widgets/base",
            "_view_module_version": "1.2.0",
            "_view_name": "LayoutView",
            "align_content": null,
            "align_items": null,
            "align_self": null,
            "border": null,
            "bottom": null,
            "display": null,
            "flex": null,
            "flex_flow": null,
            "grid_area": null,
            "grid_auto_columns": null,
            "grid_auto_flow": null,
            "grid_auto_rows": null,
            "grid_column": null,
            "grid_gap": null,
            "grid_row": null,
            "grid_template_areas": null,
            "grid_template_columns": null,
            "grid_template_rows": null,
            "height": null,
            "justify_content": null,
            "justify_items": null,
            "left": null,
            "margin": null,
            "max_height": null,
            "max_width": null,
            "min_height": null,
            "min_width": null,
            "object_fit": null,
            "object_position": null,
            "order": null,
            "overflow": null,
            "overflow_x": null,
            "overflow_y": null,
            "padding": null,
            "right": null,
            "top": null,
            "visibility": null,
            "width": null
          }
        },
        "b5fb418a02be44b2b7dda878bb8b591d": {
          "model_module": "@jupyter-widgets/controls",
          "model_name": "ProgressStyleModel",
          "model_module_version": "1.5.0",
          "state": {
            "_model_module": "@jupyter-widgets/controls",
            "_model_module_version": "1.5.0",
            "_model_name": "ProgressStyleModel",
            "_view_count": null,
            "_view_module": "@jupyter-widgets/base",
            "_view_module_version": "1.2.0",
            "_view_name": "StyleView",
            "bar_color": null,
            "description_width": ""
          }
        },
        "95599004dd4e4c3aba43f4c07b3c9b38": {
          "model_module": "@jupyter-widgets/base",
          "model_name": "LayoutModel",
          "model_module_version": "1.2.0",
          "state": {
            "_model_module": "@jupyter-widgets/base",
            "_model_module_version": "1.2.0",
            "_model_name": "LayoutModel",
            "_view_count": null,
            "_view_module": "@jupyter-widgets/base",
            "_view_module_version": "1.2.0",
            "_view_name": "LayoutView",
            "align_content": null,
            "align_items": null,
            "align_self": null,
            "border": null,
            "bottom": null,
            "display": null,
            "flex": null,
            "flex_flow": null,
            "grid_area": null,
            "grid_auto_columns": null,
            "grid_auto_flow": null,
            "grid_auto_rows": null,
            "grid_column": null,
            "grid_gap": null,
            "grid_row": null,
            "grid_template_areas": null,
            "grid_template_columns": null,
            "grid_template_rows": null,
            "height": null,
            "justify_content": null,
            "justify_items": null,
            "left": null,
            "margin": null,
            "max_height": null,
            "max_width": null,
            "min_height": null,
            "min_width": null,
            "object_fit": null,
            "object_position": null,
            "order": null,
            "overflow": null,
            "overflow_x": null,
            "overflow_y": null,
            "padding": null,
            "right": null,
            "top": null,
            "visibility": null,
            "width": null
          }
        },
        "6c64c64d2a8344289356b2e282278705": {
          "model_module": "@jupyter-widgets/controls",
          "model_name": "DescriptionStyleModel",
          "model_module_version": "1.5.0",
          "state": {
            "_model_module": "@jupyter-widgets/controls",
            "_model_module_version": "1.5.0",
            "_model_name": "DescriptionStyleModel",
            "_view_count": null,
            "_view_module": "@jupyter-widgets/base",
            "_view_module_version": "1.2.0",
            "_view_name": "StyleView",
            "description_width": ""
          }
        },
        "038bb2cead94403fb307ac2b64b4f6ec": {
          "model_module": "@jupyter-widgets/controls",
          "model_name": "HBoxModel",
          "model_module_version": "1.5.0",
          "state": {
            "_dom_classes": [],
            "_model_module": "@jupyter-widgets/controls",
            "_model_module_version": "1.5.0",
            "_model_name": "HBoxModel",
            "_view_count": null,
            "_view_module": "@jupyter-widgets/controls",
            "_view_module_version": "1.5.0",
            "_view_name": "HBoxView",
            "box_style": "",
            "children": [
              "IPY_MODEL_6d122c73abd94d5a979c3ace9a10556f",
              "IPY_MODEL_ebe437d473194481a7809be5a464c1d0",
              "IPY_MODEL_276d02abd69e4eba87b189997d1e4ff9"
            ],
            "layout": "IPY_MODEL_f0b461f4396047ee873cccbe56985e18"
          }
        },
        "6d122c73abd94d5a979c3ace9a10556f": {
          "model_module": "@jupyter-widgets/controls",
          "model_name": "HTMLModel",
          "model_module_version": "1.5.0",
          "state": {
            "_dom_classes": [],
            "_model_module": "@jupyter-widgets/controls",
            "_model_module_version": "1.5.0",
            "_model_name": "HTMLModel",
            "_view_count": null,
            "_view_module": "@jupyter-widgets/controls",
            "_view_module_version": "1.5.0",
            "_view_name": "HTMLView",
            "description": "",
            "description_tooltip": null,
            "layout": "IPY_MODEL_4932cee31465496982b45100c1558483",
            "placeholder": "​",
            "style": "IPY_MODEL_017ae6e95bff4ca496a2a721b45525c0",
            "value": "100%"
          }
        },
        "ebe437d473194481a7809be5a464c1d0": {
          "model_module": "@jupyter-widgets/controls",
          "model_name": "FloatProgressModel",
          "model_module_version": "1.5.0",
          "state": {
            "_dom_classes": [],
            "_model_module": "@jupyter-widgets/controls",
            "_model_module_version": "1.5.0",
            "_model_name": "FloatProgressModel",
            "_view_count": null,
            "_view_module": "@jupyter-widgets/controls",
            "_view_module_version": "1.5.0",
            "_view_name": "ProgressView",
            "bar_style": "success",
            "description": "",
            "description_tooltip": null,
            "layout": "IPY_MODEL_e529f2a3ca2c448e8c4dfdb786d46f51",
            "max": 1651,
            "min": 0,
            "orientation": "horizontal",
            "style": "IPY_MODEL_0ad87c16f36447db80ff140e3e347b54",
            "value": 1651
          }
        },
        "276d02abd69e4eba87b189997d1e4ff9": {
          "model_module": "@jupyter-widgets/controls",
          "model_name": "HTMLModel",
          "model_module_version": "1.5.0",
          "state": {
            "_dom_classes": [],
            "_model_module": "@jupyter-widgets/controls",
            "_model_module_version": "1.5.0",
            "_model_name": "HTMLModel",
            "_view_count": null,
            "_view_module": "@jupyter-widgets/controls",
            "_view_module_version": "1.5.0",
            "_view_name": "HTMLView",
            "description": "",
            "description_tooltip": null,
            "layout": "IPY_MODEL_95a67acded6b427e99c662a3eb20e545",
            "placeholder": "​",
            "style": "IPY_MODEL_2d78b4fb361342888b692af9f625c5db",
            "value": " 1651/1651 [00:00&lt;00:00, 35928.92it/s]"
          }
        },
        "f0b461f4396047ee873cccbe56985e18": {
          "model_module": "@jupyter-widgets/base",
          "model_name": "LayoutModel",
          "model_module_version": "1.2.0",
          "state": {
            "_model_module": "@jupyter-widgets/base",
            "_model_module_version": "1.2.0",
            "_model_name": "LayoutModel",
            "_view_count": null,
            "_view_module": "@jupyter-widgets/base",
            "_view_module_version": "1.2.0",
            "_view_name": "LayoutView",
            "align_content": null,
            "align_items": null,
            "align_self": null,
            "border": null,
            "bottom": null,
            "display": null,
            "flex": null,
            "flex_flow": null,
            "grid_area": null,
            "grid_auto_columns": null,
            "grid_auto_flow": null,
            "grid_auto_rows": null,
            "grid_column": null,
            "grid_gap": null,
            "grid_row": null,
            "grid_template_areas": null,
            "grid_template_columns": null,
            "grid_template_rows": null,
            "height": null,
            "justify_content": null,
            "justify_items": null,
            "left": null,
            "margin": null,
            "max_height": null,
            "max_width": null,
            "min_height": null,
            "min_width": null,
            "object_fit": null,
            "object_position": null,
            "order": null,
            "overflow": null,
            "overflow_x": null,
            "overflow_y": null,
            "padding": null,
            "right": null,
            "top": null,
            "visibility": null,
            "width": null
          }
        },
        "4932cee31465496982b45100c1558483": {
          "model_module": "@jupyter-widgets/base",
          "model_name": "LayoutModel",
          "model_module_version": "1.2.0",
          "state": {
            "_model_module": "@jupyter-widgets/base",
            "_model_module_version": "1.2.0",
            "_model_name": "LayoutModel",
            "_view_count": null,
            "_view_module": "@jupyter-widgets/base",
            "_view_module_version": "1.2.0",
            "_view_name": "LayoutView",
            "align_content": null,
            "align_items": null,
            "align_self": null,
            "border": null,
            "bottom": null,
            "display": null,
            "flex": null,
            "flex_flow": null,
            "grid_area": null,
            "grid_auto_columns": null,
            "grid_auto_flow": null,
            "grid_auto_rows": null,
            "grid_column": null,
            "grid_gap": null,
            "grid_row": null,
            "grid_template_areas": null,
            "grid_template_columns": null,
            "grid_template_rows": null,
            "height": null,
            "justify_content": null,
            "justify_items": null,
            "left": null,
            "margin": null,
            "max_height": null,
            "max_width": null,
            "min_height": null,
            "min_width": null,
            "object_fit": null,
            "object_position": null,
            "order": null,
            "overflow": null,
            "overflow_x": null,
            "overflow_y": null,
            "padding": null,
            "right": null,
            "top": null,
            "visibility": null,
            "width": null
          }
        },
        "017ae6e95bff4ca496a2a721b45525c0": {
          "model_module": "@jupyter-widgets/controls",
          "model_name": "DescriptionStyleModel",
          "model_module_version": "1.5.0",
          "state": {
            "_model_module": "@jupyter-widgets/controls",
            "_model_module_version": "1.5.0",
            "_model_name": "DescriptionStyleModel",
            "_view_count": null,
            "_view_module": "@jupyter-widgets/base",
            "_view_module_version": "1.2.0",
            "_view_name": "StyleView",
            "description_width": ""
          }
        },
        "e529f2a3ca2c448e8c4dfdb786d46f51": {
          "model_module": "@jupyter-widgets/base",
          "model_name": "LayoutModel",
          "model_module_version": "1.2.0",
          "state": {
            "_model_module": "@jupyter-widgets/base",
            "_model_module_version": "1.2.0",
            "_model_name": "LayoutModel",
            "_view_count": null,
            "_view_module": "@jupyter-widgets/base",
            "_view_module_version": "1.2.0",
            "_view_name": "LayoutView",
            "align_content": null,
            "align_items": null,
            "align_self": null,
            "border": null,
            "bottom": null,
            "display": null,
            "flex": null,
            "flex_flow": null,
            "grid_area": null,
            "grid_auto_columns": null,
            "grid_auto_flow": null,
            "grid_auto_rows": null,
            "grid_column": null,
            "grid_gap": null,
            "grid_row": null,
            "grid_template_areas": null,
            "grid_template_columns": null,
            "grid_template_rows": null,
            "height": null,
            "justify_content": null,
            "justify_items": null,
            "left": null,
            "margin": null,
            "max_height": null,
            "max_width": null,
            "min_height": null,
            "min_width": null,
            "object_fit": null,
            "object_position": null,
            "order": null,
            "overflow": null,
            "overflow_x": null,
            "overflow_y": null,
            "padding": null,
            "right": null,
            "top": null,
            "visibility": null,
            "width": null
          }
        },
        "0ad87c16f36447db80ff140e3e347b54": {
          "model_module": "@jupyter-widgets/controls",
          "model_name": "ProgressStyleModel",
          "model_module_version": "1.5.0",
          "state": {
            "_model_module": "@jupyter-widgets/controls",
            "_model_module_version": "1.5.0",
            "_model_name": "ProgressStyleModel",
            "_view_count": null,
            "_view_module": "@jupyter-widgets/base",
            "_view_module_version": "1.2.0",
            "_view_name": "StyleView",
            "bar_color": null,
            "description_width": ""
          }
        },
        "95a67acded6b427e99c662a3eb20e545": {
          "model_module": "@jupyter-widgets/base",
          "model_name": "LayoutModel",
          "model_module_version": "1.2.0",
          "state": {
            "_model_module": "@jupyter-widgets/base",
            "_model_module_version": "1.2.0",
            "_model_name": "LayoutModel",
            "_view_count": null,
            "_view_module": "@jupyter-widgets/base",
            "_view_module_version": "1.2.0",
            "_view_name": "LayoutView",
            "align_content": null,
            "align_items": null,
            "align_self": null,
            "border": null,
            "bottom": null,
            "display": null,
            "flex": null,
            "flex_flow": null,
            "grid_area": null,
            "grid_auto_columns": null,
            "grid_auto_flow": null,
            "grid_auto_rows": null,
            "grid_column": null,
            "grid_gap": null,
            "grid_row": null,
            "grid_template_areas": null,
            "grid_template_columns": null,
            "grid_template_rows": null,
            "height": null,
            "justify_content": null,
            "justify_items": null,
            "left": null,
            "margin": null,
            "max_height": null,
            "max_width": null,
            "min_height": null,
            "min_width": null,
            "object_fit": null,
            "object_position": null,
            "order": null,
            "overflow": null,
            "overflow_x": null,
            "overflow_y": null,
            "padding": null,
            "right": null,
            "top": null,
            "visibility": null,
            "width": null
          }
        },
        "2d78b4fb361342888b692af9f625c5db": {
          "model_module": "@jupyter-widgets/controls",
          "model_name": "DescriptionStyleModel",
          "model_module_version": "1.5.0",
          "state": {
            "_model_module": "@jupyter-widgets/controls",
            "_model_module_version": "1.5.0",
            "_model_name": "DescriptionStyleModel",
            "_view_count": null,
            "_view_module": "@jupyter-widgets/base",
            "_view_module_version": "1.2.0",
            "_view_name": "StyleView",
            "description_width": ""
          }
        },
        "8555425a093748b38a11c840ad492e87": {
          "model_module": "@jupyter-widgets/controls",
          "model_name": "HBoxModel",
          "model_module_version": "1.5.0",
          "state": {
            "_dom_classes": [],
            "_model_module": "@jupyter-widgets/controls",
            "_model_module_version": "1.5.0",
            "_model_name": "HBoxModel",
            "_view_count": null,
            "_view_module": "@jupyter-widgets/controls",
            "_view_module_version": "1.5.0",
            "_view_name": "HBoxView",
            "box_style": "",
            "children": [
              "IPY_MODEL_fb1946b9af2749a9bfe1987dbd57df89",
              "IPY_MODEL_2b6db0c6502c47e78fbbf03861c8cafc",
              "IPY_MODEL_bea76b6672404033915e28088383b469"
            ],
            "layout": "IPY_MODEL_f5992608bc2849da9ca4063241bfe014"
          }
        },
        "fb1946b9af2749a9bfe1987dbd57df89": {
          "model_module": "@jupyter-widgets/controls",
          "model_name": "HTMLModel",
          "model_module_version": "1.5.0",
          "state": {
            "_dom_classes": [],
            "_model_module": "@jupyter-widgets/controls",
            "_model_module_version": "1.5.0",
            "_model_name": "HTMLModel",
            "_view_count": null,
            "_view_module": "@jupyter-widgets/controls",
            "_view_module_version": "1.5.0",
            "_view_name": "HTMLView",
            "description": "",
            "description_tooltip": null,
            "layout": "IPY_MODEL_1cfebd9f1f9e44e7b51c9857ff73d335",
            "placeholder": "​",
            "style": "IPY_MODEL_ff259f93d218425eae8796faba5295fe",
            "value": "epoch: 100%"
          }
        },
        "2b6db0c6502c47e78fbbf03861c8cafc": {
          "model_module": "@jupyter-widgets/controls",
          "model_name": "FloatProgressModel",
          "model_module_version": "1.5.0",
          "state": {
            "_dom_classes": [],
            "_model_module": "@jupyter-widgets/controls",
            "_model_module_version": "1.5.0",
            "_model_name": "FloatProgressModel",
            "_view_count": null,
            "_view_module": "@jupyter-widgets/controls",
            "_view_module_version": "1.5.0",
            "_view_name": "ProgressView",
            "bar_style": "success",
            "description": "",
            "description_tooltip": null,
            "layout": "IPY_MODEL_a3c6e2f5d4ac49b7835045fedcc17f85",
            "max": 3,
            "min": 0,
            "orientation": "horizontal",
            "style": "IPY_MODEL_51d9efd3985d4a53b926f3638b198fc6",
            "value": 3
          }
        },
        "bea76b6672404033915e28088383b469": {
          "model_module": "@jupyter-widgets/controls",
          "model_name": "HTMLModel",
          "model_module_version": "1.5.0",
          "state": {
            "_dom_classes": [],
            "_model_module": "@jupyter-widgets/controls",
            "_model_module_version": "1.5.0",
            "_model_name": "HTMLModel",
            "_view_count": null,
            "_view_module": "@jupyter-widgets/controls",
            "_view_module_version": "1.5.0",
            "_view_name": "HTMLView",
            "description": "",
            "description_tooltip": null,
            "layout": "IPY_MODEL_9890d867758e4c1cace399c2934983ff",
            "placeholder": "​",
            "style": "IPY_MODEL_54b4bb1aab6649318a15b626469ec421",
            "value": " 3/3 [16:36&lt;00:00, 331.96s/it]"
          }
        },
        "f5992608bc2849da9ca4063241bfe014": {
          "model_module": "@jupyter-widgets/base",
          "model_name": "LayoutModel",
          "model_module_version": "1.2.0",
          "state": {
            "_model_module": "@jupyter-widgets/base",
            "_model_module_version": "1.2.0",
            "_model_name": "LayoutModel",
            "_view_count": null,
            "_view_module": "@jupyter-widgets/base",
            "_view_module_version": "1.2.0",
            "_view_name": "LayoutView",
            "align_content": null,
            "align_items": null,
            "align_self": null,
            "border": null,
            "bottom": null,
            "display": null,
            "flex": null,
            "flex_flow": null,
            "grid_area": null,
            "grid_auto_columns": null,
            "grid_auto_flow": null,
            "grid_auto_rows": null,
            "grid_column": null,
            "grid_gap": null,
            "grid_row": null,
            "grid_template_areas": null,
            "grid_template_columns": null,
            "grid_template_rows": null,
            "height": null,
            "justify_content": null,
            "justify_items": null,
            "left": null,
            "margin": null,
            "max_height": null,
            "max_width": null,
            "min_height": null,
            "min_width": null,
            "object_fit": null,
            "object_position": null,
            "order": null,
            "overflow": null,
            "overflow_x": null,
            "overflow_y": null,
            "padding": null,
            "right": null,
            "top": null,
            "visibility": null,
            "width": null
          }
        },
        "1cfebd9f1f9e44e7b51c9857ff73d335": {
          "model_module": "@jupyter-widgets/base",
          "model_name": "LayoutModel",
          "model_module_version": "1.2.0",
          "state": {
            "_model_module": "@jupyter-widgets/base",
            "_model_module_version": "1.2.0",
            "_model_name": "LayoutModel",
            "_view_count": null,
            "_view_module": "@jupyter-widgets/base",
            "_view_module_version": "1.2.0",
            "_view_name": "LayoutView",
            "align_content": null,
            "align_items": null,
            "align_self": null,
            "border": null,
            "bottom": null,
            "display": null,
            "flex": null,
            "flex_flow": null,
            "grid_area": null,
            "grid_auto_columns": null,
            "grid_auto_flow": null,
            "grid_auto_rows": null,
            "grid_column": null,
            "grid_gap": null,
            "grid_row": null,
            "grid_template_areas": null,
            "grid_template_columns": null,
            "grid_template_rows": null,
            "height": null,
            "justify_content": null,
            "justify_items": null,
            "left": null,
            "margin": null,
            "max_height": null,
            "max_width": null,
            "min_height": null,
            "min_width": null,
            "object_fit": null,
            "object_position": null,
            "order": null,
            "overflow": null,
            "overflow_x": null,
            "overflow_y": null,
            "padding": null,
            "right": null,
            "top": null,
            "visibility": null,
            "width": null
          }
        },
        "ff259f93d218425eae8796faba5295fe": {
          "model_module": "@jupyter-widgets/controls",
          "model_name": "DescriptionStyleModel",
          "model_module_version": "1.5.0",
          "state": {
            "_model_module": "@jupyter-widgets/controls",
            "_model_module_version": "1.5.0",
            "_model_name": "DescriptionStyleModel",
            "_view_count": null,
            "_view_module": "@jupyter-widgets/base",
            "_view_module_version": "1.2.0",
            "_view_name": "StyleView",
            "description_width": ""
          }
        },
        "a3c6e2f5d4ac49b7835045fedcc17f85": {
          "model_module": "@jupyter-widgets/base",
          "model_name": "LayoutModel",
          "model_module_version": "1.2.0",
          "state": {
            "_model_module": "@jupyter-widgets/base",
            "_model_module_version": "1.2.0",
            "_model_name": "LayoutModel",
            "_view_count": null,
            "_view_module": "@jupyter-widgets/base",
            "_view_module_version": "1.2.0",
            "_view_name": "LayoutView",
            "align_content": null,
            "align_items": null,
            "align_self": null,
            "border": null,
            "bottom": null,
            "display": null,
            "flex": null,
            "flex_flow": null,
            "grid_area": null,
            "grid_auto_columns": null,
            "grid_auto_flow": null,
            "grid_auto_rows": null,
            "grid_column": null,
            "grid_gap": null,
            "grid_row": null,
            "grid_template_areas": null,
            "grid_template_columns": null,
            "grid_template_rows": null,
            "height": null,
            "justify_content": null,
            "justify_items": null,
            "left": null,
            "margin": null,
            "max_height": null,
            "max_width": null,
            "min_height": null,
            "min_width": null,
            "object_fit": null,
            "object_position": null,
            "order": null,
            "overflow": null,
            "overflow_x": null,
            "overflow_y": null,
            "padding": null,
            "right": null,
            "top": null,
            "visibility": null,
            "width": null
          }
        },
        "51d9efd3985d4a53b926f3638b198fc6": {
          "model_module": "@jupyter-widgets/controls",
          "model_name": "ProgressStyleModel",
          "model_module_version": "1.5.0",
          "state": {
            "_model_module": "@jupyter-widgets/controls",
            "_model_module_version": "1.5.0",
            "_model_name": "ProgressStyleModel",
            "_view_count": null,
            "_view_module": "@jupyter-widgets/base",
            "_view_module_version": "1.2.0",
            "_view_name": "StyleView",
            "bar_color": null,
            "description_width": ""
          }
        },
        "9890d867758e4c1cace399c2934983ff": {
          "model_module": "@jupyter-widgets/base",
          "model_name": "LayoutModel",
          "model_module_version": "1.2.0",
          "state": {
            "_model_module": "@jupyter-widgets/base",
            "_model_module_version": "1.2.0",
            "_model_name": "LayoutModel",
            "_view_count": null,
            "_view_module": "@jupyter-widgets/base",
            "_view_module_version": "1.2.0",
            "_view_name": "LayoutView",
            "align_content": null,
            "align_items": null,
            "align_self": null,
            "border": null,
            "bottom": null,
            "display": null,
            "flex": null,
            "flex_flow": null,
            "grid_area": null,
            "grid_auto_columns": null,
            "grid_auto_flow": null,
            "grid_auto_rows": null,
            "grid_column": null,
            "grid_gap": null,
            "grid_row": null,
            "grid_template_areas": null,
            "grid_template_columns": null,
            "grid_template_rows": null,
            "height": null,
            "justify_content": null,
            "justify_items": null,
            "left": null,
            "margin": null,
            "max_height": null,
            "max_width": null,
            "min_height": null,
            "min_width": null,
            "object_fit": null,
            "object_position": null,
            "order": null,
            "overflow": null,
            "overflow_x": null,
            "overflow_y": null,
            "padding": null,
            "right": null,
            "top": null,
            "visibility": null,
            "width": null
          }
        },
        "54b4bb1aab6649318a15b626469ec421": {
          "model_module": "@jupyter-widgets/controls",
          "model_name": "DescriptionStyleModel",
          "model_module_version": "1.5.0",
          "state": {
            "_model_module": "@jupyter-widgets/controls",
            "_model_module_version": "1.5.0",
            "_model_name": "DescriptionStyleModel",
            "_view_count": null,
            "_view_module": "@jupyter-widgets/base",
            "_view_module_version": "1.2.0",
            "_view_name": "StyleView",
            "description_width": ""
          }
        }
      }
    },
    "gpuClass": "standard"
  },
  "nbformat": 4,
  "nbformat_minor": 0
}
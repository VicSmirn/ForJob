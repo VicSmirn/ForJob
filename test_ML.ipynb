{
  "nbformat": 4,
  "nbformat_minor": 0,
  "metadata": {
    "colab": {
      "provenance": []
    },
    "kernelspec": {
      "name": "python3",
      "display_name": "Python 3"
    },
    "language_info": {
      "name": "python"
    },
    "widgets": {
      "application/vnd.jupyter.widget-state+json": {
        "764a037fd39e4c52b8dcc87a8fd19e93": {
          "model_module": "@jupyter-widgets/controls",
          "model_name": "HBoxModel",
          "model_module_version": "1.5.0",
          "state": {
            "_dom_classes": [],
            "_model_module": "@jupyter-widgets/controls",
            "_model_module_version": "1.5.0",
            "_model_name": "HBoxModel",
            "_view_count": null,
            "_view_module": "@jupyter-widgets/controls",
            "_view_module_version": "1.5.0",
            "_view_name": "HBoxView",
            "box_style": "",
            "children": [
              "IPY_MODEL_e547e73a33314062aee08c974fdcc314",
              "IPY_MODEL_4c7b4da76ab14bb9aaf1b2170f09bec8",
              "IPY_MODEL_912b16f6eb6a4e918cacdac5f585a51d"
            ],
            "layout": "IPY_MODEL_d0ebd39ae6e04c089c0adec32a2c6915"
          }
        },
        "e547e73a33314062aee08c974fdcc314": {
          "model_module": "@jupyter-widgets/controls",
          "model_name": "HTMLModel",
          "model_module_version": "1.5.0",
          "state": {
            "_dom_classes": [],
            "_model_module": "@jupyter-widgets/controls",
            "_model_module_version": "1.5.0",
            "_model_name": "HTMLModel",
            "_view_count": null,
            "_view_module": "@jupyter-widgets/controls",
            "_view_module_version": "1.5.0",
            "_view_name": "HTMLView",
            "description": "",
            "description_tooltip": null,
            "layout": "IPY_MODEL_ca1c48bae2d249e9b8f0e838b2a5065f",
            "placeholder": "​",
            "style": "IPY_MODEL_4f86e1fd70564a2a839f467a46a1bd96",
            "value": "100%"
          }
        },
        "4c7b4da76ab14bb9aaf1b2170f09bec8": {
          "model_module": "@jupyter-widgets/controls",
          "model_name": "FloatProgressModel",
          "model_module_version": "1.5.0",
          "state": {
            "_dom_classes": [],
            "_model_module": "@jupyter-widgets/controls",
            "_model_module_version": "1.5.0",
            "_model_name": "FloatProgressModel",
            "_view_count": null,
            "_view_module": "@jupyter-widgets/controls",
            "_view_module_version": "1.5.0",
            "_view_name": "ProgressView",
            "bar_style": "success",
            "description": "",
            "description_tooltip": null,
            "layout": "IPY_MODEL_1196c886d2a2440c98d103b1474f6ac4",
            "max": 11290,
            "min": 0,
            "orientation": "horizontal",
            "style": "IPY_MODEL_4a79cbed65d544a0857fbaa45586224c",
            "value": 11290
          }
        },
        "912b16f6eb6a4e918cacdac5f585a51d": {
          "model_module": "@jupyter-widgets/controls",
          "model_name": "HTMLModel",
          "model_module_version": "1.5.0",
          "state": {
            "_dom_classes": [],
            "_model_module": "@jupyter-widgets/controls",
            "_model_module_version": "1.5.0",
            "_model_name": "HTMLModel",
            "_view_count": null,
            "_view_module": "@jupyter-widgets/controls",
            "_view_module_version": "1.5.0",
            "_view_name": "HTMLView",
            "description": "",
            "description_tooltip": null,
            "layout": "IPY_MODEL_d2511c8276bc4777b07a80042f91b843",
            "placeholder": "​",
            "style": "IPY_MODEL_0762f1403cbf4ee6ac9fe43e0a26c7ed",
            "value": " 11290/11290 [02:07&lt;00:00, 81.57it/s]"
          }
        },
        "d0ebd39ae6e04c089c0adec32a2c6915": {
          "model_module": "@jupyter-widgets/base",
          "model_name": "LayoutModel",
          "model_module_version": "1.2.0",
          "state": {
            "_model_module": "@jupyter-widgets/base",
            "_model_module_version": "1.2.0",
            "_model_name": "LayoutModel",
            "_view_count": null,
            "_view_module": "@jupyter-widgets/base",
            "_view_module_version": "1.2.0",
            "_view_name": "LayoutView",
            "align_content": null,
            "align_items": null,
            "align_self": null,
            "border": null,
            "bottom": null,
            "display": null,
            "flex": null,
            "flex_flow": null,
            "grid_area": null,
            "grid_auto_columns": null,
            "grid_auto_flow": null,
            "grid_auto_rows": null,
            "grid_column": null,
            "grid_gap": null,
            "grid_row": null,
            "grid_template_areas": null,
            "grid_template_columns": null,
            "grid_template_rows": null,
            "height": null,
            "justify_content": null,
            "justify_items": null,
            "left": null,
            "margin": null,
            "max_height": null,
            "max_width": null,
            "min_height": null,
            "min_width": null,
            "object_fit": null,
            "object_position": null,
            "order": null,
            "overflow": null,
            "overflow_x": null,
            "overflow_y": null,
            "padding": null,
            "right": null,
            "top": null,
            "visibility": null,
            "width": null
          }
        },
        "ca1c48bae2d249e9b8f0e838b2a5065f": {
          "model_module": "@jupyter-widgets/base",
          "model_name": "LayoutModel",
          "model_module_version": "1.2.0",
          "state": {
            "_model_module": "@jupyter-widgets/base",
            "_model_module_version": "1.2.0",
            "_model_name": "LayoutModel",
            "_view_count": null,
            "_view_module": "@jupyter-widgets/base",
            "_view_module_version": "1.2.0",
            "_view_name": "LayoutView",
            "align_content": null,
            "align_items": null,
            "align_self": null,
            "border": null,
            "bottom": null,
            "display": null,
            "flex": null,
            "flex_flow": null,
            "grid_area": null,
            "grid_auto_columns": null,
            "grid_auto_flow": null,
            "grid_auto_rows": null,
            "grid_column": null,
            "grid_gap": null,
            "grid_row": null,
            "grid_template_areas": null,
            "grid_template_columns": null,
            "grid_template_rows": null,
            "height": null,
            "justify_content": null,
            "justify_items": null,
            "left": null,
            "margin": null,
            "max_height": null,
            "max_width": null,
            "min_height": null,
            "min_width": null,
            "object_fit": null,
            "object_position": null,
            "order": null,
            "overflow": null,
            "overflow_x": null,
            "overflow_y": null,
            "padding": null,
            "right": null,
            "top": null,
            "visibility": null,
            "width": null
          }
        },
        "4f86e1fd70564a2a839f467a46a1bd96": {
          "model_module": "@jupyter-widgets/controls",
          "model_name": "DescriptionStyleModel",
          "model_module_version": "1.5.0",
          "state": {
            "_model_module": "@jupyter-widgets/controls",
            "_model_module_version": "1.5.0",
            "_model_name": "DescriptionStyleModel",
            "_view_count": null,
            "_view_module": "@jupyter-widgets/base",
            "_view_module_version": "1.2.0",
            "_view_name": "StyleView",
            "description_width": ""
          }
        },
        "1196c886d2a2440c98d103b1474f6ac4": {
          "model_module": "@jupyter-widgets/base",
          "model_name": "LayoutModel",
          "model_module_version": "1.2.0",
          "state": {
            "_model_module": "@jupyter-widgets/base",
            "_model_module_version": "1.2.0",
            "_model_name": "LayoutModel",
            "_view_count": null,
            "_view_module": "@jupyter-widgets/base",
            "_view_module_version": "1.2.0",
            "_view_name": "LayoutView",
            "align_content": null,
            "align_items": null,
            "align_self": null,
            "border": null,
            "bottom": null,
            "display": null,
            "flex": null,
            "flex_flow": null,
            "grid_area": null,
            "grid_auto_columns": null,
            "grid_auto_flow": null,
            "grid_auto_rows": null,
            "grid_column": null,
            "grid_gap": null,
            "grid_row": null,
            "grid_template_areas": null,
            "grid_template_columns": null,
            "grid_template_rows": null,
            "height": null,
            "justify_content": null,
            "justify_items": null,
            "left": null,
            "margin": null,
            "max_height": null,
            "max_width": null,
            "min_height": null,
            "min_width": null,
            "object_fit": null,
            "object_position": null,
            "order": null,
            "overflow": null,
            "overflow_x": null,
            "overflow_y": null,
            "padding": null,
            "right": null,
            "top": null,
            "visibility": null,
            "width": null
          }
        },
        "4a79cbed65d544a0857fbaa45586224c": {
          "model_module": "@jupyter-widgets/controls",
          "model_name": "ProgressStyleModel",
          "model_module_version": "1.5.0",
          "state": {
            "_model_module": "@jupyter-widgets/controls",
            "_model_module_version": "1.5.0",
            "_model_name": "ProgressStyleModel",
            "_view_count": null,
            "_view_module": "@jupyter-widgets/base",
            "_view_module_version": "1.2.0",
            "_view_name": "StyleView",
            "bar_color": null,
            "description_width": ""
          }
        },
        "d2511c8276bc4777b07a80042f91b843": {
          "model_module": "@jupyter-widgets/base",
          "model_name": "LayoutModel",
          "model_module_version": "1.2.0",
          "state": {
            "_model_module": "@jupyter-widgets/base",
            "_model_module_version": "1.2.0",
            "_model_name": "LayoutModel",
            "_view_count": null,
            "_view_module": "@jupyter-widgets/base",
            "_view_module_version": "1.2.0",
            "_view_name": "LayoutView",
            "align_content": null,
            "align_items": null,
            "align_self": null,
            "border": null,
            "bottom": null,
            "display": null,
            "flex": null,
            "flex_flow": null,
            "grid_area": null,
            "grid_auto_columns": null,
            "grid_auto_flow": null,
            "grid_auto_rows": null,
            "grid_column": null,
            "grid_gap": null,
            "grid_row": null,
            "grid_template_areas": null,
            "grid_template_columns": null,
            "grid_template_rows": null,
            "height": null,
            "justify_content": null,
            "justify_items": null,
            "left": null,
            "margin": null,
            "max_height": null,
            "max_width": null,
            "min_height": null,
            "min_width": null,
            "object_fit": null,
            "object_position": null,
            "order": null,
            "overflow": null,
            "overflow_x": null,
            "overflow_y": null,
            "padding": null,
            "right": null,
            "top": null,
            "visibility": null,
            "width": null
          }
        },
        "0762f1403cbf4ee6ac9fe43e0a26c7ed": {
          "model_module": "@jupyter-widgets/controls",
          "model_name": "DescriptionStyleModel",
          "model_module_version": "1.5.0",
          "state": {
            "_model_module": "@jupyter-widgets/controls",
            "_model_module_version": "1.5.0",
            "_model_name": "DescriptionStyleModel",
            "_view_count": null,
            "_view_module": "@jupyter-widgets/base",
            "_view_module_version": "1.2.0",
            "_view_name": "StyleView",
            "description_width": ""
          }
        },
        "54d16dbfcb6447e7a842d402ab305881": {
          "model_module": "@jupyter-widgets/controls",
          "model_name": "HBoxModel",
          "model_module_version": "1.5.0",
          "state": {
            "_dom_classes": [],
            "_model_module": "@jupyter-widgets/controls",
            "_model_module_version": "1.5.0",
            "_model_name": "HBoxModel",
            "_view_count": null,
            "_view_module": "@jupyter-widgets/controls",
            "_view_module_version": "1.5.0",
            "_view_name": "HBoxView",
            "box_style": "",
            "children": [
              "IPY_MODEL_ddd681291be7411a9cf5fd52ad5792ec",
              "IPY_MODEL_2993a50119ea4c5e9584d69af0747d03",
              "IPY_MODEL_969de62c806a49629e649a43fa5bdb1c"
            ],
            "layout": "IPY_MODEL_68002307ab6e44d38c8b4dda7f454941"
          }
        },
        "ddd681291be7411a9cf5fd52ad5792ec": {
          "model_module": "@jupyter-widgets/controls",
          "model_name": "HTMLModel",
          "model_module_version": "1.5.0",
          "state": {
            "_dom_classes": [],
            "_model_module": "@jupyter-widgets/controls",
            "_model_module_version": "1.5.0",
            "_model_name": "HTMLModel",
            "_view_count": null,
            "_view_module": "@jupyter-widgets/controls",
            "_view_module_version": "1.5.0",
            "_view_name": "HTMLView",
            "description": "",
            "description_tooltip": null,
            "layout": "IPY_MODEL_dde90dbcb531408aacc7cd6a00473337",
            "placeholder": "​",
            "style": "IPY_MODEL_88352652bd90441abd86ea6cfa360167",
            "value": "100%"
          }
        },
        "2993a50119ea4c5e9584d69af0747d03": {
          "model_module": "@jupyter-widgets/controls",
          "model_name": "FloatProgressModel",
          "model_module_version": "1.5.0",
          "state": {
            "_dom_classes": [],
            "_model_module": "@jupyter-widgets/controls",
            "_model_module_version": "1.5.0",
            "_model_name": "FloatProgressModel",
            "_view_count": null,
            "_view_module": "@jupyter-widgets/controls",
            "_view_module_version": "1.5.0",
            "_view_name": "ProgressView",
            "bar_style": "success",
            "description": "",
            "description_tooltip": null,
            "layout": "IPY_MODEL_48573162d24c435eb32384a81fcf2cb8",
            "max": 5778,
            "min": 0,
            "orientation": "horizontal",
            "style": "IPY_MODEL_12c247b466f345b1abfc1f200c70c154",
            "value": 5778
          }
        },
        "969de62c806a49629e649a43fa5bdb1c": {
          "model_module": "@jupyter-widgets/controls",
          "model_name": "HTMLModel",
          "model_module_version": "1.5.0",
          "state": {
            "_dom_classes": [],
            "_model_module": "@jupyter-widgets/controls",
            "_model_module_version": "1.5.0",
            "_model_name": "HTMLModel",
            "_view_count": null,
            "_view_module": "@jupyter-widgets/controls",
            "_view_module_version": "1.5.0",
            "_view_name": "HTMLView",
            "description": "",
            "description_tooltip": null,
            "layout": "IPY_MODEL_ae6cb35d5dfa471fa09ffa8e8cadb4bc",
            "placeholder": "​",
            "style": "IPY_MODEL_71e4217184624767b560a27f252b1374",
            "value": " 5778/5778 [00:55&lt;00:00, 158.29it/s]"
          }
        },
        "68002307ab6e44d38c8b4dda7f454941": {
          "model_module": "@jupyter-widgets/base",
          "model_name": "LayoutModel",
          "model_module_version": "1.2.0",
          "state": {
            "_model_module": "@jupyter-widgets/base",
            "_model_module_version": "1.2.0",
            "_model_name": "LayoutModel",
            "_view_count": null,
            "_view_module": "@jupyter-widgets/base",
            "_view_module_version": "1.2.0",
            "_view_name": "LayoutView",
            "align_content": null,
            "align_items": null,
            "align_self": null,
            "border": null,
            "bottom": null,
            "display": null,
            "flex": null,
            "flex_flow": null,
            "grid_area": null,
            "grid_auto_columns": null,
            "grid_auto_flow": null,
            "grid_auto_rows": null,
            "grid_column": null,
            "grid_gap": null,
            "grid_row": null,
            "grid_template_areas": null,
            "grid_template_columns": null,
            "grid_template_rows": null,
            "height": null,
            "justify_content": null,
            "justify_items": null,
            "left": null,
            "margin": null,
            "max_height": null,
            "max_width": null,
            "min_height": null,
            "min_width": null,
            "object_fit": null,
            "object_position": null,
            "order": null,
            "overflow": null,
            "overflow_x": null,
            "overflow_y": null,
            "padding": null,
            "right": null,
            "top": null,
            "visibility": null,
            "width": null
          }
        },
        "dde90dbcb531408aacc7cd6a00473337": {
          "model_module": "@jupyter-widgets/base",
          "model_name": "LayoutModel",
          "model_module_version": "1.2.0",
          "state": {
            "_model_module": "@jupyter-widgets/base",
            "_model_module_version": "1.2.0",
            "_model_name": "LayoutModel",
            "_view_count": null,
            "_view_module": "@jupyter-widgets/base",
            "_view_module_version": "1.2.0",
            "_view_name": "LayoutView",
            "align_content": null,
            "align_items": null,
            "align_self": null,
            "border": null,
            "bottom": null,
            "display": null,
            "flex": null,
            "flex_flow": null,
            "grid_area": null,
            "grid_auto_columns": null,
            "grid_auto_flow": null,
            "grid_auto_rows": null,
            "grid_column": null,
            "grid_gap": null,
            "grid_row": null,
            "grid_template_areas": null,
            "grid_template_columns": null,
            "grid_template_rows": null,
            "height": null,
            "justify_content": null,
            "justify_items": null,
            "left": null,
            "margin": null,
            "max_height": null,
            "max_width": null,
            "min_height": null,
            "min_width": null,
            "object_fit": null,
            "object_position": null,
            "order": null,
            "overflow": null,
            "overflow_x": null,
            "overflow_y": null,
            "padding": null,
            "right": null,
            "top": null,
            "visibility": null,
            "width": null
          }
        },
        "88352652bd90441abd86ea6cfa360167": {
          "model_module": "@jupyter-widgets/controls",
          "model_name": "DescriptionStyleModel",
          "model_module_version": "1.5.0",
          "state": {
            "_model_module": "@jupyter-widgets/controls",
            "_model_module_version": "1.5.0",
            "_model_name": "DescriptionStyleModel",
            "_view_count": null,
            "_view_module": "@jupyter-widgets/base",
            "_view_module_version": "1.2.0",
            "_view_name": "StyleView",
            "description_width": ""
          }
        },
        "48573162d24c435eb32384a81fcf2cb8": {
          "model_module": "@jupyter-widgets/base",
          "model_name": "LayoutModel",
          "model_module_version": "1.2.0",
          "state": {
            "_model_module": "@jupyter-widgets/base",
            "_model_module_version": "1.2.0",
            "_model_name": "LayoutModel",
            "_view_count": null,
            "_view_module": "@jupyter-widgets/base",
            "_view_module_version": "1.2.0",
            "_view_name": "LayoutView",
            "align_content": null,
            "align_items": null,
            "align_self": null,
            "border": null,
            "bottom": null,
            "display": null,
            "flex": null,
            "flex_flow": null,
            "grid_area": null,
            "grid_auto_columns": null,
            "grid_auto_flow": null,
            "grid_auto_rows": null,
            "grid_column": null,
            "grid_gap": null,
            "grid_row": null,
            "grid_template_areas": null,
            "grid_template_columns": null,
            "grid_template_rows": null,
            "height": null,
            "justify_content": null,
            "justify_items": null,
            "left": null,
            "margin": null,
            "max_height": null,
            "max_width": null,
            "min_height": null,
            "min_width": null,
            "object_fit": null,
            "object_position": null,
            "order": null,
            "overflow": null,
            "overflow_x": null,
            "overflow_y": null,
            "padding": null,
            "right": null,
            "top": null,
            "visibility": null,
            "width": null
          }
        },
        "12c247b466f345b1abfc1f200c70c154": {
          "model_module": "@jupyter-widgets/controls",
          "model_name": "ProgressStyleModel",
          "model_module_version": "1.5.0",
          "state": {
            "_model_module": "@jupyter-widgets/controls",
            "_model_module_version": "1.5.0",
            "_model_name": "ProgressStyleModel",
            "_view_count": null,
            "_view_module": "@jupyter-widgets/base",
            "_view_module_version": "1.2.0",
            "_view_name": "StyleView",
            "bar_color": null,
            "description_width": ""
          }
        },
        "ae6cb35d5dfa471fa09ffa8e8cadb4bc": {
          "model_module": "@jupyter-widgets/base",
          "model_name": "LayoutModel",
          "model_module_version": "1.2.0",
          "state": {
            "_model_module": "@jupyter-widgets/base",
            "_model_module_version": "1.2.0",
            "_model_name": "LayoutModel",
            "_view_count": null,
            "_view_module": "@jupyter-widgets/base",
            "_view_module_version": "1.2.0",
            "_view_name": "LayoutView",
            "align_content": null,
            "align_items": null,
            "align_self": null,
            "border": null,
            "bottom": null,
            "display": null,
            "flex": null,
            "flex_flow": null,
            "grid_area": null,
            "grid_auto_columns": null,
            "grid_auto_flow": null,
            "grid_auto_rows": null,
            "grid_column": null,
            "grid_gap": null,
            "grid_row": null,
            "grid_template_areas": null,
            "grid_template_columns": null,
            "grid_template_rows": null,
            "height": null,
            "justify_content": null,
            "justify_items": null,
            "left": null,
            "margin": null,
            "max_height": null,
            "max_width": null,
            "min_height": null,
            "min_width": null,
            "object_fit": null,
            "object_position": null,
            "order": null,
            "overflow": null,
            "overflow_x": null,
            "overflow_y": null,
            "padding": null,
            "right": null,
            "top": null,
            "visibility": null,
            "width": null
          }
        },
        "71e4217184624767b560a27f252b1374": {
          "model_module": "@jupyter-widgets/controls",
          "model_name": "DescriptionStyleModel",
          "model_module_version": "1.5.0",
          "state": {
            "_model_module": "@jupyter-widgets/controls",
            "_model_module_version": "1.5.0",
            "_model_name": "DescriptionStyleModel",
            "_view_count": null,
            "_view_module": "@jupyter-widgets/base",
            "_view_module_version": "1.2.0",
            "_view_name": "StyleView",
            "description_width": ""
          }
        }
      }
    }
  },
  "cells": [
    {
      "cell_type": "code",
      "execution_count": null,
      "metadata": {
        "id": "5sQrQgA5c3py",
        "colab": {
          "base_uri": "https://localhost:8080/"
        },
        "outputId": "c39856e6-74ce-4cbc-e1a2-62ac2b10c335"
      },
      "outputs": [
        {
          "output_type": "stream",
          "name": "stdout",
          "text": [
            "Looking in indexes: https://pypi.org/simple, https://us-python.pkg.dev/colab-wheels/public/simple/\n",
            "Collecting fasttext\n",
            "  Downloading fasttext-0.9.2.tar.gz (68 kB)\n",
            "\u001b[K     |████████████████████████████████| 68 kB 6.8 MB/s \n",
            "\u001b[?25hCollecting pybind11>=2.2\n",
            "  Using cached pybind11-2.10.0-py3-none-any.whl (213 kB)\n",
            "Requirement already satisfied: setuptools>=0.7.0 in /usr/local/lib/python3.7/dist-packages (from fasttext) (57.4.0)\n",
            "Requirement already satisfied: numpy in /usr/local/lib/python3.7/dist-packages (from fasttext) (1.21.6)\n",
            "Building wheels for collected packages: fasttext\n",
            "  Building wheel for fasttext (setup.py) ... \u001b[?25l\u001b[?25hdone\n",
            "  Created wheel for fasttext: filename=fasttext-0.9.2-cp37-cp37m-linux_x86_64.whl size=3164524 sha256=572d089421ca8b81fa91fa0d6dda693dc203f241efbfe6c5acb9a4028f103b72\n",
            "  Stored in directory: /root/.cache/pip/wheels/4e/ca/bf/b020d2be95f7641801a6597a29c8f4f19e38f9c02a345bab9b\n",
            "Successfully built fasttext\n",
            "Installing collected packages: pybind11, fasttext\n",
            "Successfully installed fasttext-0.9.2 pybind11-2.10.0\n"
          ]
        }
      ],
      "source": [
        "!pip install fasttext"
      ]
    },
    {
      "cell_type": "code",
      "source": [
        "!pip install pymorphy2"
      ],
      "metadata": {
        "id": "36GAKK8HdBhg",
        "colab": {
          "base_uri": "https://localhost:8080/"
        },
        "outputId": "35dde477-7e64-4954-c5db-5661e3f9c606"
      },
      "execution_count": null,
      "outputs": [
        {
          "output_type": "stream",
          "name": "stdout",
          "text": [
            "Looking in indexes: https://pypi.org/simple, https://us-python.pkg.dev/colab-wheels/public/simple/\n",
            "Collecting pymorphy2\n",
            "  Downloading pymorphy2-0.9.1-py3-none-any.whl (55 kB)\n",
            "\u001b[K     |████████████████████████████████| 55 kB 2.4 MB/s \n",
            "\u001b[?25hCollecting pymorphy2-dicts-ru<3.0,>=2.4\n",
            "  Downloading pymorphy2_dicts_ru-2.4.417127.4579844-py2.py3-none-any.whl (8.2 MB)\n",
            "\u001b[K     |████████████████████████████████| 8.2 MB 19.6 MB/s \n",
            "\u001b[?25hCollecting dawg-python>=0.7.1\n",
            "  Downloading DAWG_Python-0.7.2-py2.py3-none-any.whl (11 kB)\n",
            "Collecting docopt>=0.6\n",
            "  Downloading docopt-0.6.2.tar.gz (25 kB)\n",
            "Building wheels for collected packages: docopt\n",
            "  Building wheel for docopt (setup.py) ... \u001b[?25l\u001b[?25hdone\n",
            "  Created wheel for docopt: filename=docopt-0.6.2-py2.py3-none-any.whl size=13723 sha256=c914576ecc0c57ab7c1d204461d7ce38b90f39c9ce82d053a526a82753367919\n",
            "  Stored in directory: /root/.cache/pip/wheels/72/b0/3f/1d95f96ff986c7dfffe46ce2be4062f38ebd04b506c77c81b9\n",
            "Successfully built docopt\n",
            "Installing collected packages: pymorphy2-dicts-ru, docopt, dawg-python, pymorphy2\n",
            "Successfully installed dawg-python-0.7.2 docopt-0.6.2 pymorphy2-0.9.1 pymorphy2-dicts-ru-2.4.417127.4579844\n"
          ]
        }
      ]
    },
    {
      "cell_type": "code",
      "source": [
        "!pip install natasha"
      ],
      "metadata": {
        "id": "5bJfiUmPtfVX"
      },
      "execution_count": null,
      "outputs": []
    },
    {
      "cell_type": "code",
      "source": [
        "import fasttext\n",
        "import pandas as pd\n",
        "import pymorphy2\n",
        "from functools import lru_cache\n",
        "from multiprocessing import Pool\n",
        "import numpy as np\n",
        "import re\n",
        "from sklearn.model_selection import train_test_split\n",
        "from tqdm import tqdm_notebook as tqdm"
      ],
      "metadata": {
        "id": "wt_KtfvJdEBH"
      },
      "execution_count": null,
      "outputs": []
    },
    {
      "cell_type": "code",
      "source": [
        "df = pd.read_excel(\"/content/1 плох раб.xlsx\")\n",
        "df = df[['Примечание','Подтип нарушения']]\n",
        "df['Подтип нарушения'] = df['Подтип нарушения'].apply(lambda x: x.replace(\" \", \"_\"))"
      ],
      "metadata": {
        "id": "PEBP7gUfdJzQ"
      },
      "execution_count": null,
      "outputs": []
    },
    {
      "cell_type": "code",
      "source": [
        "dfv = pd.read_excel(\"/content/Новая разметка 2020-май2022.xlsx\")\n",
        "dfv = dfv[['Причина', 'Примечание','Подтип нарушения']]\n",
        "dfv['Подтип нарушения'] = dfv['Подтип нарушения'].apply(lambda x: x.replace(\" \", \"_\"))"
      ],
      "metadata": {
        "id": "HxTaYNVDRIx4"
      },
      "execution_count": null,
      "outputs": []
    },
    {
      "cell_type": "code",
      "source": [
        "df['Подтип нарушения'].value_counts()"
      ],
      "metadata": {
        "id": "nUd1u4X65uK3"
      },
      "execution_count": null,
      "outputs": []
    },
    {
      "cell_type": "code",
      "source": [
        "df.head()"
      ],
      "metadata": {
        "colab": {
          "base_uri": "https://localhost:8080/",
          "height": 206
        },
        "id": "W5G16b0a7TIo",
        "outputId": "f9b947ce-4e78-46ad-d68e-559b7fb7cdc0"
      },
      "execution_count": null,
      "outputs": [
        {
          "output_type": "execute_result",
          "data": {
            "text/plain": [
              "                                          Примечание  \\\n",
              "0  Не идет на ход. Вагон(Витязь) 2020г.в. (экспл....   \n",
              "1  Скопление воды . Сообщил 3-30125 в 11-05. пере...   \n",
              "2  В салоне трамвая стало плохо женщине.103 в 10:...   \n",
              "3  При следовании в депо у вагона 31346 произошел...   \n",
              "4  Сход вагона тягач № 323,3223, аварийная бригад...   \n",
              "\n",
              "                      Подтип нарушения  \n",
              "0     Техническая_неисправность_вагона  \n",
              "1  Скопление_воды/снега/грязи_на_путях  \n",
              "2        Плохое_самочувствие_пассажира  \n",
              "3                          Сход_вагона  \n",
              "4                          Сход_вагона  "
            ],
            "text/html": [
              "\n",
              "  <div id=\"df-44ac50ef-e0ef-43ce-9550-1481feec0b0f\">\n",
              "    <div class=\"colab-df-container\">\n",
              "      <div>\n",
              "<style scoped>\n",
              "    .dataframe tbody tr th:only-of-type {\n",
              "        vertical-align: middle;\n",
              "    }\n",
              "\n",
              "    .dataframe tbody tr th {\n",
              "        vertical-align: top;\n",
              "    }\n",
              "\n",
              "    .dataframe thead th {\n",
              "        text-align: right;\n",
              "    }\n",
              "</style>\n",
              "<table border=\"1\" class=\"dataframe\">\n",
              "  <thead>\n",
              "    <tr style=\"text-align: right;\">\n",
              "      <th></th>\n",
              "      <th>Примечание</th>\n",
              "      <th>Подтип нарушения</th>\n",
              "    </tr>\n",
              "  </thead>\n",
              "  <tbody>\n",
              "    <tr>\n",
              "      <th>0</th>\n",
              "      <td>Не идет на ход. Вагон(Витязь) 2020г.в. (экспл....</td>\n",
              "      <td>Техническая_неисправность_вагона</td>\n",
              "    </tr>\n",
              "    <tr>\n",
              "      <th>1</th>\n",
              "      <td>Скопление воды . Сообщил 3-30125 в 11-05. пере...</td>\n",
              "      <td>Скопление_воды/снега/грязи_на_путях</td>\n",
              "    </tr>\n",
              "    <tr>\n",
              "      <th>2</th>\n",
              "      <td>В салоне трамвая стало плохо женщине.103 в 10:...</td>\n",
              "      <td>Плохое_самочувствие_пассажира</td>\n",
              "    </tr>\n",
              "    <tr>\n",
              "      <th>3</th>\n",
              "      <td>При следовании в депо у вагона 31346 произошел...</td>\n",
              "      <td>Сход_вагона</td>\n",
              "    </tr>\n",
              "    <tr>\n",
              "      <th>4</th>\n",
              "      <td>Сход вагона тягач № 323,3223, аварийная бригад...</td>\n",
              "      <td>Сход_вагона</td>\n",
              "    </tr>\n",
              "  </tbody>\n",
              "</table>\n",
              "</div>\n",
              "      <button class=\"colab-df-convert\" onclick=\"convertToInteractive('df-44ac50ef-e0ef-43ce-9550-1481feec0b0f')\"\n",
              "              title=\"Convert this dataframe to an interactive table.\"\n",
              "              style=\"display:none;\">\n",
              "        \n",
              "  <svg xmlns=\"http://www.w3.org/2000/svg\" height=\"24px\"viewBox=\"0 0 24 24\"\n",
              "       width=\"24px\">\n",
              "    <path d=\"M0 0h24v24H0V0z\" fill=\"none\"/>\n",
              "    <path d=\"M18.56 5.44l.94 2.06.94-2.06 2.06-.94-2.06-.94-.94-2.06-.94 2.06-2.06.94zm-11 1L8.5 8.5l.94-2.06 2.06-.94-2.06-.94L8.5 2.5l-.94 2.06-2.06.94zm10 10l.94 2.06.94-2.06 2.06-.94-2.06-.94-.94-2.06-.94 2.06-2.06.94z\"/><path d=\"M17.41 7.96l-1.37-1.37c-.4-.4-.92-.59-1.43-.59-.52 0-1.04.2-1.43.59L10.3 9.45l-7.72 7.72c-.78.78-.78 2.05 0 2.83L4 21.41c.39.39.9.59 1.41.59.51 0 1.02-.2 1.41-.59l7.78-7.78 2.81-2.81c.8-.78.8-2.07 0-2.86zM5.41 20L4 18.59l7.72-7.72 1.47 1.35L5.41 20z\"/>\n",
              "  </svg>\n",
              "      </button>\n",
              "      \n",
              "  <style>\n",
              "    .colab-df-container {\n",
              "      display:flex;\n",
              "      flex-wrap:wrap;\n",
              "      gap: 12px;\n",
              "    }\n",
              "\n",
              "    .colab-df-convert {\n",
              "      background-color: #E8F0FE;\n",
              "      border: none;\n",
              "      border-radius: 50%;\n",
              "      cursor: pointer;\n",
              "      display: none;\n",
              "      fill: #1967D2;\n",
              "      height: 32px;\n",
              "      padding: 0 0 0 0;\n",
              "      width: 32px;\n",
              "    }\n",
              "\n",
              "    .colab-df-convert:hover {\n",
              "      background-color: #E2EBFA;\n",
              "      box-shadow: 0px 1px 2px rgba(60, 64, 67, 0.3), 0px 1px 3px 1px rgba(60, 64, 67, 0.15);\n",
              "      fill: #174EA6;\n",
              "    }\n",
              "\n",
              "    [theme=dark] .colab-df-convert {\n",
              "      background-color: #3B4455;\n",
              "      fill: #D2E3FC;\n",
              "    }\n",
              "\n",
              "    [theme=dark] .colab-df-convert:hover {\n",
              "      background-color: #434B5C;\n",
              "      box-shadow: 0px 1px 3px 1px rgba(0, 0, 0, 0.15);\n",
              "      filter: drop-shadow(0px 1px 2px rgba(0, 0, 0, 0.3));\n",
              "      fill: #FFFFFF;\n",
              "    }\n",
              "  </style>\n",
              "\n",
              "      <script>\n",
              "        const buttonEl =\n",
              "          document.querySelector('#df-44ac50ef-e0ef-43ce-9550-1481feec0b0f button.colab-df-convert');\n",
              "        buttonEl.style.display =\n",
              "          google.colab.kernel.accessAllowed ? 'block' : 'none';\n",
              "\n",
              "        async function convertToInteractive(key) {\n",
              "          const element = document.querySelector('#df-44ac50ef-e0ef-43ce-9550-1481feec0b0f');\n",
              "          const dataTable =\n",
              "            await google.colab.kernel.invokeFunction('convertToInteractive',\n",
              "                                                     [key], {});\n",
              "          if (!dataTable) return;\n",
              "\n",
              "          const docLinkHtml = 'Like what you see? Visit the ' +\n",
              "            '<a target=\"_blank\" href=https://colab.research.google.com/notebooks/data_table.ipynb>data table notebook</a>'\n",
              "            + ' to learn more about interactive tables.';\n",
              "          element.innerHTML = '';\n",
              "          dataTable['output_type'] = 'display_data';\n",
              "          await google.colab.output.renderOutput(dataTable, element);\n",
              "          const docLink = document.createElement('div');\n",
              "          docLink.innerHTML = docLinkHtml;\n",
              "          element.appendChild(docLink);\n",
              "        }\n",
              "      </script>\n",
              "    </div>\n",
              "  </div>\n",
              "  "
            ]
          },
          "metadata": {},
          "execution_count": 71
        }
      ]
    },
    {
      "cell_type": "code",
      "source": [
        "# df[['Примечание', 'Причина']].apply(lambda x: split(x))\n",
        "df['Примечание'] = df[\"Примечание\"].astype(str) + \" \" + df[\"Причина\"].astype(str).str.zfill(6)"
      ],
      "metadata": {
        "id": "m33QI1DDsl9B"
      },
      "execution_count": null,
      "outputs": []
    },
    {
      "cell_type": "markdown",
      "source": [
        "Пайморфи"
      ],
      "metadata": {
        "id": "eUZ9F6A8JZ52"
      }
    },
    {
      "cell_type": "code",
      "source": [
        "m = pymorphy2.MorphAnalyzer()\n",
        "\n",
        "regex = re.compile(\"[А-Яа-я=!\\)\\()\\_\\%/|]+\")\n",
        "\n",
        "def words_only(text, regex=regex):\n",
        "    try:\n",
        "        text = re.sub(r'[АВЕКМНОРСТУХ]\\d{3}[АВЕКМНОРСТУХУ33]{2}|[АВЕКМНОРСТУХ]\\s\\d{3}[АВЕКМНОРСТУХУ33]{2}|[АВЕКМНОРСТУХ]\\s\\d{3}\\s[АВЕКМНОРСТУХУ33]{2}|\\s[АВЕКМНОРСТУХ]{2}\\s', '', text)\n",
        "        text = text.replace(\"сообщил\", \"\").replace(\"</s>\", '')\n",
        "        text = re.sub(r'.иг..ов|Потапова|г/вып|г.в.|Сообщено|Голованов|на месте|Дижение осстанолено|ыод|Движение восстановлено|\\Wв\\W', '', text)\n",
        "        regex = regex.findall(text.replace(\"(\", ' ').replace(\")\", \" \"))\n",
        "        \n",
        "        return regex\n",
        "    except:\n",
        "        return []\n",
        "def lemmatize(text, pymorphy=m):\n",
        "    try:\n",
        "        return \" \".join([pymorphy.parse(w)[0].normal_form for w in text])\n",
        "    except:\n",
        "        return \" \" \n",
        "# получаем отчищенный и токенезированный текст\n",
        "def clean_text(text):\n",
        "    return lemmatize(words_only(text))\n",
        "\n",
        "with Pool(8) as p:\n",
        "    lemmas = list(tqdm(p.imap(clean_text, df['Примечание']), total=len(df)))\n",
        "\n",
        "    \n",
        "df['lemmas'] = lemmas"
      ],
      "metadata": {
        "colab": {
          "base_uri": "https://localhost:8080/",
          "height": 104,
          "referenced_widgets": [
            "54d16dbfcb6447e7a842d402ab305881",
            "ddd681291be7411a9cf5fd52ad5792ec",
            "2993a50119ea4c5e9584d69af0747d03",
            "969de62c806a49629e649a43fa5bdb1c",
            "68002307ab6e44d38c8b4dda7f454941",
            "dde90dbcb531408aacc7cd6a00473337",
            "88352652bd90441abd86ea6cfa360167",
            "48573162d24c435eb32384a81fcf2cb8",
            "12c247b466f345b1abfc1f200c70c154",
            "ae6cb35d5dfa471fa09ffa8e8cadb4bc",
            "71e4217184624767b560a27f252b1374"
          ]
        },
        "id": "f-rZGykadQKw",
        "outputId": "3a8abc18-47c2-4923-cdc3-3d428d049675"
      },
      "execution_count": null,
      "outputs": [
        {
          "output_type": "stream",
          "name": "stderr",
          "text": [
            "/usr/local/lib/python3.7/dist-packages/ipykernel_launcher.py:25: TqdmDeprecationWarning: This function will be removed in tqdm==5.0.0\n",
            "Please use `tqdm.notebook.tqdm` instead of `tqdm.tqdm_notebook`\n"
          ]
        },
        {
          "output_type": "display_data",
          "data": {
            "text/plain": [
              "  0%|          | 0/5778 [00:00<?, ?it/s]"
            ],
            "application/vnd.jupyter.widget-view+json": {
              "version_major": 2,
              "version_minor": 0,
              "model_id": "54d16dbfcb6447e7a842d402ab305881"
            }
          },
          "metadata": {}
        }
      ]
    },
    {
      "cell_type": "code",
      "source": [
        "df['Примечание'][:5].to_list()"
      ],
      "metadata": {
        "id": "UBEbMKp9WGMA"
      },
      "execution_count": null,
      "outputs": []
    },
    {
      "cell_type": "code",
      "source": [
        "lemmas[:5]"
      ],
      "metadata": {
        "id": "JbzLmCi8VfcF"
      },
      "execution_count": null,
      "outputs": []
    },
    {
      "cell_type": "code",
      "source": [
        "\n",
        "with Pool(8) as p:\n",
        "    lemmas = list(tqdm(p.imap(clean_text, dfv['Примечание']), total=len(dfv)))\n",
        "dfv['lemmas'] = lemmas"
      ],
      "metadata": {
        "colab": {
          "base_uri": "https://localhost:8080/",
          "height": 217
        },
        "id": "BsY4UztOReP1",
        "outputId": "a56f4678-c208-4e74-de08-f1aa11863418"
      },
      "execution_count": null,
      "outputs": [
        {
          "output_type": "error",
          "ename": "NameError",
          "evalue": "ignored",
          "traceback": [
            "\u001b[0;31m---------------------------------------------------------------------------\u001b[0m",
            "\u001b[0;31mNameError\u001b[0m                                 Traceback (most recent call last)",
            "\u001b[0;32m<ipython-input-1-0907012d53b2>\u001b[0m in \u001b[0;36m<module>\u001b[0;34m()\u001b[0m\n\u001b[1;32m      1\u001b[0m \u001b[0;34m\u001b[0m\u001b[0m\n\u001b[0;32m----> 2\u001b[0;31m \u001b[0;32mwith\u001b[0m \u001b[0mPool\u001b[0m\u001b[0;34m(\u001b[0m\u001b[0;36m8\u001b[0m\u001b[0;34m)\u001b[0m \u001b[0;32mas\u001b[0m \u001b[0mp\u001b[0m\u001b[0;34m:\u001b[0m\u001b[0;34m\u001b[0m\u001b[0;34m\u001b[0m\u001b[0m\n\u001b[0m\u001b[1;32m      3\u001b[0m     \u001b[0mlemmas\u001b[0m \u001b[0;34m=\u001b[0m \u001b[0mlist\u001b[0m\u001b[0;34m(\u001b[0m\u001b[0mtqdm\u001b[0m\u001b[0;34m(\u001b[0m\u001b[0mp\u001b[0m\u001b[0;34m.\u001b[0m\u001b[0mimap\u001b[0m\u001b[0;34m(\u001b[0m\u001b[0mclean_text\u001b[0m\u001b[0;34m,\u001b[0m \u001b[0mdfv\u001b[0m\u001b[0;34m[\u001b[0m\u001b[0;34m'Примечание'\u001b[0m\u001b[0;34m]\u001b[0m\u001b[0;34m)\u001b[0m\u001b[0;34m,\u001b[0m \u001b[0mtotal\u001b[0m\u001b[0;34m=\u001b[0m\u001b[0mlen\u001b[0m\u001b[0;34m(\u001b[0m\u001b[0mdfv\u001b[0m\u001b[0;34m)\u001b[0m\u001b[0;34m)\u001b[0m\u001b[0;34m)\u001b[0m\u001b[0;34m\u001b[0m\u001b[0;34m\u001b[0m\u001b[0m\n\u001b[1;32m      4\u001b[0m \u001b[0mdfv\u001b[0m\u001b[0;34m[\u001b[0m\u001b[0;34m'lemmas'\u001b[0m\u001b[0;34m]\u001b[0m \u001b[0;34m=\u001b[0m \u001b[0mlemmas\u001b[0m\u001b[0;34m\u001b[0m\u001b[0;34m\u001b[0m\u001b[0m\n",
            "\u001b[0;31mNameError\u001b[0m: name 'Pool' is not defined"
          ]
        }
      ]
    },
    {
      "cell_type": "code",
      "source": [
        "text = 'Со слов водителя 39-31136 проезжающая грузовая а/м сместила плитку КРП. По акту СП с поднятием плитки КРП-боковой, после разворота строительной техники на 4,5 и 5,0 см, что не угрожало движению трамваев. Прибыв на место КТПЧ-1 Алферов Г.П. дал команду водителю трамвая 39-31136 продолжить движение. Почему водитель не ехал, она не смогла объяснить. Направлена СП Казаков в 16:05, на месте 16:25. Направлены тягачи 321, 323 в 16:04, отмена. Препятствие устранено. Задержаны нулевые рейсы из депо маршрутов 1,16,47.  Движение восстановленно в 16:29. Требуется просмотр камер видеонаблюдения вагона. Случай требует расследования.'"
      ],
      "metadata": {
        "id": "Z1WHT9EbSoPD"
      },
      "execution_count": null,
      "outputs": []
    },
    {
      "cell_type": "code",
      "source": [
        "regex = re.compile(\"[А-Яа-я=!\\)\\()\\_\\%/|]+\")\n",
        "text = re.sub(r'[АВЕКМНОРСТУХ]\\d{3}[АВЕКМНОРСТУХУ33]{2}|[АВЕКМНОРСТУХ]\\s\\d{3}[АВЕКМНОРСТУХУ33]{2}|[АВЕКМНОРСТУХ]\\s\\d{3}\\s[АВЕКМНОРСТУХУ33]{2}|\\s[АВЕКМНОРСТУХ]{2}\\s', '', text)\n",
        "text = text.replace(\"сообщил\", \"\").replace(\"</s>\", '')\n",
        "text = re.sub(r'.иг..ов|Потапова|Сообщено|Голованов|на месте|Дижение осстанолено|ыод|Движение восстановлено|\\Wв\\W', '', text)\n",
        "regex = regex.findall(text.replace(\"(\", ' ').replace(\")\", \" \"))\n",
        "regex"
      ],
      "metadata": {
        "id": "q75604i9Sw1-"
      },
      "execution_count": null,
      "outputs": []
    },
    {
      "cell_type": "code",
      "source": [
        "df.head()"
      ],
      "metadata": {
        "id": "IcngpeMlSKDw"
      },
      "execution_count": null,
      "outputs": []
    },
    {
      "cell_type": "code",
      "source": [
        "lemmas[:100]"
      ],
      "metadata": {
        "id": "CTHgnOHK_IhH"
      },
      "execution_count": null,
      "outputs": []
    },
    {
      "cell_type": "markdown",
      "source": [
        "Наташа"
      ],
      "metadata": {
        "id": "Hvm265VNJcKu"
      }
    },
    {
      "cell_type": "code",
      "source": [
        "X_train, X_test, y_train, y_test = np.array([], 'float64'),np.array([], 'float64'),np.array([], 'float64'),np.array([], 'float64')\n",
        "for typ in df['Подтип нарушения'].unique():\n",
        "  dfc = df[df['Подтип нарушения'] == typ]\n",
        "  X = dfc.lemmas.tolist()\n",
        "  y = dfc['Подтип нарушения'].tolist()\n",
        "  X, y = np.array(X), np.array(y)\n",
        "  X_train_p, X_test_1, y_train_1, y_test_1 = train_test_split(X, y, \n",
        "                                                              test_size=0.3, \n",
        "                                                              random_state=6)\n",
        "  X_train = np.append(X_train, X_train_p)\n",
        "  X_test = np.append(X_test, X_test_1)\n",
        "  y_train = np.append(y_train, y_train_1)\n",
        "  y_test = np.append(y_test, y_test_1)  \n",
        "print('total train examples %s' % len(y_train))\n",
        "print('total test examples %s' % len(y_test))"
      ],
      "metadata": {
        "colab": {
          "base_uri": "https://localhost:8080/"
        },
        "id": "0DK7higvdQ1Y",
        "outputId": "b32b3b80-9c6b-445e-a0f7-a123d680c12c"
      },
      "execution_count": null,
      "outputs": [
        {
          "output_type": "stream",
          "name": "stdout",
          "text": [
            "total train examples 4028\n",
            "total test examples 1750\n"
          ]
        }
      ]
    },
    {
      "cell_type": "code",
      "source": [
        "np.unique(y_train, return_counts=True)"
      ],
      "metadata": {
        "colab": {
          "base_uri": "https://localhost:8080/"
        },
        "id": "0LOItjM-cPE3",
        "outputId": "9b68327e-e9b0-4f8d-c004-a4ec6d029668"
      },
      "execution_count": null,
      "outputs": [
        {
          "output_type": "execute_result",
          "data": {
            "text/plain": [
              "(array(['ДТП_автомобиля_с_пешеходом', 'ДТП_с_автомобилем',\n",
              "        'ДТП_с_трамваем', 'ДТП_трамвая_с_пешеходом',\n",
              "        'Действия_пассажиров_без_задержания',\n",
              "        'Действия_пассажиров_с_задержанием', 'Дорожные_работы',\n",
              "        'Застряло/неисправно_ТС', 'Мероприятия_УГИБДД_(ГУВД)',\n",
              "        'Наезд_на_посторонний_предмет_(препятствие)',\n",
              "        'Неисправность/повреждение_контактной_сети',\n",
              "        'Неисправность_городского_светофора', 'Неисправность_пантографа',\n",
              "        'Неисправность_устройств_пути',\n",
              "        'Несвоевременное_окончание_ночных_работ',\n",
              "        'Неудовлетворительное_состояние_проезжей_части',\n",
              "        'Обнаружение_бесхозных_предметов', 'Оставлено_ТС',\n",
              "        'Ошибочные_действия_персонала',\n",
              "        'Падение_пассажира_во_время_движения',\n",
              "        'Падение_пассажира_при_отправлении',\n",
              "        'Падение_пассажира_при_посадке/выходе,_в_стоящем_вагоне',\n",
              "        'Падение_пассажира_при_торможении', 'Пешеход_мешает_проезду',\n",
              "        'Плохое_самочувствие_пассажира', 'Плохое_самочувствие_работника',\n",
              "        'Повреждение_кабеля', 'Повреждение_контактной_сети_пантографом',\n",
              "        'Повреждение_подвижного_состава', 'Помеха_на_пути',\n",
              "        'Посторонний_предмет_на_контактной_сети',\n",
              "        'Проверка_подвижного_состава_при_выезде_из_депо',\n",
              "        'Пропажа_напряжения_со_стороны_Мосэнерго', 'Разъезд_на_стрелке',\n",
              "        'Скопление_вагонов_при_выезде/въезде_из_депо',\n",
              "        'Скопление_воды/снега/грязи_на_путях',\n",
              "        'Скопление_постороннего_транспорта', 'Сход_вагона',\n",
              "        'Техническая_неисправность_вагона', 'Трамвай_встал_под_изолятором',\n",
              "        'ЧП_на_территории_города'], dtype='<U54'),\n",
              " array([ 30, 887, 589,  25,  16,  49,  30, 430,  21,   5,  74,  30,  92,\n",
              "         68,  12,   7,  53, 189,  82,  58,   9,  22,  27,  11,  53,  23,\n",
              "         14,   9,   3,  32,  35, 406,  42,   7,  94, 120,  21,  23, 316,\n",
              "          8,   6]))"
            ]
          },
          "metadata": {},
          "execution_count": 54
        }
      ]
    },
    {
      "cell_type": "code",
      "source": [
        "with open('data.train.txt', \"w+\") as outfile:\n",
        "  for i in range(len(X_train)):\n",
        "    outfile.write('__label__' + y_train[i] + ' ' +   X_train[i] + '\\n')\n",
        "\n",
        "with open('test.txt', \"w+\") as outfile:\n",
        "  for i in range(len(X_test)):\n",
        "    outfile.write('__label__' + y_test[i] + ' ' +   X_test[i] + '\\n')\n",
        "\n",
        "# with open('val.txt', \"w+\") as outfile:\n",
        "#   for i in range(len(X_test)):\n",
        "#     outfile.write('__label__' + y_v[i] + ' ' +   X_v[i] + '\\n')\n"
      ],
      "metadata": {
        "id": "9IRqtT1pdSvA"
      },
      "execution_count": null,
      "outputs": []
    },
    {
      "cell_type": "code",
      "source": [
        "classifaer = fasttext.train_supervised('data.train.txt', autotuneValidationFile='test.txt') # epoch=10, lr=1.0,  wordNgrams =2 \n",
        "result = classifaer.test(\"test.txt\")\n",
        "\n",
        "print('P@1:', result[1])\n",
        "print('R@1:', result[2])\n",
        "print('Number of examples', result[0])"
      ],
      "metadata": {
        "colab": {
          "base_uri": "https://localhost:8080/"
        },
        "id": "DeVZD9tmdUHA",
        "outputId": "df5beddd-c14c-4f57-d731-5a8422ec7b1a"
      },
      "execution_count": null,
      "outputs": [
        {
          "output_type": "stream",
          "name": "stdout",
          "text": [
            "P@1: 0.9182857142857143\n",
            "R@1: 0.9182857142857143\n",
            "Number of examples 1750\n"
          ]
        }
      ]
    },
    {
      "cell_type": "markdown",
      "source": [
        "0.9182857142857143"
      ],
      "metadata": {
        "id": "aukTtk1GDGAa"
      }
    },
    {
      "cell_type": "code",
      "source": [
        "classifaer.get_nearest_neighbors(\"водитель\")"
      ],
      "metadata": {
        "colab": {
          "base_uri": "https://localhost:8080/"
        },
        "id": "IriYqN7M7V64",
        "outputId": "18c72a06-1a14-4824-b802-fe08584461b9"
      },
      "execution_count": null,
      "outputs": [
        {
          "output_type": "execute_result",
          "data": {
            "text/plain": [
              "[(0.9910902380943298, 'вдодителя'),\n",
              " (0.9897773265838623, 'водительшихалеев'),\n",
              " (0.9877458214759827, 'водимтель'),\n",
              " (0.9866105914115906, 'руководитель'),\n",
              " (0.9832138419151306, 'водителдь'),\n",
              " (0.9806115031242371, 'воодитель'),\n",
              " (0.9762468338012695, 'водительть'),\n",
              " (0.9605214595794678, '/водимтель'),\n",
              " (0.9542784690856934, 'водителчть'),\n",
              " (0.9211976528167725, 'заместитель')]"
            ]
          },
          "metadata": {},
          "execution_count": 100
        }
      ]
    },
    {
      "cell_type": "code",
      "source": [
        "classifaer.save_model('optimized_test.model')"
      ],
      "metadata": {
        "id": "r5gZtNPMdWGA"
      },
      "execution_count": null,
      "outputs": []
    },
    {
      "cell_type": "code",
      "source": [
        "# Загружаем, сохраненную ранее модель\n",
        "model = fasttext.load_model(\"optimized_test.model\")\n",
        "\n",
        "# Пример классификации одного заголовка\n",
        "model.predict(\"Сломалась а/м Н 430 АР 126 на трамвайных путях. Направлен АМПП Потапова в 23:52. Сообщено УГИБДД Голованов в 23:53, на месте 0:24. А/м убрали при помощи трактора. Движение восстановлено в 0:42.\"\n",
        ", k=5)\n"
      ],
      "metadata": {
        "colab": {
          "base_uri": "https://localhost:8080/"
        },
        "id": "SYZaMS-YdrkD",
        "outputId": "450fff81-da72-4df9-ebd1-0bc11a888130"
      },
      "execution_count": null,
      "outputs": [
        {
          "output_type": "stream",
          "name": "stderr",
          "text": [
            "Warning : `load_model` does not return WordVectorModel or SupervisedModel any more, but a `FastText` object which is very similar.\n"
          ]
        },
        {
          "output_type": "execute_result",
          "data": {
            "text/plain": [
              "(('__label__Застряло/неисправно_ТС',\n",
              "  '__label__ДТП_с_автомобилем',\n",
              "  '__label__ДТП_автомобиля_с_пешеходом',\n",
              "  '__label__Помеха_на_пути',\n",
              "  '__label__Оставлено_ТС'),\n",
              " array([0.4068844 , 0.15537851, 0.15344545, 0.0698133 , 0.05358527]))"
            ]
          },
          "metadata": {},
          "execution_count": 89
        }
      ]
    },
    {
      "cell_type": "code",
      "source": [
        "model = fasttext.load_model(\"/content/optimized_3_ошибки.model\")"
      ],
      "metadata": {
        "colab": {
          "base_uri": "https://localhost:8080/"
        },
        "id": "lFTO2IpOTxlz",
        "outputId": "64f75418-7244-4b07-aeaf-deb50abc063a"
      },
      "execution_count": null,
      "outputs": [
        {
          "output_type": "stream",
          "name": "stderr",
          "text": [
            "Warning : `load_model` does not return WordVectorModel or SupervisedModel any more, but a `FastText` object which is very similar.\n"
          ]
        }
      ]
    },
    {
      "cell_type": "code",
      "source": [
        "from google.colab import drive\n",
        "drive.mount('/content/drive')"
      ],
      "metadata": {
        "colab": {
          "base_uri": "https://localhost:8080/"
        },
        "id": "eV3-hUVDUhvY",
        "outputId": "40e0f43f-5ee1-463e-b5f1-fe46ca5d0515"
      },
      "execution_count": null,
      "outputs": [
        {
          "output_type": "stream",
          "name": "stdout",
          "text": [
            "Drive already mounted at /content/drive; to attempt to forcibly remount, call drive.mount(\"/content/drive\", force_remount=True).\n"
          ]
        }
      ]
    },
    {
      "cell_type": "code",
      "source": [
        "import pandas as pd"
      ],
      "metadata": {
        "id": "OX6koG43c19h"
      },
      "execution_count": null,
      "outputs": []
    },
    {
      "cell_type": "code",
      "source": [
        "rename = {\n",
        "        'Застряло/неисправно ТС': \"На пути оставлено/неисправно ТС\",\n",
        "        'Оставлено ТС': \"На пути оставлено/неисправно ТС\"\n",
        "    }\n",
        "list(rename.values())[0]"
      ],
      "metadata": {
        "colab": {
          "base_uri": "https://localhost:8080/",
          "height": 36
        },
        "id": "7SJIESfGaY5M",
        "outputId": "122e87ef-9926-4a17-b8af-738306efaaa3"
      },
      "execution_count": null,
      "outputs": [
        {
          "output_type": "execute_result",
          "data": {
            "text/plain": [
              "'На пути оставлено/неисправно ТС'"
            ],
            "application/vnd.google.colaboratory.intrinsic+json": {
              "type": "string"
            }
          },
          "metadata": {},
          "execution_count": 5
        }
      ]
    },
    {
      "cell_type": "code",
      "source": [
        "df_train = pd.read_excel('all.xlsx')\n",
        "model = fasttext.load_model(\"/content/drive/MyDrive/Data/optimized_3_ошибки.model\")\n",
        "# df_train = df_train[~df_train['Примечание'].isnull()]\n",
        "df_train['subtype'] = \"\"\n",
        "df_train['type'] = \"\"\n",
        "df_train['gen_type'] = \"\"\n",
        "# df_train['Примечание'] = df_train[\"Примечание\"].astype(str) + \" \" + df_train[\"Причина\"].astype(str).str.zfill(6)\n",
        "for i, item in enumerate(df_train['description']):\n",
        "  item = item.replace(\"\\n\",\" \")\n",
        "  df_train['subtype'].iloc[i] = model.predict(item)[0][0].replace(\"__label__\", '').replace(\"_\", ' ')\n",
        "  # print(df_train['subtype'].values)\n",
        "  df_train['type'].iloc[i] = types[df_train['subtype'].iloc[i]]\n",
        "  df_train['gen_type'].iloc[i] = general_types[df_train['type'].iloc[i]]"
      ],
      "metadata": {
        "colab": {
          "base_uri": "https://localhost:8080/"
        },
        "id": "ey5iQn4PDDOT",
        "outputId": "fa145253-a8d2-44a7-8620-f3e992a37361"
      },
      "execution_count": null,
      "outputs": [
        {
          "output_type": "stream",
          "name": "stderr",
          "text": [
            "Warning : `load_model` does not return WordVectorModel or SupervisedModel any more, but a `FastText` object which is very similar.\n",
            "/usr/local/lib/python3.7/dist-packages/pandas/core/indexing.py:1732: SettingWithCopyWarning: \n",
            "A value is trying to be set on a copy of a slice from a DataFrame\n",
            "\n",
            "See the caveats in the documentation: https://pandas.pydata.org/pandas-docs/stable/user_guide/indexing.html#returning-a-view-versus-a-copy\n",
            "  self._setitem_single_block(indexer, value, name)\n"
          ]
        }
      ]
    },
    {
      "cell_type": "code",
      "source": [],
      "metadata": {
        "id": "l6h_egqydbnJ"
      },
      "execution_count": null,
      "outputs": []
    },
    {
      "cell_type": "code",
      "source": [
        "df_train[['Подтип нарушения', 'Подтип новый нарушения']] # по 1 столбцу, с кучей правок"
      ],
      "metadata": {
        "colab": {
          "base_uri": "https://localhost:8080/",
          "height": 1000
        },
        "id": "yjajRJCczlQQ",
        "outputId": "3f494612-42d7-4f98-ce0b-a5fff453a8af"
      },
      "execution_count": null,
      "outputs": [
        {
          "output_type": "execute_result",
          "data": {
            "text/plain": [
              "                                  Подтип нарушения  \\\n",
              "0                           ДТП с участием трамвая   \n",
              "1                           ДТП с участием трамвая   \n",
              "2                           ДТП с участием трамвая   \n",
              "3                     Плохое самочувствие водителя   \n",
              "4                     Трамвай встал под изолятором   \n",
              "5                         Неисправность пантографа   \n",
              "6                   Повреждение подвижного состава   \n",
              "7                           ДТП с участием трамвая   \n",
              "8        Неисправность/повреждение контактной сети   \n",
              "9           Посторонний предмет на контактной сети   \n",
              "10                         ДТП без участия трамвая   \n",
              "11                         ДТП без участия трамвая   \n",
              "12                         ДТП без участия трамвая   \n",
              "13                         ДТП без участия трамвая   \n",
              "14                         ДТП без участия трамвая   \n",
              "15                                    Оставлено ТС   \n",
              "16  Проверка подвижного состава при выезде из депо   \n",
              "17                  Несвоевр. оконч. ночных  работ   \n",
              "18  Проверка подвижного состава при выезде из депо   \n",
              "19  Проверка подвижного состава при выезде из депо   \n",
              "20  Проверка подвижного состава при выезде из депо   \n",
              "21  Проверка подвижного состава при выезде из депо   \n",
              "22                              Пропажа напряжения   \n",
              "23                                  Помеха на пути   \n",
              "24  Проверка подвижного состава при выезде из депо   \n",
              "25  Проверка подвижного состава при выезде из депо   \n",
              "26                          Застряло/неисправно ТС   \n",
              "27                          Застряло/неисправно ТС   \n",
              "\n",
              "                            Подтип новый нарушения  \n",
              "0                                   ДТП с трамваем  \n",
              "1                                   ДТП с трамваем  \n",
              "2                                   ДТП с трамваем  \n",
              "3                    Плохое самочувствие работника  \n",
              "4                     Ошибочные действия персонала  \n",
              "5                         Неисправность пантографа  \n",
              "6                          ДТП трамвая с пешеходом  \n",
              "7                                   ДТП с трамваем  \n",
              "8        Неисправность/повреждение контактной сети  \n",
              "9           Посторонний предмет на контактной сети  \n",
              "10                               ДТП с автомобилем  \n",
              "11                               ДТП с автомобилем  \n",
              "12                               ДТП с автомобилем  \n",
              "13                               ДТП с автомобилем  \n",
              "14                               ДТП с автомобилем  \n",
              "15                                    Оставлено ТС  \n",
              "16  Проверка подвижного состава при выезде из депо  \n",
              "17          Несвоевременное окончание ночных работ  \n",
              "18  Проверка подвижного состава при выезде из депо  \n",
              "19  Проверка подвижного состава при выезде из депо  \n",
              "20  Проверка подвижного состава при выезде из депо  \n",
              "21  Проверка подвижного состава при выезде из депо  \n",
              "22                              Повреждение кабеля  \n",
              "23                    Ошибочные действия персонала  \n",
              "24  Проверка подвижного состава при выезде из депо  \n",
              "25  Проверка подвижного состава при выезде из депо  \n",
              "26                          Застряло/неисправно ТС  \n",
              "27                          Застряло/неисправно ТС  "
            ],
            "text/html": [
              "\n",
              "  <div id=\"df-c2099085-f98b-40ec-812e-4903dfa2dc79\">\n",
              "    <div class=\"colab-df-container\">\n",
              "      <div>\n",
              "<style scoped>\n",
              "    .dataframe tbody tr th:only-of-type {\n",
              "        vertical-align: middle;\n",
              "    }\n",
              "\n",
              "    .dataframe tbody tr th {\n",
              "        vertical-align: top;\n",
              "    }\n",
              "\n",
              "    .dataframe thead th {\n",
              "        text-align: right;\n",
              "    }\n",
              "</style>\n",
              "<table border=\"1\" class=\"dataframe\">\n",
              "  <thead>\n",
              "    <tr style=\"text-align: right;\">\n",
              "      <th></th>\n",
              "      <th>Подтип нарушения</th>\n",
              "      <th>Подтип новый нарушения</th>\n",
              "    </tr>\n",
              "  </thead>\n",
              "  <tbody>\n",
              "    <tr>\n",
              "      <th>0</th>\n",
              "      <td>ДТП с участием трамвая</td>\n",
              "      <td>ДТП с трамваем</td>\n",
              "    </tr>\n",
              "    <tr>\n",
              "      <th>1</th>\n",
              "      <td>ДТП с участием трамвая</td>\n",
              "      <td>ДТП с трамваем</td>\n",
              "    </tr>\n",
              "    <tr>\n",
              "      <th>2</th>\n",
              "      <td>ДТП с участием трамвая</td>\n",
              "      <td>ДТП с трамваем</td>\n",
              "    </tr>\n",
              "    <tr>\n",
              "      <th>3</th>\n",
              "      <td>Плохое самочувствие водителя</td>\n",
              "      <td>Плохое самочувствие работника</td>\n",
              "    </tr>\n",
              "    <tr>\n",
              "      <th>4</th>\n",
              "      <td>Трамвай встал под изолятором</td>\n",
              "      <td>Ошибочные действия персонала</td>\n",
              "    </tr>\n",
              "    <tr>\n",
              "      <th>5</th>\n",
              "      <td>Неисправность пантографа</td>\n",
              "      <td>Неисправность пантографа</td>\n",
              "    </tr>\n",
              "    <tr>\n",
              "      <th>6</th>\n",
              "      <td>Повреждение подвижного состава</td>\n",
              "      <td>ДТП трамвая с пешеходом</td>\n",
              "    </tr>\n",
              "    <tr>\n",
              "      <th>7</th>\n",
              "      <td>ДТП с участием трамвая</td>\n",
              "      <td>ДТП с трамваем</td>\n",
              "    </tr>\n",
              "    <tr>\n",
              "      <th>8</th>\n",
              "      <td>Неисправность/повреждение контактной сети</td>\n",
              "      <td>Неисправность/повреждение контактной сети</td>\n",
              "    </tr>\n",
              "    <tr>\n",
              "      <th>9</th>\n",
              "      <td>Посторонний предмет на контактной сети</td>\n",
              "      <td>Посторонний предмет на контактной сети</td>\n",
              "    </tr>\n",
              "    <tr>\n",
              "      <th>10</th>\n",
              "      <td>ДТП без участия трамвая</td>\n",
              "      <td>ДТП с автомобилем</td>\n",
              "    </tr>\n",
              "    <tr>\n",
              "      <th>11</th>\n",
              "      <td>ДТП без участия трамвая</td>\n",
              "      <td>ДТП с автомобилем</td>\n",
              "    </tr>\n",
              "    <tr>\n",
              "      <th>12</th>\n",
              "      <td>ДТП без участия трамвая</td>\n",
              "      <td>ДТП с автомобилем</td>\n",
              "    </tr>\n",
              "    <tr>\n",
              "      <th>13</th>\n",
              "      <td>ДТП без участия трамвая</td>\n",
              "      <td>ДТП с автомобилем</td>\n",
              "    </tr>\n",
              "    <tr>\n",
              "      <th>14</th>\n",
              "      <td>ДТП без участия трамвая</td>\n",
              "      <td>ДТП с автомобилем</td>\n",
              "    </tr>\n",
              "    <tr>\n",
              "      <th>15</th>\n",
              "      <td>Оставлено ТС</td>\n",
              "      <td>Оставлено ТС</td>\n",
              "    </tr>\n",
              "    <tr>\n",
              "      <th>16</th>\n",
              "      <td>Проверка подвижного состава при выезде из депо</td>\n",
              "      <td>Проверка подвижного состава при выезде из депо</td>\n",
              "    </tr>\n",
              "    <tr>\n",
              "      <th>17</th>\n",
              "      <td>Несвоевр. оконч. ночных  работ</td>\n",
              "      <td>Несвоевременное окончание ночных работ</td>\n",
              "    </tr>\n",
              "    <tr>\n",
              "      <th>18</th>\n",
              "      <td>Проверка подвижного состава при выезде из депо</td>\n",
              "      <td>Проверка подвижного состава при выезде из депо</td>\n",
              "    </tr>\n",
              "    <tr>\n",
              "      <th>19</th>\n",
              "      <td>Проверка подвижного состава при выезде из депо</td>\n",
              "      <td>Проверка подвижного состава при выезде из депо</td>\n",
              "    </tr>\n",
              "    <tr>\n",
              "      <th>20</th>\n",
              "      <td>Проверка подвижного состава при выезде из депо</td>\n",
              "      <td>Проверка подвижного состава при выезде из депо</td>\n",
              "    </tr>\n",
              "    <tr>\n",
              "      <th>21</th>\n",
              "      <td>Проверка подвижного состава при выезде из депо</td>\n",
              "      <td>Проверка подвижного состава при выезде из депо</td>\n",
              "    </tr>\n",
              "    <tr>\n",
              "      <th>22</th>\n",
              "      <td>Пропажа напряжения</td>\n",
              "      <td>Повреждение кабеля</td>\n",
              "    </tr>\n",
              "    <tr>\n",
              "      <th>23</th>\n",
              "      <td>Помеха на пути</td>\n",
              "      <td>Ошибочные действия персонала</td>\n",
              "    </tr>\n",
              "    <tr>\n",
              "      <th>24</th>\n",
              "      <td>Проверка подвижного состава при выезде из депо</td>\n",
              "      <td>Проверка подвижного состава при выезде из депо</td>\n",
              "    </tr>\n",
              "    <tr>\n",
              "      <th>25</th>\n",
              "      <td>Проверка подвижного состава при выезде из депо</td>\n",
              "      <td>Проверка подвижного состава при выезде из депо</td>\n",
              "    </tr>\n",
              "    <tr>\n",
              "      <th>26</th>\n",
              "      <td>Застряло/неисправно ТС</td>\n",
              "      <td>Застряло/неисправно ТС</td>\n",
              "    </tr>\n",
              "    <tr>\n",
              "      <th>27</th>\n",
              "      <td>Застряло/неисправно ТС</td>\n",
              "      <td>Застряло/неисправно ТС</td>\n",
              "    </tr>\n",
              "  </tbody>\n",
              "</table>\n",
              "</div>\n",
              "      <button class=\"colab-df-convert\" onclick=\"convertToInteractive('df-c2099085-f98b-40ec-812e-4903dfa2dc79')\"\n",
              "              title=\"Convert this dataframe to an interactive table.\"\n",
              "              style=\"display:none;\">\n",
              "        \n",
              "  <svg xmlns=\"http://www.w3.org/2000/svg\" height=\"24px\"viewBox=\"0 0 24 24\"\n",
              "       width=\"24px\">\n",
              "    <path d=\"M0 0h24v24H0V0z\" fill=\"none\"/>\n",
              "    <path d=\"M18.56 5.44l.94 2.06.94-2.06 2.06-.94-2.06-.94-.94-2.06-.94 2.06-2.06.94zm-11 1L8.5 8.5l.94-2.06 2.06-.94-2.06-.94L8.5 2.5l-.94 2.06-2.06.94zm10 10l.94 2.06.94-2.06 2.06-.94-2.06-.94-.94-2.06-.94 2.06-2.06.94z\"/><path d=\"M17.41 7.96l-1.37-1.37c-.4-.4-.92-.59-1.43-.59-.52 0-1.04.2-1.43.59L10.3 9.45l-7.72 7.72c-.78.78-.78 2.05 0 2.83L4 21.41c.39.39.9.59 1.41.59.51 0 1.02-.2 1.41-.59l7.78-7.78 2.81-2.81c.8-.78.8-2.07 0-2.86zM5.41 20L4 18.59l7.72-7.72 1.47 1.35L5.41 20z\"/>\n",
              "  </svg>\n",
              "      </button>\n",
              "      \n",
              "  <style>\n",
              "    .colab-df-container {\n",
              "      display:flex;\n",
              "      flex-wrap:wrap;\n",
              "      gap: 12px;\n",
              "    }\n",
              "\n",
              "    .colab-df-convert {\n",
              "      background-color: #E8F0FE;\n",
              "      border: none;\n",
              "      border-radius: 50%;\n",
              "      cursor: pointer;\n",
              "      display: none;\n",
              "      fill: #1967D2;\n",
              "      height: 32px;\n",
              "      padding: 0 0 0 0;\n",
              "      width: 32px;\n",
              "    }\n",
              "\n",
              "    .colab-df-convert:hover {\n",
              "      background-color: #E2EBFA;\n",
              "      box-shadow: 0px 1px 2px rgba(60, 64, 67, 0.3), 0px 1px 3px 1px rgba(60, 64, 67, 0.15);\n",
              "      fill: #174EA6;\n",
              "    }\n",
              "\n",
              "    [theme=dark] .colab-df-convert {\n",
              "      background-color: #3B4455;\n",
              "      fill: #D2E3FC;\n",
              "    }\n",
              "\n",
              "    [theme=dark] .colab-df-convert:hover {\n",
              "      background-color: #434B5C;\n",
              "      box-shadow: 0px 1px 3px 1px rgba(0, 0, 0, 0.15);\n",
              "      filter: drop-shadow(0px 1px 2px rgba(0, 0, 0, 0.3));\n",
              "      fill: #FFFFFF;\n",
              "    }\n",
              "  </style>\n",
              "\n",
              "      <script>\n",
              "        const buttonEl =\n",
              "          document.querySelector('#df-c2099085-f98b-40ec-812e-4903dfa2dc79 button.colab-df-convert');\n",
              "        buttonEl.style.display =\n",
              "          google.colab.kernel.accessAllowed ? 'block' : 'none';\n",
              "\n",
              "        async function convertToInteractive(key) {\n",
              "          const element = document.querySelector('#df-c2099085-f98b-40ec-812e-4903dfa2dc79');\n",
              "          const dataTable =\n",
              "            await google.colab.kernel.invokeFunction('convertToInteractive',\n",
              "                                                     [key], {});\n",
              "          if (!dataTable) return;\n",
              "\n",
              "          const docLinkHtml = 'Like what you see? Visit the ' +\n",
              "            '<a target=\"_blank\" href=https://colab.research.google.com/notebooks/data_table.ipynb>data table notebook</a>'\n",
              "            + ' to learn more about interactive tables.';\n",
              "          element.innerHTML = '';\n",
              "          dataTable['output_type'] = 'display_data';\n",
              "          await google.colab.output.renderOutput(dataTable, element);\n",
              "          const docLink = document.createElement('div');\n",
              "          docLink.innerHTML = docLinkHtml;\n",
              "          element.appendChild(docLink);\n",
              "        }\n",
              "      </script>\n",
              "    </div>\n",
              "  </div>\n",
              "  "
            ]
          },
          "metadata": {},
          "execution_count": 98
        }
      ]
    },
    {
      "cell_type": "code",
      "source": [
        "df_train[['Подтип нарушения', 'Подтип новый нарушения']] # иделаьный"
      ],
      "metadata": {
        "colab": {
          "base_uri": "https://localhost:8080/",
          "height": 423
        },
        "id": "f4Ba8ykUdRJo",
        "outputId": "48792434-cbfc-4ea7-f6ab-a797175cd4b1"
      },
      "execution_count": null,
      "outputs": [
        {
          "output_type": "execute_result",
          "data": {
            "text/plain": [
              "                                  Подтип нарушения  \\\n",
              "0                                     Оставлено ТС   \n",
              "1   Проверка подвижного состава при выезде из депо   \n",
              "2                   Несвоевр. оконч. ночных  работ   \n",
              "3   Проверка подвижного состава при выезде из депо   \n",
              "4                   Повреждение подвижного состава   \n",
              "..                                             ...   \n",
              "94                                             NaN   \n",
              "95                                             NaN   \n",
              "96                                             NaN   \n",
              "97                                             NaN   \n",
              "98                                             NaN   \n",
              "\n",
              "                            Подтип новый нарушения  \n",
              "0                                     Оставлено ТС  \n",
              "1   Проверка подвижного состава при выезде из депо  \n",
              "2           Несвоевременное окончание ночных работ  \n",
              "3   Проверка подвижного состава при выезде из депо  \n",
              "4          Пропажа напряжения со стороны Мосэнерго  \n",
              "..                                             ...  \n",
              "94                                  ДТП с трамваем  \n",
              "95                Падение пассажира при торможении  \n",
              "96                               ДТП с автомобилем  \n",
              "97                                    Оставлено ТС  \n",
              "98                                  ДТП с трамваем  \n",
              "\n",
              "[99 rows x 2 columns]"
            ],
            "text/html": [
              "\n",
              "  <div id=\"df-df61a08d-4b51-4944-a3f4-24f10e4da9f9\">\n",
              "    <div class=\"colab-df-container\">\n",
              "      <div>\n",
              "<style scoped>\n",
              "    .dataframe tbody tr th:only-of-type {\n",
              "        vertical-align: middle;\n",
              "    }\n",
              "\n",
              "    .dataframe tbody tr th {\n",
              "        vertical-align: top;\n",
              "    }\n",
              "\n",
              "    .dataframe thead th {\n",
              "        text-align: right;\n",
              "    }\n",
              "</style>\n",
              "<table border=\"1\" class=\"dataframe\">\n",
              "  <thead>\n",
              "    <tr style=\"text-align: right;\">\n",
              "      <th></th>\n",
              "      <th>Подтип нарушения</th>\n",
              "      <th>Подтип новый нарушения</th>\n",
              "    </tr>\n",
              "  </thead>\n",
              "  <tbody>\n",
              "    <tr>\n",
              "      <th>0</th>\n",
              "      <td>Оставлено ТС</td>\n",
              "      <td>Оставлено ТС</td>\n",
              "    </tr>\n",
              "    <tr>\n",
              "      <th>1</th>\n",
              "      <td>Проверка подвижного состава при выезде из депо</td>\n",
              "      <td>Проверка подвижного состава при выезде из депо</td>\n",
              "    </tr>\n",
              "    <tr>\n",
              "      <th>2</th>\n",
              "      <td>Несвоевр. оконч. ночных  работ</td>\n",
              "      <td>Несвоевременное окончание ночных работ</td>\n",
              "    </tr>\n",
              "    <tr>\n",
              "      <th>3</th>\n",
              "      <td>Проверка подвижного состава при выезде из депо</td>\n",
              "      <td>Проверка подвижного состава при выезде из депо</td>\n",
              "    </tr>\n",
              "    <tr>\n",
              "      <th>4</th>\n",
              "      <td>Повреждение подвижного состава</td>\n",
              "      <td>Пропажа напряжения со стороны Мосэнерго</td>\n",
              "    </tr>\n",
              "    <tr>\n",
              "      <th>...</th>\n",
              "      <td>...</td>\n",
              "      <td>...</td>\n",
              "    </tr>\n",
              "    <tr>\n",
              "      <th>94</th>\n",
              "      <td>NaN</td>\n",
              "      <td>ДТП с трамваем</td>\n",
              "    </tr>\n",
              "    <tr>\n",
              "      <th>95</th>\n",
              "      <td>NaN</td>\n",
              "      <td>Падение пассажира при торможении</td>\n",
              "    </tr>\n",
              "    <tr>\n",
              "      <th>96</th>\n",
              "      <td>NaN</td>\n",
              "      <td>ДТП с автомобилем</td>\n",
              "    </tr>\n",
              "    <tr>\n",
              "      <th>97</th>\n",
              "      <td>NaN</td>\n",
              "      <td>Оставлено ТС</td>\n",
              "    </tr>\n",
              "    <tr>\n",
              "      <th>98</th>\n",
              "      <td>NaN</td>\n",
              "      <td>ДТП с трамваем</td>\n",
              "    </tr>\n",
              "  </tbody>\n",
              "</table>\n",
              "<p>99 rows × 2 columns</p>\n",
              "</div>\n",
              "      <button class=\"colab-df-convert\" onclick=\"convertToInteractive('df-df61a08d-4b51-4944-a3f4-24f10e4da9f9')\"\n",
              "              title=\"Convert this dataframe to an interactive table.\"\n",
              "              style=\"display:none;\">\n",
              "        \n",
              "  <svg xmlns=\"http://www.w3.org/2000/svg\" height=\"24px\"viewBox=\"0 0 24 24\"\n",
              "       width=\"24px\">\n",
              "    <path d=\"M0 0h24v24H0V0z\" fill=\"none\"/>\n",
              "    <path d=\"M18.56 5.44l.94 2.06.94-2.06 2.06-.94-2.06-.94-.94-2.06-.94 2.06-2.06.94zm-11 1L8.5 8.5l.94-2.06 2.06-.94-2.06-.94L8.5 2.5l-.94 2.06-2.06.94zm10 10l.94 2.06.94-2.06 2.06-.94-2.06-.94-.94-2.06-.94 2.06-2.06.94z\"/><path d=\"M17.41 7.96l-1.37-1.37c-.4-.4-.92-.59-1.43-.59-.52 0-1.04.2-1.43.59L10.3 9.45l-7.72 7.72c-.78.78-.78 2.05 0 2.83L4 21.41c.39.39.9.59 1.41.59.51 0 1.02-.2 1.41-.59l7.78-7.78 2.81-2.81c.8-.78.8-2.07 0-2.86zM5.41 20L4 18.59l7.72-7.72 1.47 1.35L5.41 20z\"/>\n",
              "  </svg>\n",
              "      </button>\n",
              "      \n",
              "  <style>\n",
              "    .colab-df-container {\n",
              "      display:flex;\n",
              "      flex-wrap:wrap;\n",
              "      gap: 12px;\n",
              "    }\n",
              "\n",
              "    .colab-df-convert {\n",
              "      background-color: #E8F0FE;\n",
              "      border: none;\n",
              "      border-radius: 50%;\n",
              "      cursor: pointer;\n",
              "      display: none;\n",
              "      fill: #1967D2;\n",
              "      height: 32px;\n",
              "      padding: 0 0 0 0;\n",
              "      width: 32px;\n",
              "    }\n",
              "\n",
              "    .colab-df-convert:hover {\n",
              "      background-color: #E2EBFA;\n",
              "      box-shadow: 0px 1px 2px rgba(60, 64, 67, 0.3), 0px 1px 3px 1px rgba(60, 64, 67, 0.15);\n",
              "      fill: #174EA6;\n",
              "    }\n",
              "\n",
              "    [theme=dark] .colab-df-convert {\n",
              "      background-color: #3B4455;\n",
              "      fill: #D2E3FC;\n",
              "    }\n",
              "\n",
              "    [theme=dark] .colab-df-convert:hover {\n",
              "      background-color: #434B5C;\n",
              "      box-shadow: 0px 1px 3px 1px rgba(0, 0, 0, 0.15);\n",
              "      filter: drop-shadow(0px 1px 2px rgba(0, 0, 0, 0.3));\n",
              "      fill: #FFFFFF;\n",
              "    }\n",
              "  </style>\n",
              "\n",
              "      <script>\n",
              "        const buttonEl =\n",
              "          document.querySelector('#df-df61a08d-4b51-4944-a3f4-24f10e4da9f9 button.colab-df-convert');\n",
              "        buttonEl.style.display =\n",
              "          google.colab.kernel.accessAllowed ? 'block' : 'none';\n",
              "\n",
              "        async function convertToInteractive(key) {\n",
              "          const element = document.querySelector('#df-df61a08d-4b51-4944-a3f4-24f10e4da9f9');\n",
              "          const dataTable =\n",
              "            await google.colab.kernel.invokeFunction('convertToInteractive',\n",
              "                                                     [key], {});\n",
              "          if (!dataTable) return;\n",
              "\n",
              "          const docLinkHtml = 'Like what you see? Visit the ' +\n",
              "            '<a target=\"_blank\" href=https://colab.research.google.com/notebooks/data_table.ipynb>data table notebook</a>'\n",
              "            + ' to learn more about interactive tables.';\n",
              "          element.innerHTML = '';\n",
              "          dataTable['output_type'] = 'display_data';\n",
              "          await google.colab.output.renderOutput(dataTable, element);\n",
              "          const docLink = document.createElement('div');\n",
              "          docLink.innerHTML = docLinkHtml;\n",
              "          element.appendChild(docLink);\n",
              "        }\n",
              "      </script>\n",
              "    </div>\n",
              "  </div>\n",
              "  "
            ]
          },
          "metadata": {},
          "execution_count": 7
        }
      ]
    },
    {
      "cell_type": "code",
      "source": [
        "df_train[['Подтип нарушения', 'Подтип новый нарушения']] # по 1 столбцу, с кучей правок"
      ],
      "metadata": {
        "colab": {
          "base_uri": "https://localhost:8080/",
          "height": 423
        },
        "id": "oOEH0KSdgZ2z",
        "outputId": "4af30441-3562-4765-c987-4af3e2330f30"
      },
      "execution_count": null,
      "outputs": [
        {
          "output_type": "execute_result",
          "data": {
            "text/plain": [
              "                                  Подтип нарушения  \\\n",
              "0                                     Оставлено ТС   \n",
              "1   Проверка подвижного состава при выезде из депо   \n",
              "2                   Несвоевр. оконч. ночных  работ   \n",
              "3   Проверка подвижного состава при выезде из депо   \n",
              "4                   Повреждение подвижного состава   \n",
              "..                                             ...   \n",
              "94                                             NaN   \n",
              "95                                             NaN   \n",
              "96                                             NaN   \n",
              "97                                             NaN   \n",
              "98                                             NaN   \n",
              "\n",
              "                            Подтип новый нарушения  \n",
              "0                                     Оставлено ТС  \n",
              "1   Проверка подвижного состава при выезде из депо  \n",
              "2           Несвоевременное окончание ночных работ  \n",
              "3   Проверка подвижного состава при выезде из депо  \n",
              "4          Пропажа напряжения со стороны Мосэнерго  \n",
              "..                                             ...  \n",
              "94                                  ДТП с трамваем  \n",
              "95                Падение пассажира при торможении  \n",
              "96                               ДТП с автомобилем  \n",
              "97                                    Оставлено ТС  \n",
              "98                                  ДТП с трамваем  \n",
              "\n",
              "[99 rows x 2 columns]"
            ],
            "text/html": [
              "\n",
              "  <div id=\"df-5f213403-6cd3-4236-94e7-a0574a643fa7\">\n",
              "    <div class=\"colab-df-container\">\n",
              "      <div>\n",
              "<style scoped>\n",
              "    .dataframe tbody tr th:only-of-type {\n",
              "        vertical-align: middle;\n",
              "    }\n",
              "\n",
              "    .dataframe tbody tr th {\n",
              "        vertical-align: top;\n",
              "    }\n",
              "\n",
              "    .dataframe thead th {\n",
              "        text-align: right;\n",
              "    }\n",
              "</style>\n",
              "<table border=\"1\" class=\"dataframe\">\n",
              "  <thead>\n",
              "    <tr style=\"text-align: right;\">\n",
              "      <th></th>\n",
              "      <th>Подтип нарушения</th>\n",
              "      <th>Подтип новый нарушения</th>\n",
              "    </tr>\n",
              "  </thead>\n",
              "  <tbody>\n",
              "    <tr>\n",
              "      <th>0</th>\n",
              "      <td>Оставлено ТС</td>\n",
              "      <td>Оставлено ТС</td>\n",
              "    </tr>\n",
              "    <tr>\n",
              "      <th>1</th>\n",
              "      <td>Проверка подвижного состава при выезде из депо</td>\n",
              "      <td>Проверка подвижного состава при выезде из депо</td>\n",
              "    </tr>\n",
              "    <tr>\n",
              "      <th>2</th>\n",
              "      <td>Несвоевр. оконч. ночных  работ</td>\n",
              "      <td>Несвоевременное окончание ночных работ</td>\n",
              "    </tr>\n",
              "    <tr>\n",
              "      <th>3</th>\n",
              "      <td>Проверка подвижного состава при выезде из депо</td>\n",
              "      <td>Проверка подвижного состава при выезде из депо</td>\n",
              "    </tr>\n",
              "    <tr>\n",
              "      <th>4</th>\n",
              "      <td>Повреждение подвижного состава</td>\n",
              "      <td>Пропажа напряжения со стороны Мосэнерго</td>\n",
              "    </tr>\n",
              "    <tr>\n",
              "      <th>...</th>\n",
              "      <td>...</td>\n",
              "      <td>...</td>\n",
              "    </tr>\n",
              "    <tr>\n",
              "      <th>94</th>\n",
              "      <td>NaN</td>\n",
              "      <td>ДТП с трамваем</td>\n",
              "    </tr>\n",
              "    <tr>\n",
              "      <th>95</th>\n",
              "      <td>NaN</td>\n",
              "      <td>Падение пассажира при торможении</td>\n",
              "    </tr>\n",
              "    <tr>\n",
              "      <th>96</th>\n",
              "      <td>NaN</td>\n",
              "      <td>ДТП с автомобилем</td>\n",
              "    </tr>\n",
              "    <tr>\n",
              "      <th>97</th>\n",
              "      <td>NaN</td>\n",
              "      <td>Оставлено ТС</td>\n",
              "    </tr>\n",
              "    <tr>\n",
              "      <th>98</th>\n",
              "      <td>NaN</td>\n",
              "      <td>ДТП с трамваем</td>\n",
              "    </tr>\n",
              "  </tbody>\n",
              "</table>\n",
              "<p>99 rows × 2 columns</p>\n",
              "</div>\n",
              "      <button class=\"colab-df-convert\" onclick=\"convertToInteractive('df-5f213403-6cd3-4236-94e7-a0574a643fa7')\"\n",
              "              title=\"Convert this dataframe to an interactive table.\"\n",
              "              style=\"display:none;\">\n",
              "        \n",
              "  <svg xmlns=\"http://www.w3.org/2000/svg\" height=\"24px\"viewBox=\"0 0 24 24\"\n",
              "       width=\"24px\">\n",
              "    <path d=\"M0 0h24v24H0V0z\" fill=\"none\"/>\n",
              "    <path d=\"M18.56 5.44l.94 2.06.94-2.06 2.06-.94-2.06-.94-.94-2.06-.94 2.06-2.06.94zm-11 1L8.5 8.5l.94-2.06 2.06-.94-2.06-.94L8.5 2.5l-.94 2.06-2.06.94zm10 10l.94 2.06.94-2.06 2.06-.94-2.06-.94-.94-2.06-.94 2.06-2.06.94z\"/><path d=\"M17.41 7.96l-1.37-1.37c-.4-.4-.92-.59-1.43-.59-.52 0-1.04.2-1.43.59L10.3 9.45l-7.72 7.72c-.78.78-.78 2.05 0 2.83L4 21.41c.39.39.9.59 1.41.59.51 0 1.02-.2 1.41-.59l7.78-7.78 2.81-2.81c.8-.78.8-2.07 0-2.86zM5.41 20L4 18.59l7.72-7.72 1.47 1.35L5.41 20z\"/>\n",
              "  </svg>\n",
              "      </button>\n",
              "      \n",
              "  <style>\n",
              "    .colab-df-container {\n",
              "      display:flex;\n",
              "      flex-wrap:wrap;\n",
              "      gap: 12px;\n",
              "    }\n",
              "\n",
              "    .colab-df-convert {\n",
              "      background-color: #E8F0FE;\n",
              "      border: none;\n",
              "      border-radius: 50%;\n",
              "      cursor: pointer;\n",
              "      display: none;\n",
              "      fill: #1967D2;\n",
              "      height: 32px;\n",
              "      padding: 0 0 0 0;\n",
              "      width: 32px;\n",
              "    }\n",
              "\n",
              "    .colab-df-convert:hover {\n",
              "      background-color: #E2EBFA;\n",
              "      box-shadow: 0px 1px 2px rgba(60, 64, 67, 0.3), 0px 1px 3px 1px rgba(60, 64, 67, 0.15);\n",
              "      fill: #174EA6;\n",
              "    }\n",
              "\n",
              "    [theme=dark] .colab-df-convert {\n",
              "      background-color: #3B4455;\n",
              "      fill: #D2E3FC;\n",
              "    }\n",
              "\n",
              "    [theme=dark] .colab-df-convert:hover {\n",
              "      background-color: #434B5C;\n",
              "      box-shadow: 0px 1px 3px 1px rgba(0, 0, 0, 0.15);\n",
              "      filter: drop-shadow(0px 1px 2px rgba(0, 0, 0, 0.3));\n",
              "      fill: #FFFFFF;\n",
              "    }\n",
              "  </style>\n",
              "\n",
              "      <script>\n",
              "        const buttonEl =\n",
              "          document.querySelector('#df-5f213403-6cd3-4236-94e7-a0574a643fa7 button.colab-df-convert');\n",
              "        buttonEl.style.display =\n",
              "          google.colab.kernel.accessAllowed ? 'block' : 'none';\n",
              "\n",
              "        async function convertToInteractive(key) {\n",
              "          const element = document.querySelector('#df-5f213403-6cd3-4236-94e7-a0574a643fa7');\n",
              "          const dataTable =\n",
              "            await google.colab.kernel.invokeFunction('convertToInteractive',\n",
              "                                                     [key], {});\n",
              "          if (!dataTable) return;\n",
              "\n",
              "          const docLinkHtml = 'Like what you see? Visit the ' +\n",
              "            '<a target=\"_blank\" href=https://colab.research.google.com/notebooks/data_table.ipynb>data table notebook</a>'\n",
              "            + ' to learn more about interactive tables.';\n",
              "          element.innerHTML = '';\n",
              "          dataTable['output_type'] = 'display_data';\n",
              "          await google.colab.output.renderOutput(dataTable, element);\n",
              "          const docLink = document.createElement('div');\n",
              "          docLink.innerHTML = docLinkHtml;\n",
              "          element.appendChild(docLink);\n",
              "        }\n",
              "      </script>\n",
              "    </div>\n",
              "  </div>\n",
              "  "
            ]
          },
          "metadata": {},
          "execution_count": 8
        }
      ]
    },
    {
      "cell_type": "code",
      "source": [
        "df_train.to_excel('dsd.xlsx')"
      ],
      "metadata": {
        "id": "wcle3WlcDK89"
      },
      "execution_count": null,
      "outputs": []
    },
    {
      "cell_type": "code",
      "source": [
        "\n",
        "types = {\n",
        "    'ДТП с трамваем': 'ДТП с участием трамвая',\n",
        "    'ДТП трамвая с пешеходом': 'ДТП с участием трамвая',\n",
        "    'ДТП с автомобилем': 'ДТП без участия трамвая',\n",
        "    'ДТП автомобиля с пешеходом': 'ДТП без участия трамвая',\n",
        "    'Техническая неисправность вагона': 'Техническая неисправность трамвая',\n",
        "    'Неисправность пантографа': 'Техническая неисправность трамвая',\n",
        "    'Неисправность устройств пути': 'Неисправность/повреждение инфраструктуры',\n",
        "    'Повреждение кабеля': 'Неисправность/повреждение инфраструктуры',\n",
        "    'Посторонний предмет на контактной сети': 'Неисправность/повреждение инфраструктуры',\n",
        "    'Неисправность/повреждение контактной сети': 'Неисправность/повреждение инфраструктуры',\n",
        "    'Повреждение контактной сети пантографом': 'Неисправность/повреждение инфраструктуры',\n",
        "    'Разъезд на стрелке': 'Неисправность/повреждение инфраструктуры',\n",
        "    'Сход вагона': 'Сход вагона',\n",
        "    'Обнаружение бесхозных предметов': 'Нарушения, связанные с действиями пассажиров',\n",
        "    'Плохое самочувствие пассажира': 'Нарушения, связанные с действиями пассажиров',\n",
        "    'Действия пассажиров с задержанием': 'Нарушения, связанные с действиями пассажиров',\n",
        "    'Действия пассажиров без задержания': 'Нарушения, связанные с действиями пассажиров',\n",
        "    'Пешеход мешает проезду': 'Нарушения, связанные с действиями пассажиров',\n",
        "    'Падение пассажира при посадке/выходе, в стоящем вагоне': 'Нарушения, связанные с действиями пассажиров',\n",
        "    'Падение пассажира во время движения, в стоящем вагоне': 'Нарушения, связанные с действиями пассажиров',\n",
        "    'Падение пассажира при отправлении': 'Нарушения, связанные с действиями пассажиров',\n",
        "    'Падение пассажира при торможении': 'Нарушения, связанные с действиями пассажиров',\n",
        "    'Плохое самочувствие работника': 'Нарушения, связанные с работниками',\n",
        "    'Работник получил травму': 'Нарушения, связанные с работниками',\n",
        "    'Несвоевременное окончание ночных работ': 'Препятствия движению',\n",
        "    'Дорожные работы': 'Препятствия движению',\n",
        "    'Неудовлетворительное состояние проезжей части': 'Препятствия движению',\n",
        "    'Помеха на пути': 'Препятствия движению',\n",
        "    'Скопление постороннего транспорта': 'Препятствия движению',\n",
        "    'Скопление воды/снега/грязи на путях': 'Препятствия движению',\n",
        "    'Застряло/неисправно ТС': 'Препятствия движению',\n",
        "    'Оставлено ТС': 'Препятствия движению',\n",
        "    'Наезд на посторонний предмет (препятствие)': 'Препятствия движению',\n",
        "    'Скопление вагонов при выезде/въезде из депо': 'Препятствия движению',\n",
        "    'Неисправность городского светофора': 'Неисправность/повреждение городской инфраструктуры',\n",
        "    'Пропажа напряжения со стороны Мосэнерго': 'Неисправность/повреждение городской инфраструктуры',\n",
        "    'Проверка подвижного состава при выезде из депо': 'Прочие происшествия',\n",
        "    'ЧП на территории города': 'Прочие происшествия',\n",
        "    'Мероприятия УГИБДД (ГУВД)': 'Прочие происшествия',\n",
        "    'Трамвай встал под изолятором': 'Прочие происшествия',\n",
        "    'Повреждение подвижного состава': 'Прочие происшествия',\n",
        "    'Ошибочные действия персонала': 'Ошибочные действия персонала'\n",
        "}\n",
        "general_types = {\n",
        "    'ДТП с участием трамвая': 'ДТП',\n",
        "    'ДТП без участия трамвая': 'ДТП',\n",
        "    'Техническая неисправность трамвая': 'Неисправность инфраструктуры/подвижного состава',\n",
        "    'Неисправность/повреждение инфраструктуры': 'Неисправность инфраструктуры/подвижного состава',\n",
        "    'Сход вагона': 'Неисправность инфраструктуры/подвижного состава',\n",
        "    'Нарушения, связанные с действиями пассажиров': 'Прочие',\n",
        "    'Нарушения, связанные с работниками': 'Прочие',\n",
        "    'Прочие происшествия': 'Прочие',\n",
        "    'Неисправность/повреждение городской инфраструктуры': 'Прочие',\n",
        "    'Препятствия движению': 'Прочие',\n",
        "    'Ошибочные действия персонала': 'Ошибочные действия персонала'\n",
        "}\n"
      ],
      "metadata": {
        "id": "IwLdT2tAhS-N"
      },
      "execution_count": null,
      "outputs": []
    },
    {
      "cell_type": "code",
      "source": [
        "df_x = pd.read_excel('/content/new (1).xlsx')"
      ],
      "metadata": {
        "id": "FwLtbw1yz4Yu"
      },
      "execution_count": null,
      "outputs": []
    },
    {
      "cell_type": "code",
      "source": [
        "df_x = df_x[['Примечание','Подтип нарушения']]\n",
        "df_x['Подтип нарушения'] = df_x['Подтип нарушения'].apply(lambda x: x.replace(\" \", \"_\"))"
      ],
      "metadata": {
        "colab": {
          "base_uri": "https://localhost:8080/"
        },
        "id": "F3TRMXCZyDYw",
        "outputId": "18a1ff98-8d07-4418-bc78-60016f0643e1"
      },
      "execution_count": null,
      "outputs": [
        {
          "output_type": "stream",
          "name": "stderr",
          "text": [
            "/usr/local/lib/python3.7/dist-packages/ipykernel_launcher.py:2: SettingWithCopyWarning: \n",
            "A value is trying to be set on a copy of a slice from a DataFrame.\n",
            "Try using .loc[row_indexer,col_indexer] = value instead\n",
            "\n",
            "See the caveats in the documentation: https://pandas.pydata.org/pandas-docs/stable/user_guide/indexing.html#returning-a-view-versus-a-copy\n",
            "  \n"
          ]
        }
      ]
    },
    {
      "cell_type": "code",
      "source": [
        "X = df_x.lemmas.tolist()\n",
        "y = df_x['Подтип нарушения'].tolist()\n",
        "\n",
        "X, y = np.array(X), np.array(y)\n",
        "\n",
        "X_train, X_test, y_train, y_test = train_test_split(X, y, test_size=0.3)"
      ],
      "metadata": {
        "id": "AyRD_bWU0J0m"
      },
      "execution_count": null,
      "outputs": []
    },
    {
      "cell_type": "code",
      "source": [
        "with open('data.train.txt', \"w+\") as outfile:\n",
        "  for i in range(len(X_train)):\n",
        "    outfile.write('__label__' + y_train[i] + ' ' +   X_train[i] + '\\n')\n",
        "\n",
        "with open('test.txt', \"w+\") as outfile:\n",
        "  for i in range(len(X_test)):\n",
        "    outfile.write('__label__' + y_test[i] + ' ' +   X_test[i] + '\\n')\n"
      ],
      "metadata": {
        "id": "TTngNDDq1UMv"
      },
      "execution_count": null,
      "outputs": []
    },
    {
      "cell_type": "code",
      "source": [
        "fname = 'optimized.model'"
      ],
      "metadata": {
        "id": "m0qAoEl83VKH"
      },
      "execution_count": null,
      "outputs": []
    },
    {
      "cell_type": "code",
      "source": [
        "import fasttext\n",
        "# from gensim.models.fasttext import load_facebook_model"
      ],
      "metadata": {
        "id": "HMSG1Ral5VGC"
      },
      "execution_count": null,
      "outputs": []
    },
    {
      "cell_type": "code",
      "source": [
        "gensim.__version__"
      ],
      "metadata": {
        "colab": {
          "base_uri": "https://localhost:8080/",
          "height": 36
        },
        "id": "wb5Ekrk46GQ5",
        "outputId": "98133f72-f515-4b39-fdd2-2e849039c4c0"
      },
      "execution_count": null,
      "outputs": [
        {
          "output_type": "execute_result",
          "data": {
            "text/plain": [
              "'4.2.0'"
            ],
            "application/vnd.google.colaboratory.intrinsic+json": {
              "type": "string"
            }
          },
          "metadata": {},
          "execution_count": 17
        }
      ]
    },
    {
      "cell_type": "code",
      "source": [
        "! pip3 install --upgrade gensim"
      ],
      "metadata": {
        "id": "1VqbtmOc5z5F"
      },
      "execution_count": null,
      "outputs": []
    },
    {
      "cell_type": "code",
      "source": [],
      "metadata": {
        "id": "lRafXUmaLtyv"
      },
      "execution_count": null,
      "outputs": []
    },
    {
      "cell_type": "code",
      "source": [
        "!pip install fasttext"
      ],
      "metadata": {
        "colab": {
          "base_uri": "https://localhost:8080/"
        },
        "id": "SuPNObYQL2yD",
        "outputId": "64c3c2b4-3692-4d6e-bfa0-f9ef5cbcba11"
      },
      "execution_count": null,
      "outputs": [
        {
          "output_type": "stream",
          "name": "stdout",
          "text": [
            "Looking in indexes: https://pypi.org/simple, https://us-python.pkg.dev/colab-wheels/public/simple/\n",
            "Collecting fasttext\n",
            "  Downloading fasttext-0.9.2.tar.gz (68 kB)\n",
            "\u001b[K     |████████████████████████████████| 68 kB 4.9 MB/s \n",
            "\u001b[?25hCollecting pybind11>=2.2\n",
            "  Using cached pybind11-2.10.1-py3-none-any.whl (216 kB)\n",
            "Requirement already satisfied: setuptools>=0.7.0 in /usr/local/lib/python3.7/dist-packages (from fasttext) (57.4.0)\n",
            "Requirement already satisfied: numpy in /usr/local/lib/python3.7/dist-packages (from fasttext) (1.21.6)\n",
            "Building wheels for collected packages: fasttext\n",
            "  Building wheel for fasttext (setup.py) ... \u001b[?25l\u001b[?25hdone\n",
            "  Created wheel for fasttext: filename=fasttext-0.9.2-cp37-cp37m-linux_x86_64.whl size=3158267 sha256=32361134ad2ecd8eb00d2716270b51341621c582be59dbdbd53464034ccbcb87\n",
            "  Stored in directory: /root/.cache/pip/wheels/4e/ca/bf/b020d2be95f7641801a6597a29c8f4f19e38f9c02a345bab9b\n",
            "Successfully built fasttext\n",
            "Installing collected packages: pybind11, fasttext\n",
            "Successfully installed fasttext-0.9.2 pybind11-2.10.1\n"
          ]
        }
      ]
    },
    {
      "cell_type": "code",
      "source": [],
      "metadata": {
        "id": "BJeW8TAHMLwD"
      },
      "execution_count": null,
      "outputs": []
    },
    {
      "cell_type": "code",
      "source": [
        "import fasttext"
      ],
      "metadata": {
        "id": "UusJDC__Lyi-"
      },
      "execution_count": null,
      "outputs": []
    },
    {
      "cell_type": "code",
      "source": [
        "model = fasttext.load_model(\"optimized.model\")\n",
        "\n",
        "print(model)\n",
        "# model.build_vocab('data.train.txt', update=True)\n",
        "# model.train('data.train.txt', total_examples=model.corpus_count, epochs=5)"
      ],
      "metadata": {
        "colab": {
          "base_uri": "https://localhost:8080/"
        },
        "id": "QqpfVmmwp-QR",
        "outputId": "d9e994b6-7c54-45f5-ac56-bf88372c2c81"
      },
      "execution_count": null,
      "outputs": [
        {
          "output_type": "stream",
          "name": "stdout",
          "text": [
            "<fasttext.FastText._FastText object at 0x7fe684327e10>\n"
          ]
        },
        {
          "output_type": "stream",
          "name": "stderr",
          "text": [
            "Warning : `load_model` does not return WordVectorModel or SupervisedModel any more, but a `FastText` object which is very similar.\n"
          ]
        }
      ]
    },
    {
      "cell_type": "code",
      "source": [
        "model.get_analogies(\"а/м\", \"машина\", '')"
      ],
      "metadata": {
        "colab": {
          "base_uri": "https://localhost:8080/"
        },
        "id": "MFk53TGWp-Nk",
        "outputId": "944d249d-df4f-4d85-e32e-e806f4079ee2"
      },
      "execution_count": null,
      "outputs": [
        {
          "output_type": "execute_result",
          "data": {
            "text/plain": [
              "[(0.7926570177078247, 'максимально'),\n",
              " (0.7660893201828003, 'данилычев'),\n",
              " (0.7657509446144104, 'спилить'),\n",
              " (0.7522227168083191, 'оэк'),\n",
              " (0.7428737282752991, 'роща'),\n",
              " (0.7428735494613647, 'ваврентович'),\n",
              " (0.7428735494613647, 'воронов'),\n",
              " (0.7426000237464905, 'экскаватор'),\n",
              " (0.7426000237464905, 'компенсанциооной'),\n",
              " (0.742043137550354, 'демонтировать')]"
            ]
          },
          "metadata": {},
          "execution_count": 255
        }
      ]
    },
    {
      "cell_type": "code",
      "source": [
        "from natasha import Doc, MorphVocab, Segmenter, NewsEmbedding, NewsMorphTagger\n",
        "regex = re.compile('[А-Яа-я:!\\)\\()A-z\\_\\%/|/]+')\n",
        "def words_only(text, regex=regex):\n",
        "  regex = \" \".join([w for w in regex.findall(text.replace('(', '').replace(')', ''))])\n",
        "  return regex\n",
        "\n",
        "segmenter = Segmenter()\n",
        "morph_vocab = MorphVocab()\n",
        "emb = NewsEmbedding()\n",
        "morph_tagger = NewsMorphTagger(emb)\n",
        "\n",
        "def natasha_lemmatize(text):\n",
        "  try:\n",
        "    doc = Doc(text)\n",
        "    doc.segment(segmenter)\n",
        "    doc.tag_morph(morph_tagger)\n",
        "    for token in doc.tokens:\n",
        "      # print(len(token.text))\n",
        "      # if len(token.text) > 3 or token.text in ['в', \"до\", 'овд', 'c']:\n",
        "      token.lemmatize(morph_vocab)\n",
        "    # return {_.text: _.lemma for _ in doc.tokens}\n",
        "    return \" \".join([p.lemma for p in doc.tokens])\n",
        "  except:\n",
        "    return \" \"\n",
        "\n",
        "# получаем отчищенный и токенезированный текст\n",
        "def clean_text(text):   \n",
        "  return natasha_lemmatize(words_only(text))\n",
        "\n",
        "with Pool(8) as p:\n",
        "  lemmas = list(tqdm(p.imap(clean_text, df['Примечание']), total=len(df)))\n",
        "\n",
        "df['lemmas'] = lemmas"
      ],
      "metadata": {
        "id": "RjujMaJXuh7Z",
        "colab": {
          "base_uri": "https://localhost:8080/",
          "height": 84,
          "referenced_widgets": [
            "764a037fd39e4c52b8dcc87a8fd19e93",
            "e547e73a33314062aee08c974fdcc314",
            "4c7b4da76ab14bb9aaf1b2170f09bec8",
            "912b16f6eb6a4e918cacdac5f585a51d",
            "d0ebd39ae6e04c089c0adec32a2c6915",
            "ca1c48bae2d249e9b8f0e838b2a5065f",
            "4f86e1fd70564a2a839f467a46a1bd96",
            "1196c886d2a2440c98d103b1474f6ac4",
            "4a79cbed65d544a0857fbaa45586224c",
            "d2511c8276bc4777b07a80042f91b843",
            "0762f1403cbf4ee6ac9fe43e0a26c7ed"
          ]
        },
        "outputId": "0df076eb-feb3-4c09-d0ae-0487f925ef82"
      },
      "execution_count": null,
      "outputs": [
        {
          "output_type": "stream",
          "name": "stderr",
          "text": [
            "/usr/local/lib/python3.7/dist-packages/ipykernel_launcher.py:31: TqdmDeprecationWarning: This function will be removed in tqdm==5.0.0\n",
            "Please use `tqdm.notebook.tqdm` instead of `tqdm.tqdm_notebook`\n"
          ]
        },
        {
          "output_type": "display_data",
          "data": {
            "text/plain": [
              "  0%|          | 0/11290 [00:00<?, ?it/s]"
            ],
            "application/vnd.jupyter.widget-view+json": {
              "version_major": 2,
              "version_minor": 0,
              "model_id": "764a037fd39e4c52b8dcc87a8fd19e93"
            }
          },
          "metadata": {}
        }
      ]
    },
    {
      "cell_type": "code",
      "source": [],
      "metadata": {
        "id": "R2SitnPsp-K8"
      },
      "execution_count": null,
      "outputs": []
    },
    {
      "cell_type": "code",
      "source": [],
      "metadata": {
        "id": "LwF58g-dp-BM"
      },
      "execution_count": null,
      "outputs": []
    },
    {
      "cell_type": "code",
      "source": [
        "from imblearn.over_sampling import BorderlineSMOTE, SMOTE, ADASYN, SMOTENC, RandomOverSampler\n",
        "from imblearn.under_sampling import (RandomUnderSampler, \n",
        "                                    NearMiss, \n",
        "                                    InstanceHardnessThreshold,\n",
        "                                    CondensedNearestNeighbour,\n",
        "                                    EditedNearestNeighbours,\n",
        "                                    RepeatedEditedNearestNeighbours,\n",
        "                                    AllKNN,\n",
        "                                    NeighbourhoodCleaningRule,\n",
        "                                    OneSidedSelection,\n",
        "                                    TomekLinks)\n",
        "from imblearn.combine import SMOTEENN, SMOTETomek\n",
        "from imblearn.pipeline import make_pipeline"
      ],
      "metadata": {
        "id": "je4dv7kZgFAE"
      },
      "execution_count": null,
      "outputs": []
    },
    {
      "cell_type": "code",
      "source": [
        "def train_model(classifier, feature_vector_train, label, feature_vector_valid):\n",
        "    classifier.fit(feature_vector_train, label)\n",
        "\n",
        "    predictions = classifier.predict(feature_vector_valid)    \n",
        "\n",
        "    return metrics.f1_score(valid_y,predictions, average='weighted')"
      ],
      "metadata": {
        "id": "IFM0pcZ-guDs"
      },
      "execution_count": null,
      "outputs": []
    },
    {
      "cell_type": "code",
      "source": [
        "from sklearn import model_selection, preprocessing, metrics, linear_model, svm\n",
        "\n",
        "train_x, valid_x, train_y, valid_y = model_selection.train_test_split(df['Примечание'], df['Подтип нарушения'])\n",
        "encoder = preprocessing.LabelEncoder()\n",
        "train_y = encoder.fit_transform(train_y)\n",
        "valid_y = encoder.fit_transform(valid_y)"
      ],
      "metadata": {
        "id": "ND74H1ZpgSpd"
      },
      "execution_count": null,
      "outputs": []
    },
    {
      "cell_type": "code",
      "source": [
        "from sklearn.feature_extraction.text import TfidfVectorizer, CountVectorizer\n",
        "\n",
        "tfidf_vect = TfidfVectorizer(analyzer='word', token_pattern=r'\\w{1,}', max_features=100000)\n",
        "tfidf_vect.fit(df['Примечание'])\n",
        "xtrain_tfidf =  tfidf_vect.transform(train_x)\n",
        "xvalid_tfidf =  tfidf_vect.transform(valid_x)"
      ],
      "metadata": {
        "id": "8Xn7q25zgVhR"
      },
      "execution_count": null,
      "outputs": []
    },
    {
      "cell_type": "code",
      "source": [
        "rus = RandomUnderSampler(random_state=0, replacement=True)\n",
        "rus_xtrain_tfidf, rus_train_y = rus.fit_resample(xtrain_tfidf, train_y)\n",
        "accuracyrus = train_model(linear_model.LogisticRegression(random_state=0, solver='newton-cg',multi_class='multinomial'),rus_xtrain_tfidf, rus_train_y, xvalid_tfidf)\n",
        "print (\"Logistic regressio RUS, WordLevel TFIDF: \", accuracyrus)"
      ],
      "metadata": {
        "colab": {
          "base_uri": "https://localhost:8080/"
        },
        "id": "4BQKPzVkgFw0",
        "outputId": "0687bf04-7b84-4a23-ecb3-855e8bfc157e"
      },
      "execution_count": null,
      "outputs": [
        {
          "output_type": "stream",
          "name": "stdout",
          "text": [
            "Logistic regressio RUS, WordLevel TFIDF:  0.2291666706363441\n"
          ]
        }
      ]
    },
    {
      "cell_type": "code",
      "source": [
        "enn_xtrain_tfidf, enn_train_y = EditedNearestNeighbours().fit_resample(xtrain_tfidf, train_y)\n",
        "accuracy = train_model(linear_model.LogisticRegression(random_state=0, solver='lbfgs',multi_class='multinomial'),enn_xtrain_tfidf, enn_train_y, xvalid_tfidf)\n",
        "print (\"Logistic regression {0}, WordLevel TFIDF: \", accuracy)"
      ],
      "metadata": {
        "colab": {
          "base_uri": "https://localhost:8080/"
        },
        "id": "FX-casK2jb5N",
        "outputId": "185ff439-c5a7-43cb-ad58-ad58ca384467"
      },
      "execution_count": null,
      "outputs": [
        {
          "output_type": "stream",
          "name": "stdout",
          "text": [
            "Logistic regression {0}, WordLevel TFIDF:  0.44240194421789375\n"
          ]
        }
      ]
    },
    {
      "cell_type": "code",
      "source": [
        "#Random Over Sampling\n",
        "ros = RandomOverSampler(random_state=777)\n",
        "ros_xtrain_tfidf, ros_train_y = ros.fit_resample(xtrain_tfidf, train_y)\n",
        "accuracyROS = train_model(linear_model.LogisticRegression(random_state=0, solver='lbfgs',multi_class='multinomial'),ros_xtrain_tfidf, ros_train_y, xvalid_tfidf)\n",
        "print (\"Logistic regression ROS, WordLevel TFIDF: \", accuracyROS)"
      ],
      "metadata": {
        "colab": {
          "base_uri": "https://localhost:8080/"
        },
        "id": "6PQfiKw7jhK9",
        "outputId": "2e10fadc-9306-4679-85b1-cf7000bea5e3"
      },
      "execution_count": null,
      "outputs": [
        {
          "output_type": "stream",
          "name": "stdout",
          "text": [
            "Logistic regression ROS, WordLevel TFIDF:  0.5896376535297474\n"
          ]
        },
        {
          "output_type": "stream",
          "name": "stderr",
          "text": [
            "/usr/local/lib/python3.7/dist-packages/sklearn/linear_model/_logistic.py:818: ConvergenceWarning: lbfgs failed to converge (status=1):\n",
            "STOP: TOTAL NO. of ITERATIONS REACHED LIMIT.\n",
            "\n",
            "Increase the number of iterations (max_iter) or scale the data as shown in:\n",
            "    https://scikit-learn.org/stable/modules/preprocessing.html\n",
            "Please also refer to the documentation for alternative solver options:\n",
            "    https://scikit-learn.org/stable/modules/linear_model.html#logistic-regression\n",
            "  extra_warning_msg=_LOGISTIC_SOLVER_CONVERGENCE_MSG,\n"
          ]
        }
      ]
    },
    {
      "cell_type": "code",
      "source": [
        "sm = SMOTE(random_state=777)\n",
        "sm_x_train_tfidf, sm_train_y = sm.fit_resample(xtrain_tfidf, train_y)\n",
        "accuracySMOTE = train_model(linear_model.LogisticRegression(random_state=0, solver='newton-cg',multi_class='multinomial'),sm_xtrain_tfidf, sm_train_y, xvalid_tfidf)\n",
        "print (\"Logistic regression SMOTE, WordLevel TFIDF: \", accuracySMOTE)\n",
        "#https://stackoverflow.com/questions/49395939/smote-initialisation-expects-n-neighbors-n-samples-but-n-samples-n-neighbo"
      ],
      "metadata": {
        "colab": {
          "base_uri": "https://localhost:8080/",
          "height": 380
        },
        "id": "XwFjnqKSj-a1",
        "outputId": "ee5d5147-606a-4fc0-9879-bbd1851f8b9a"
      },
      "execution_count": null,
      "outputs": [
        {
          "output_type": "error",
          "ename": "ValueError",
          "evalue": "ignored",
          "traceback": [
            "\u001b[0;31m---------------------------------------------------------------------------\u001b[0m",
            "\u001b[0;31mValueError\u001b[0m                                Traceback (most recent call last)",
            "\u001b[0;32m<ipython-input-222-fb893e5e7585>\u001b[0m in \u001b[0;36m<module>\u001b[0;34m()\u001b[0m\n\u001b[1;32m      1\u001b[0m \u001b[0msm\u001b[0m \u001b[0;34m=\u001b[0m \u001b[0mSMOTE\u001b[0m\u001b[0;34m(\u001b[0m\u001b[0mrandom_state\u001b[0m\u001b[0;34m=\u001b[0m\u001b[0;36m777\u001b[0m\u001b[0;34m)\u001b[0m\u001b[0;34m\u001b[0m\u001b[0;34m\u001b[0m\u001b[0m\n\u001b[0;32m----> 2\u001b[0;31m \u001b[0msm_x_train_tfidf\u001b[0m\u001b[0;34m,\u001b[0m \u001b[0msm_train_y\u001b[0m \u001b[0;34m=\u001b[0m \u001b[0msm\u001b[0m\u001b[0;34m.\u001b[0m\u001b[0mfit_resample\u001b[0m\u001b[0;34m(\u001b[0m\u001b[0mxtrain_tfidf\u001b[0m\u001b[0;34m,\u001b[0m \u001b[0mtrain_y\u001b[0m\u001b[0;34m)\u001b[0m\u001b[0;34m\u001b[0m\u001b[0;34m\u001b[0m\u001b[0m\n\u001b[0m\u001b[1;32m      3\u001b[0m \u001b[0maccuracySMOTE\u001b[0m \u001b[0;34m=\u001b[0m \u001b[0mtrain_model\u001b[0m\u001b[0;34m(\u001b[0m\u001b[0mlinear_model\u001b[0m\u001b[0;34m.\u001b[0m\u001b[0mLogisticRegression\u001b[0m\u001b[0;34m(\u001b[0m\u001b[0mrandom_state\u001b[0m\u001b[0;34m=\u001b[0m\u001b[0;36m0\u001b[0m\u001b[0;34m,\u001b[0m \u001b[0msolver\u001b[0m\u001b[0;34m=\u001b[0m\u001b[0;34m'newton-cg'\u001b[0m\u001b[0;34m,\u001b[0m\u001b[0mmulti_class\u001b[0m\u001b[0;34m=\u001b[0m\u001b[0;34m'multinomial'\u001b[0m\u001b[0;34m)\u001b[0m\u001b[0;34m,\u001b[0m\u001b[0msm_xtrain_tfidf\u001b[0m\u001b[0;34m,\u001b[0m \u001b[0msm_train_y\u001b[0m\u001b[0;34m,\u001b[0m \u001b[0mxvalid_tfidf\u001b[0m\u001b[0;34m)\u001b[0m\u001b[0;34m\u001b[0m\u001b[0;34m\u001b[0m\u001b[0m\n\u001b[1;32m      4\u001b[0m \u001b[0mprint\u001b[0m \u001b[0;34m(\u001b[0m\u001b[0;34m\"Logistic regression SMOTE, WordLevel TFIDF: \"\u001b[0m\u001b[0;34m,\u001b[0m \u001b[0maccuracySMOTE\u001b[0m\u001b[0;34m)\u001b[0m\u001b[0;34m\u001b[0m\u001b[0;34m\u001b[0m\u001b[0m\n",
            "\u001b[0;32m/usr/local/lib/python3.7/dist-packages/imblearn/base.py\u001b[0m in \u001b[0;36mfit_resample\u001b[0;34m(self, X, y)\u001b[0m\n\u001b[1;32m     81\u001b[0m         )\n\u001b[1;32m     82\u001b[0m \u001b[0;34m\u001b[0m\u001b[0m\n\u001b[0;32m---> 83\u001b[0;31m         \u001b[0moutput\u001b[0m \u001b[0;34m=\u001b[0m \u001b[0mself\u001b[0m\u001b[0;34m.\u001b[0m\u001b[0m_fit_resample\u001b[0m\u001b[0;34m(\u001b[0m\u001b[0mX\u001b[0m\u001b[0;34m,\u001b[0m \u001b[0my\u001b[0m\u001b[0;34m)\u001b[0m\u001b[0;34m\u001b[0m\u001b[0;34m\u001b[0m\u001b[0m\n\u001b[0m\u001b[1;32m     84\u001b[0m \u001b[0;34m\u001b[0m\u001b[0m\n\u001b[1;32m     85\u001b[0m         y_ = (\n",
            "\u001b[0;32m/usr/local/lib/python3.7/dist-packages/imblearn/over_sampling/_smote/base.py\u001b[0m in \u001b[0;36m_fit_resample\u001b[0;34m(self, X, y)\u001b[0m\n\u001b[1;32m    307\u001b[0m \u001b[0;34m\u001b[0m\u001b[0m\n\u001b[1;32m    308\u001b[0m             \u001b[0mself\u001b[0m\u001b[0;34m.\u001b[0m\u001b[0mnn_k_\u001b[0m\u001b[0;34m.\u001b[0m\u001b[0mfit\u001b[0m\u001b[0;34m(\u001b[0m\u001b[0mX_class\u001b[0m\u001b[0;34m)\u001b[0m\u001b[0;34m\u001b[0m\u001b[0;34m\u001b[0m\u001b[0m\n\u001b[0;32m--> 309\u001b[0;31m             \u001b[0mnns\u001b[0m \u001b[0;34m=\u001b[0m \u001b[0mself\u001b[0m\u001b[0;34m.\u001b[0m\u001b[0mnn_k_\u001b[0m\u001b[0;34m.\u001b[0m\u001b[0mkneighbors\u001b[0m\u001b[0;34m(\u001b[0m\u001b[0mX_class\u001b[0m\u001b[0;34m,\u001b[0m \u001b[0mreturn_distance\u001b[0m\u001b[0;34m=\u001b[0m\u001b[0;32mFalse\u001b[0m\u001b[0;34m)\u001b[0m\u001b[0;34m[\u001b[0m\u001b[0;34m:\u001b[0m\u001b[0;34m,\u001b[0m \u001b[0;36m1\u001b[0m\u001b[0;34m:\u001b[0m\u001b[0;34m]\u001b[0m\u001b[0;34m\u001b[0m\u001b[0;34m\u001b[0m\u001b[0m\n\u001b[0m\u001b[1;32m    310\u001b[0m             X_new, y_new = self._make_samples(\n\u001b[1;32m    311\u001b[0m                 \u001b[0mX_class\u001b[0m\u001b[0;34m,\u001b[0m \u001b[0my\u001b[0m\u001b[0;34m.\u001b[0m\u001b[0mdtype\u001b[0m\u001b[0;34m,\u001b[0m \u001b[0mclass_sample\u001b[0m\u001b[0;34m,\u001b[0m \u001b[0mX_class\u001b[0m\u001b[0;34m,\u001b[0m \u001b[0mnns\u001b[0m\u001b[0;34m,\u001b[0m \u001b[0mn_samples\u001b[0m\u001b[0;34m,\u001b[0m \u001b[0;36m1.0\u001b[0m\u001b[0;34m\u001b[0m\u001b[0;34m\u001b[0m\u001b[0m\n",
            "\u001b[0;32m/usr/local/lib/python3.7/dist-packages/sklearn/neighbors/_base.py\u001b[0m in \u001b[0;36mkneighbors\u001b[0;34m(self, X, n_neighbors, return_distance)\u001b[0m\n\u001b[1;32m    727\u001b[0m             raise ValueError(\n\u001b[1;32m    728\u001b[0m                 \u001b[0;34m\"Expected n_neighbors <= n_samples, \"\u001b[0m\u001b[0;34m\u001b[0m\u001b[0;34m\u001b[0m\u001b[0m\n\u001b[0;32m--> 729\u001b[0;31m                 \u001b[0;34m\" but n_samples = %d, n_neighbors = %d\"\u001b[0m \u001b[0;34m%\u001b[0m \u001b[0;34m(\u001b[0m\u001b[0mn_samples_fit\u001b[0m\u001b[0;34m,\u001b[0m \u001b[0mn_neighbors\u001b[0m\u001b[0;34m)\u001b[0m\u001b[0;34m\u001b[0m\u001b[0;34m\u001b[0m\u001b[0m\n\u001b[0m\u001b[1;32m    730\u001b[0m             )\n\u001b[1;32m    731\u001b[0m \u001b[0;34m\u001b[0m\u001b[0m\n",
            "\u001b[0;31mValueError\u001b[0m: Expected n_neighbors <= n_samples,  but n_samples = 3, n_neighbors = 6"
          ]
        }
      ]
    },
    {
      "cell_type": "code",
      "source": [
        "ad = ADASYN(random_state=777)\n",
        "ad_xtrain_tfidf, ad_train_y = ad.fit_resample(xtrain_tfidf, train_y)\n",
        "accuracyADASYN = train_model(linear_model.LogisticRegression(random_state=0, solver='lbfgs',multi_class='multinomial'),ad_xtrain_tfidf, ad_train_y, xvalid_tfidf)\n",
        "print (\"Logistic regression ADASYN, WordLevel TFIDF: \", accuracyADASYN)"
      ],
      "metadata": {
        "colab": {
          "base_uri": "https://localhost:8080/",
          "height": 380
        },
        "id": "RY7QuLEPj-uF",
        "outputId": "203b8151-9b07-45b6-d1b2-61d3531c2edf"
      },
      "execution_count": null,
      "outputs": [
        {
          "output_type": "error",
          "ename": "ValueError",
          "evalue": "ignored",
          "traceback": [
            "\u001b[0;31m---------------------------------------------------------------------------\u001b[0m",
            "\u001b[0;31mValueError\u001b[0m                                Traceback (most recent call last)",
            "\u001b[0;32m<ipython-input-223-9eb229f61a61>\u001b[0m in \u001b[0;36m<module>\u001b[0;34m()\u001b[0m\n\u001b[1;32m      1\u001b[0m \u001b[0mad\u001b[0m \u001b[0;34m=\u001b[0m \u001b[0mADASYN\u001b[0m\u001b[0;34m(\u001b[0m\u001b[0mrandom_state\u001b[0m\u001b[0;34m=\u001b[0m\u001b[0;36m777\u001b[0m\u001b[0;34m)\u001b[0m\u001b[0;34m\u001b[0m\u001b[0;34m\u001b[0m\u001b[0m\n\u001b[0;32m----> 2\u001b[0;31m \u001b[0mad_xtrain_tfidf\u001b[0m\u001b[0;34m,\u001b[0m \u001b[0mad_train_y\u001b[0m \u001b[0;34m=\u001b[0m \u001b[0mad\u001b[0m\u001b[0;34m.\u001b[0m\u001b[0mfit_resample\u001b[0m\u001b[0;34m(\u001b[0m\u001b[0mxtrain_tfidf\u001b[0m\u001b[0;34m,\u001b[0m \u001b[0mtrain_y\u001b[0m\u001b[0;34m)\u001b[0m\u001b[0;34m\u001b[0m\u001b[0;34m\u001b[0m\u001b[0m\n\u001b[0m\u001b[1;32m      3\u001b[0m \u001b[0maccuracyADASYN\u001b[0m \u001b[0;34m=\u001b[0m \u001b[0mtrain_model\u001b[0m\u001b[0;34m(\u001b[0m\u001b[0mlinear_model\u001b[0m\u001b[0;34m.\u001b[0m\u001b[0mLogisticRegression\u001b[0m\u001b[0;34m(\u001b[0m\u001b[0mrandom_state\u001b[0m\u001b[0;34m=\u001b[0m\u001b[0;36m0\u001b[0m\u001b[0;34m,\u001b[0m \u001b[0msolver\u001b[0m\u001b[0;34m=\u001b[0m\u001b[0;34m'lbfgs'\u001b[0m\u001b[0;34m,\u001b[0m\u001b[0mmulti_class\u001b[0m\u001b[0;34m=\u001b[0m\u001b[0;34m'multinomial'\u001b[0m\u001b[0;34m)\u001b[0m\u001b[0;34m,\u001b[0m\u001b[0mad_xtrain_tfidf\u001b[0m\u001b[0;34m,\u001b[0m \u001b[0mad_train_y\u001b[0m\u001b[0;34m,\u001b[0m \u001b[0mxvalid_tfidf\u001b[0m\u001b[0;34m)\u001b[0m\u001b[0;34m\u001b[0m\u001b[0;34m\u001b[0m\u001b[0m\n\u001b[1;32m      4\u001b[0m \u001b[0mprint\u001b[0m \u001b[0;34m(\u001b[0m\u001b[0;34m\"Logistic regression ADASYN, WordLevel TFIDF: \"\u001b[0m\u001b[0;34m,\u001b[0m \u001b[0maccuracyADASYN\u001b[0m\u001b[0;34m)\u001b[0m\u001b[0;34m\u001b[0m\u001b[0;34m\u001b[0m\u001b[0m\n",
            "\u001b[0;32m/usr/local/lib/python3.7/dist-packages/imblearn/base.py\u001b[0m in \u001b[0;36mfit_resample\u001b[0;34m(self, X, y)\u001b[0m\n\u001b[1;32m     81\u001b[0m         )\n\u001b[1;32m     82\u001b[0m \u001b[0;34m\u001b[0m\u001b[0m\n\u001b[0;32m---> 83\u001b[0;31m         \u001b[0moutput\u001b[0m \u001b[0;34m=\u001b[0m \u001b[0mself\u001b[0m\u001b[0;34m.\u001b[0m\u001b[0m_fit_resample\u001b[0m\u001b[0;34m(\u001b[0m\u001b[0mX\u001b[0m\u001b[0;34m,\u001b[0m \u001b[0my\u001b[0m\u001b[0;34m)\u001b[0m\u001b[0;34m\u001b[0m\u001b[0;34m\u001b[0m\u001b[0m\n\u001b[0m\u001b[1;32m     84\u001b[0m \u001b[0;34m\u001b[0m\u001b[0m\n\u001b[1;32m     85\u001b[0m         y_ = (\n",
            "\u001b[0;32m/usr/local/lib/python3.7/dist-packages/imblearn/over_sampling/_adasyn.py\u001b[0m in \u001b[0;36m_fit_resample\u001b[0;34m(self, X, y)\u001b[0m\n\u001b[1;32m    152\u001b[0m             \u001b[0;31m# to find the class NN to generate new samples\u001b[0m\u001b[0;34m\u001b[0m\u001b[0;34m\u001b[0m\u001b[0;34m\u001b[0m\u001b[0m\n\u001b[1;32m    153\u001b[0m             \u001b[0mself\u001b[0m\u001b[0;34m.\u001b[0m\u001b[0mnn_\u001b[0m\u001b[0;34m.\u001b[0m\u001b[0mfit\u001b[0m\u001b[0;34m(\u001b[0m\u001b[0mX_class\u001b[0m\u001b[0;34m)\u001b[0m\u001b[0;34m\u001b[0m\u001b[0;34m\u001b[0m\u001b[0m\n\u001b[0;32m--> 154\u001b[0;31m             \u001b[0mnns\u001b[0m \u001b[0;34m=\u001b[0m \u001b[0mself\u001b[0m\u001b[0;34m.\u001b[0m\u001b[0mnn_\u001b[0m\u001b[0;34m.\u001b[0m\u001b[0mkneighbors\u001b[0m\u001b[0;34m(\u001b[0m\u001b[0mX_class\u001b[0m\u001b[0;34m,\u001b[0m \u001b[0mreturn_distance\u001b[0m\u001b[0;34m=\u001b[0m\u001b[0;32mFalse\u001b[0m\u001b[0;34m)\u001b[0m\u001b[0;34m[\u001b[0m\u001b[0;34m:\u001b[0m\u001b[0;34m,\u001b[0m \u001b[0;36m1\u001b[0m\u001b[0;34m:\u001b[0m\u001b[0;34m]\u001b[0m\u001b[0;34m\u001b[0m\u001b[0;34m\u001b[0m\u001b[0m\n\u001b[0m\u001b[1;32m    155\u001b[0m \u001b[0;34m\u001b[0m\u001b[0m\n\u001b[1;32m    156\u001b[0m             \u001b[0menumerated_class_indices\u001b[0m \u001b[0;34m=\u001b[0m \u001b[0mnp\u001b[0m\u001b[0;34m.\u001b[0m\u001b[0marange\u001b[0m\u001b[0;34m(\u001b[0m\u001b[0mlen\u001b[0m\u001b[0;34m(\u001b[0m\u001b[0mtarget_class_indices\u001b[0m\u001b[0;34m)\u001b[0m\u001b[0;34m)\u001b[0m\u001b[0;34m\u001b[0m\u001b[0;34m\u001b[0m\u001b[0m\n",
            "\u001b[0;32m/usr/local/lib/python3.7/dist-packages/sklearn/neighbors/_base.py\u001b[0m in \u001b[0;36mkneighbors\u001b[0;34m(self, X, n_neighbors, return_distance)\u001b[0m\n\u001b[1;32m    727\u001b[0m             raise ValueError(\n\u001b[1;32m    728\u001b[0m                 \u001b[0;34m\"Expected n_neighbors <= n_samples, \"\u001b[0m\u001b[0;34m\u001b[0m\u001b[0;34m\u001b[0m\u001b[0m\n\u001b[0;32m--> 729\u001b[0;31m                 \u001b[0;34m\" but n_samples = %d, n_neighbors = %d\"\u001b[0m \u001b[0;34m%\u001b[0m \u001b[0;34m(\u001b[0m\u001b[0mn_samples_fit\u001b[0m\u001b[0;34m,\u001b[0m \u001b[0mn_neighbors\u001b[0m\u001b[0;34m)\u001b[0m\u001b[0;34m\u001b[0m\u001b[0;34m\u001b[0m\u001b[0m\n\u001b[0m\u001b[1;32m    730\u001b[0m             )\n\u001b[1;32m    731\u001b[0m \u001b[0;34m\u001b[0m\u001b[0m\n",
            "\u001b[0;31mValueError\u001b[0m: Expected n_neighbors <= n_samples,  but n_samples = 3, n_neighbors = 6"
          ]
        }
      ]
    },
    {
      "cell_type": "code",
      "source": [
        "se = SMOTEENN(random_state=42)\n",
        "se_xtrain_tfidf, se_train_y = se.fit_resample(xtrain_tfidf, train_y)\n",
        "accuracy = train_model(linear_model.LogisticRegression(random_state=0, solver='lbfgs',multi_class='multinomial'),se_xtrain_tfidf, se_train_y, xvalid_tfidf)\n",
        "print (\"Logistic regression SMOTEENN: \", accuracy)"
      ],
      "metadata": {
        "colab": {
          "base_uri": "https://localhost:8080/",
          "height": 380
        },
        "id": "5OOR_uyvkDGn",
        "outputId": "10f76530-eb07-490e-e95e-7b54410270b5"
      },
      "execution_count": null,
      "outputs": [
        {
          "output_type": "error",
          "ename": "ValueError",
          "evalue": "ignored",
          "traceback": [
            "\u001b[0;31m---------------------------------------------------------------------------\u001b[0m",
            "\u001b[0;31mValueError\u001b[0m                                Traceback (most recent call last)",
            "\u001b[0;32m<ipython-input-225-5df84ce4a47d>\u001b[0m in \u001b[0;36m<module>\u001b[0;34m()\u001b[0m\n\u001b[1;32m      1\u001b[0m \u001b[0mse\u001b[0m \u001b[0;34m=\u001b[0m \u001b[0mSMOTEENN\u001b[0m\u001b[0;34m(\u001b[0m\u001b[0mrandom_state\u001b[0m\u001b[0;34m=\u001b[0m\u001b[0;36m42\u001b[0m\u001b[0;34m)\u001b[0m\u001b[0;34m\u001b[0m\u001b[0;34m\u001b[0m\u001b[0m\n\u001b[0;32m----> 2\u001b[0;31m \u001b[0mse_xtrain_tfidf\u001b[0m\u001b[0;34m,\u001b[0m \u001b[0mse_train_y\u001b[0m \u001b[0;34m=\u001b[0m \u001b[0mse\u001b[0m\u001b[0;34m.\u001b[0m\u001b[0mfit_resample\u001b[0m\u001b[0;34m(\u001b[0m\u001b[0mxtrain_tfidf\u001b[0m\u001b[0;34m,\u001b[0m \u001b[0mtrain_y\u001b[0m\u001b[0;34m)\u001b[0m\u001b[0;34m\u001b[0m\u001b[0;34m\u001b[0m\u001b[0m\n\u001b[0m\u001b[1;32m      3\u001b[0m \u001b[0maccuracy\u001b[0m \u001b[0;34m=\u001b[0m \u001b[0mtrain_model\u001b[0m\u001b[0;34m(\u001b[0m\u001b[0mlinear_model\u001b[0m\u001b[0;34m.\u001b[0m\u001b[0mLogisticRegression\u001b[0m\u001b[0;34m(\u001b[0m\u001b[0mrandom_state\u001b[0m\u001b[0;34m=\u001b[0m\u001b[0;36m0\u001b[0m\u001b[0;34m,\u001b[0m \u001b[0msolver\u001b[0m\u001b[0;34m=\u001b[0m\u001b[0;34m'lbfgs'\u001b[0m\u001b[0;34m,\u001b[0m\u001b[0mmulti_class\u001b[0m\u001b[0;34m=\u001b[0m\u001b[0;34m'multinomial'\u001b[0m\u001b[0;34m)\u001b[0m\u001b[0;34m,\u001b[0m\u001b[0mse_xtrain_tfidf\u001b[0m\u001b[0;34m,\u001b[0m \u001b[0mse_train_y\u001b[0m\u001b[0;34m,\u001b[0m \u001b[0mxvalid_tfidf\u001b[0m\u001b[0;34m)\u001b[0m\u001b[0;34m\u001b[0m\u001b[0;34m\u001b[0m\u001b[0m\n\u001b[1;32m      4\u001b[0m \u001b[0mprint\u001b[0m \u001b[0;34m(\u001b[0m\u001b[0;34m\"Logistic regression SMOTEENN: \"\u001b[0m\u001b[0;34m,\u001b[0m \u001b[0maccuracy\u001b[0m\u001b[0;34m)\u001b[0m\u001b[0;34m\u001b[0m\u001b[0;34m\u001b[0m\u001b[0m\n",
            "\u001b[0;32m/usr/local/lib/python3.7/dist-packages/imblearn/base.py\u001b[0m in \u001b[0;36mfit_resample\u001b[0;34m(self, X, y)\u001b[0m\n\u001b[1;32m     81\u001b[0m         )\n\u001b[1;32m     82\u001b[0m \u001b[0;34m\u001b[0m\u001b[0m\n\u001b[0;32m---> 83\u001b[0;31m         \u001b[0moutput\u001b[0m \u001b[0;34m=\u001b[0m \u001b[0mself\u001b[0m\u001b[0;34m.\u001b[0m\u001b[0m_fit_resample\u001b[0m\u001b[0;34m(\u001b[0m\u001b[0mX\u001b[0m\u001b[0;34m,\u001b[0m \u001b[0my\u001b[0m\u001b[0;34m)\u001b[0m\u001b[0;34m\u001b[0m\u001b[0;34m\u001b[0m\u001b[0m\n\u001b[0m\u001b[1;32m     84\u001b[0m \u001b[0;34m\u001b[0m\u001b[0m\n\u001b[1;32m     85\u001b[0m         y_ = (\n",
            "\u001b[0;32m/usr/local/lib/python3.7/dist-packages/imblearn/combine/_smote_enn.py\u001b[0m in \u001b[0;36m_fit_resample\u001b[0;34m(self, X, y)\u001b[0m\n\u001b[1;32m    142\u001b[0m         \u001b[0mself\u001b[0m\u001b[0;34m.\u001b[0m\u001b[0msampling_strategy_\u001b[0m \u001b[0;34m=\u001b[0m \u001b[0mself\u001b[0m\u001b[0;34m.\u001b[0m\u001b[0msampling_strategy\u001b[0m\u001b[0;34m\u001b[0m\u001b[0;34m\u001b[0m\u001b[0m\n\u001b[1;32m    143\u001b[0m \u001b[0;34m\u001b[0m\u001b[0m\n\u001b[0;32m--> 144\u001b[0;31m         \u001b[0mX_res\u001b[0m\u001b[0;34m,\u001b[0m \u001b[0my_res\u001b[0m \u001b[0;34m=\u001b[0m \u001b[0mself\u001b[0m\u001b[0;34m.\u001b[0m\u001b[0msmote_\u001b[0m\u001b[0;34m.\u001b[0m\u001b[0mfit_resample\u001b[0m\u001b[0;34m(\u001b[0m\u001b[0mX\u001b[0m\u001b[0;34m,\u001b[0m \u001b[0my\u001b[0m\u001b[0;34m)\u001b[0m\u001b[0;34m\u001b[0m\u001b[0;34m\u001b[0m\u001b[0m\n\u001b[0m\u001b[1;32m    145\u001b[0m         \u001b[0;32mreturn\u001b[0m \u001b[0mself\u001b[0m\u001b[0;34m.\u001b[0m\u001b[0menn_\u001b[0m\u001b[0;34m.\u001b[0m\u001b[0mfit_resample\u001b[0m\u001b[0;34m(\u001b[0m\u001b[0mX_res\u001b[0m\u001b[0;34m,\u001b[0m \u001b[0my_res\u001b[0m\u001b[0;34m)\u001b[0m\u001b[0;34m\u001b[0m\u001b[0;34m\u001b[0m\u001b[0m\n",
            "\u001b[0;32m/usr/local/lib/python3.7/dist-packages/imblearn/base.py\u001b[0m in \u001b[0;36mfit_resample\u001b[0;34m(self, X, y)\u001b[0m\n\u001b[1;32m     81\u001b[0m         )\n\u001b[1;32m     82\u001b[0m \u001b[0;34m\u001b[0m\u001b[0m\n\u001b[0;32m---> 83\u001b[0;31m         \u001b[0moutput\u001b[0m \u001b[0;34m=\u001b[0m \u001b[0mself\u001b[0m\u001b[0;34m.\u001b[0m\u001b[0m_fit_resample\u001b[0m\u001b[0;34m(\u001b[0m\u001b[0mX\u001b[0m\u001b[0;34m,\u001b[0m \u001b[0my\u001b[0m\u001b[0;34m)\u001b[0m\u001b[0;34m\u001b[0m\u001b[0;34m\u001b[0m\u001b[0m\n\u001b[0m\u001b[1;32m     84\u001b[0m \u001b[0;34m\u001b[0m\u001b[0m\n\u001b[1;32m     85\u001b[0m         y_ = (\n",
            "\u001b[0;32m/usr/local/lib/python3.7/dist-packages/imblearn/over_sampling/_smote/base.py\u001b[0m in \u001b[0;36m_fit_resample\u001b[0;34m(self, X, y)\u001b[0m\n\u001b[1;32m    307\u001b[0m \u001b[0;34m\u001b[0m\u001b[0m\n\u001b[1;32m    308\u001b[0m             \u001b[0mself\u001b[0m\u001b[0;34m.\u001b[0m\u001b[0mnn_k_\u001b[0m\u001b[0;34m.\u001b[0m\u001b[0mfit\u001b[0m\u001b[0;34m(\u001b[0m\u001b[0mX_class\u001b[0m\u001b[0;34m)\u001b[0m\u001b[0;34m\u001b[0m\u001b[0;34m\u001b[0m\u001b[0m\n\u001b[0;32m--> 309\u001b[0;31m             \u001b[0mnns\u001b[0m \u001b[0;34m=\u001b[0m \u001b[0mself\u001b[0m\u001b[0;34m.\u001b[0m\u001b[0mnn_k_\u001b[0m\u001b[0;34m.\u001b[0m\u001b[0mkneighbors\u001b[0m\u001b[0;34m(\u001b[0m\u001b[0mX_class\u001b[0m\u001b[0;34m,\u001b[0m \u001b[0mreturn_distance\u001b[0m\u001b[0;34m=\u001b[0m\u001b[0;32mFalse\u001b[0m\u001b[0;34m)\u001b[0m\u001b[0;34m[\u001b[0m\u001b[0;34m:\u001b[0m\u001b[0;34m,\u001b[0m \u001b[0;36m1\u001b[0m\u001b[0;34m:\u001b[0m\u001b[0;34m]\u001b[0m\u001b[0;34m\u001b[0m\u001b[0;34m\u001b[0m\u001b[0m\n\u001b[0m\u001b[1;32m    310\u001b[0m             X_new, y_new = self._make_samples(\n\u001b[1;32m    311\u001b[0m                 \u001b[0mX_class\u001b[0m\u001b[0;34m,\u001b[0m \u001b[0my\u001b[0m\u001b[0;34m.\u001b[0m\u001b[0mdtype\u001b[0m\u001b[0;34m,\u001b[0m \u001b[0mclass_sample\u001b[0m\u001b[0;34m,\u001b[0m \u001b[0mX_class\u001b[0m\u001b[0;34m,\u001b[0m \u001b[0mnns\u001b[0m\u001b[0;34m,\u001b[0m \u001b[0mn_samples\u001b[0m\u001b[0;34m,\u001b[0m \u001b[0;36m1.0\u001b[0m\u001b[0;34m\u001b[0m\u001b[0;34m\u001b[0m\u001b[0m\n",
            "\u001b[0;32m/usr/local/lib/python3.7/dist-packages/sklearn/neighbors/_base.py\u001b[0m in \u001b[0;36mkneighbors\u001b[0;34m(self, X, n_neighbors, return_distance)\u001b[0m\n\u001b[1;32m    727\u001b[0m             raise ValueError(\n\u001b[1;32m    728\u001b[0m                 \u001b[0;34m\"Expected n_neighbors <= n_samples, \"\u001b[0m\u001b[0;34m\u001b[0m\u001b[0;34m\u001b[0m\u001b[0m\n\u001b[0;32m--> 729\u001b[0;31m                 \u001b[0;34m\" but n_samples = %d, n_neighbors = %d\"\u001b[0m \u001b[0;34m%\u001b[0m \u001b[0;34m(\u001b[0m\u001b[0mn_samples_fit\u001b[0m\u001b[0;34m,\u001b[0m \u001b[0mn_neighbors\u001b[0m\u001b[0;34m)\u001b[0m\u001b[0;34m\u001b[0m\u001b[0;34m\u001b[0m\u001b[0m\n\u001b[0m\u001b[1;32m    730\u001b[0m             )\n\u001b[1;32m    731\u001b[0m \u001b[0;34m\u001b[0m\u001b[0m\n",
            "\u001b[0;31mValueError\u001b[0m: Expected n_neighbors <= n_samples,  but n_samples = 3, n_neighbors = 6"
          ]
        }
      ]
    },
    {
      "cell_type": "code",
      "source": [
        "from nlpaug.util.file.download import DownloadUtil\n",
        "\n",
        "\n",
        "DownloadUtil.download_glove(model_name='glove.6B', dest_dir='.')"
      ],
      "metadata": {
        "id": "TXxztBzMkFKV"
      },
      "execution_count": null,
      "outputs": []
    },
    {
      "cell_type": "code",
      "source": [
        "df = pd.read_excel(\"/content/trams_curr_nrm (12).xlsx\")"
      ],
      "metadata": {
        "id": "1Rg25YH_jCha"
      },
      "execution_count": null,
      "outputs": []
    },
    {
      "cell_type": "code",
      "source": [
        "df.columns"
      ],
      "metadata": {
        "colab": {
          "base_uri": "https://localhost:8080/"
        },
        "id": "D9DeqCfcwSdW",
        "outputId": "c1bcd603-ab6a-462c-e073-71455d66871d"
      },
      "execution_count": null,
      "outputs": [
        {
          "output_type": "execute_result",
          "data": {
            "text/plain": [
              "Index(['№', 'Дата', 'Место задержки', 'Время',\n",
              "       'Длительность задержки движения', 'Причина', 'Тип нарушения',\n",
              "       'Подтип нарушения', '№ марш.', '№ маш.', 'Модель трамвая', 'Э/П',\n",
              "       'Депо', 'Задерж. марш.', 'Принятые меры', 'Исполнители', 'Напр. СП',\n",
              "       'Приб. СП', 'Напр. СЭХ', 'Приб. СЭХ', 'Напр. тяг.', 'Приб. тяг.',\n",
              "       'Примечание', 'Место задержки улица', 'Долгота', 'Широта',\n",
              "       'Причина возникновения общая', 'Вызов ГИБДД', 'Время следования СП',\n",
              "       'Время следования СЭХ', 'Время следования тяг.',\n",
              "       'Время до вызова ГИБДД', 'Время оформления'],\n",
              "      dtype='object')"
            ]
          },
          "metadata": {},
          "execution_count": 108
        }
      ]
    },
    {
      "cell_type": "code",
      "source": [
        "list_df = df[['Место задержки', 'Место задержки улица']]"
      ],
      "metadata": {
        "id": "FXeegYGrjRKB"
      },
      "execution_count": null,
      "outputs": []
    },
    {
      "cell_type": "code",
      "source": [
        "list_df['Место задержки'].to_list()"
      ],
      "metadata": {
        "id": "iMTbGhakjX_O"
      },
      "execution_count": null,
      "outputs": []
    },
    {
      "cell_type": "code",
      "source": [
        "print([x for x in list_df['Место задержки'] for b in x if b in X or x])"
      ],
      "metadata": {
        "colab": {
          "base_uri": "https://localhost:8080/",
          "height": 172
        },
        "id": "mQ111UG2tByu",
        "outputId": "d8955e35-2636-423c-b464-04955b9496db"
      },
      "execution_count": null,
      "outputs": [
        {
          "output_type": "error",
          "ename": "TypeError",
          "evalue": "ignored",
          "traceback": [
            "\u001b[0;31m---------------------------------------------------------------------------\u001b[0m",
            "\u001b[0;31mTypeError\u001b[0m                                 Traceback (most recent call last)",
            "\u001b[0;32m<ipython-input-111-86cbeccf6430>\u001b[0m in \u001b[0;36m<module>\u001b[0;34m()\u001b[0m\n\u001b[0;32m----> 1\u001b[0;31m \u001b[0mprint\u001b[0m\u001b[0;34m(\u001b[0m\u001b[0;34m[\u001b[0m\u001b[0mx\u001b[0m \u001b[0;32mfor\u001b[0m \u001b[0mx\u001b[0m \u001b[0;32min\u001b[0m \u001b[0mlist_df\u001b[0m\u001b[0;34m[\u001b[0m\u001b[0;34m'Место задержки'\u001b[0m\u001b[0;34m]\u001b[0m \u001b[0;32mfor\u001b[0m \u001b[0mb\u001b[0m \u001b[0;32min\u001b[0m \u001b[0mx\u001b[0m \u001b[0;32mif\u001b[0m \u001b[0mb\u001b[0m \u001b[0;32min\u001b[0m \u001b[0mX\u001b[0m \u001b[0;32mor\u001b[0m \u001b[0mx\u001b[0m\u001b[0;34m]\u001b[0m\u001b[0;34m)\u001b[0m\u001b[0;34m\u001b[0m\u001b[0;34m\u001b[0m\u001b[0m\n\u001b[0m",
            "\u001b[0;31mTypeError\u001b[0m: list indices must be integers or slices, not str"
          ]
        }
      ]
    },
    {
      "cell_type": "code",
      "source": [
        "# regex = re.compile(\"[А-Яа-я0-9X]+\")\n",
        "res = []\n",
        "regex = re.compile(\".х\\s|.Х\\s\")\n",
        "l = [\" \".join(regex.findall(x)) for x in list_df['Место задержки'].to_list()]\n",
        "for i, f in enumerate(l):\n",
        "  if f:\n",
        "    res.append(list_df.iloc[i])"
      ],
      "metadata": {
        "id": "VsZNPIzcjdup"
      },
      "execution_count": null,
      "outputs": []
    },
    {
      "cell_type": "code",
      "source": [],
      "metadata": {
        "colab": {
          "base_uri": "https://localhost:8080/",
          "height": 36
        },
        "id": "N316iBLOvT9O",
        "outputId": "fcd041ee-a7bd-497a-b167-96dba0a3e96f"
      },
      "execution_count": null,
      "outputs": [
        {
          "output_type": "execute_result",
          "data": {
            "text/plain": [
              "'ТИМИРЯЗЕВСКАЯ УЛ.х Красностуденческий пр-д'"
            ],
            "application/vnd.google.colaboratory.intrinsic+json": {
              "type": "string"
            }
          },
          "metadata": {},
          "execution_count": 96
        }
      ]
    },
    {
      "cell_type": "code",
      "source": [
        "pd.DataFrame(res).to_excel('street.xlsx')"
      ],
      "metadata": {
        "id": "pxXoiYLcu6T-"
      },
      "execution_count": null,
      "outputs": []
    }
  ]
}
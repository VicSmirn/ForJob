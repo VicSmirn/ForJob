{
 "cells": [
  {
   "cell_type": "code",
   "execution_count": 12,
   "metadata": {},
   "outputs": [
    {
     "name": "stdout",
     "output_type": "stream",
     "text": [
      "env: ORACLE_HOME=/usr/lib/oracle/18.5/client\n",
      "env: PATH=/home/aakhmedov/opt/bin:/opt/conda/bin:/usr/local/sbin:/usr/local/bin:/usr/sbin:/usr/bin:/sbin:/bin:/usr/lib/oracle/18.5/client/lib\n"
     ]
    }
   ],
   "source": [
    "%env ORACLE_HOME=/usr/lib/oracle/18.5/client\n",
    "%env PATH = /home/aakhmedov/opt/bin:/opt/conda/bin:/usr/local/sbin:/usr/local/bin:/usr/sbin:/usr/bin:/sbin:/bin:/usr/lib/oracle/18.5/client/lib"
   ]
  },
  {
   "cell_type": "code",
   "execution_count": 2,
   "metadata": {
    "collapsed": true
   },
   "outputs": [],
   "source": [
    "import pickle\n",
    "\n",
    "\n",
    "# x = 'AAKHMEDOV[GP_CRM]/gVe3Mc9_Lwkq0j17xs@dbdwhru'\n",
    "# y = 'AAKHMEDOV[GP_CRM_CALC]/gVe3Mc9_Lwkq0j17xs@dbdwhru'\n",
    "\n",
    "# x = 'AAKHMEDOV[GP_CRM]/gVe3Mc9_Lwkq0j17we@dbdwhru'\n",
    "# y = 'AAKHMEDOV[GP_CRM_CALC]/gVe3Mc9_Lwkq0j17we@dbdwhru'\n",
    "\n",
    "x = 'AAKHMEDOV[GP_CRM]/gVe3Mc9_Lwkq0j18yu@dbdwhru'\n",
    "y = 'AAKHMEDOV[GP_CRM_CALC]/gVe3Mc9_Lwkq0j17ty@dbdwhru'\n",
    "\n",
    "pickle.dump(x, open('orlp', 'wb'))\n",
    "pickle.dump(y, open('calc_orlp', 'wb'))"
   ]
  },
  {
   "cell_type": "code",
   "execution_count": 7,
   "metadata": {
    "collapsed": true
   },
   "outputs": [],
   "source": [
    "import cx_Oracle as orcl"
   ]
  },
  {
   "cell_type": "code",
   "execution_count": 8,
   "metadata": {
    "collapsed": true
   },
   "outputs": [],
   "source": [
    "import pickle\n"
   ]
  },
  {
   "cell_type": "code",
   "execution_count": 41,
   "metadata": {
    "collapsed": true
   },
   "outputs": [],
   "source": [
    "orcl_log_pass_calc = pickle.load(open('/home/aakhmedov/config/calc_orlp', 'rb'))\n",
    "orcl_log_pass = pickle.load(open('/home/aakhmedov/config/orlp', 'rb'))\n",
    "\n",
    "connection = orcl.connect('{}.homecredit.ru:1521/DWHRU'.format(orcl_log_pass) , encoding = \"UTF-8\", nencoding = \"UTF-8\")\n",
    "cursor = orcl.Cursor(connection)\n"
   ]
  },
  {
   "cell_type": "code",
   "execution_count": 42,
   "metadata": {
    "collapsed": true
   },
   "outputs": [],
   "source": [
    "res = cursor.execute(\"SELECT 1, 1, 3 FROM dual\")"
   ]
  },
  {
   "cell_type": "code",
   "execution_count": 43,
   "metadata": {},
   "outputs": [
    {
     "data": {
      "text/plain": [
       "[(1, 1, 3)]"
      ]
     },
     "execution_count": 43,
     "metadata": {},
     "output_type": "execute_result"
    }
   ],
   "source": [
    "res.fetchall()"
   ]
  },
  {
   "cell_type": "code",
   "execution_count": 44,
   "metadata": {},
   "outputs": [
    {
     "ename": "DatabaseError",
     "evalue": "ORA-04063: package body \"GP_CRM.DP_DAILY_SCORING\" has errors\nORA-06508: PL/SQL: could not find program unit being called: \"GP_CRM.DP_DAILY_SCORING\"\nORA-06512: at line 1",
     "output_type": "error",
     "traceback": [
      "\u001b[0;31m---------------------------------------------------------------------------\u001b[0m",
      "\u001b[0;31mDatabaseError\u001b[0m                             Traceback (most recent call last)",
      "\u001b[0;32m<ipython-input-44-b99575a0af52>\u001b[0m in \u001b[0;36m<module>\u001b[0;34m()\u001b[0m\n\u001b[1;32m      1\u001b[0m \u001b[0mcursor\u001b[0m \u001b[0;34m=\u001b[0m \u001b[0mconnection\u001b[0m\u001b[0;34m.\u001b[0m\u001b[0mcursor\u001b[0m\u001b[0;34m(\u001b[0m\u001b[0;34m)\u001b[0m\u001b[0;34m\u001b[0m\u001b[0m\n\u001b[0;32m----> 2\u001b[0;31m \u001b[0mcursor\u001b[0m\u001b[0;34m.\u001b[0m\u001b[0mcallproc\u001b[0m\u001b[0;34m(\u001b[0m\u001b[0;34m'dp_daily_scoring.DP_DAILY_SCORING_CL_GEN_PRC_1'\u001b[0m\u001b[0;34m)\u001b[0m\u001b[0;34m\u001b[0m\u001b[0m\n\u001b[0m",
      "\u001b[0;31mDatabaseError\u001b[0m: ORA-04063: package body \"GP_CRM.DP_DAILY_SCORING\" has errors\nORA-06508: PL/SQL: could not find program unit being called: \"GP_CRM.DP_DAILY_SCORING\"\nORA-06512: at line 1"
     ]
    }
   ],
   "source": [
    "cursor = connection.cursor()\n",
    "cursor.callproc('dp_daily_scoring.DP_DAILY_SCORING_CL_GEN_PRC_1')"
   ]
  },
  {
   "cell_type": "code",
   "execution_count": null,
   "metadata": {
    "collapsed": true
   },
   "outputs": [],
   "source": []
  },
  {
   "cell_type": "code",
   "execution_count": null,
   "metadata": {
    "collapsed": true
   },
   "outputs": [],
   "source": []
  },
  {
   "cell_type": "code",
   "execution_count": 16,
   "metadata": {
    "collapsed": true
   },
   "outputs": [],
   "source": [
    "import pandas as pd\n",
    "\n",
    "\n",
    "sql='''\n",
    "select 1 from dual\n",
    "'''\n",
    "\n",
    "df_data = pd.read_sql_query(sql, connection)\n"
   ]
  },
  {
   "cell_type": "code",
   "execution_count": 17,
   "metadata": {},
   "outputs": [
    {
     "data": {
      "text/html": [
       "<div>\n",
       "<style scoped>\n",
       "    .dataframe tbody tr th:only-of-type {\n",
       "        vertical-align: middle;\n",
       "    }\n",
       "\n",
       "    .dataframe tbody tr th {\n",
       "        vertical-align: top;\n",
       "    }\n",
       "\n",
       "    .dataframe thead th {\n",
       "        text-align: right;\n",
       "    }\n",
       "</style>\n",
       "<table border=\"1\" class=\"dataframe\">\n",
       "  <thead>\n",
       "    <tr style=\"text-align: right;\">\n",
       "      <th></th>\n",
       "      <th>1</th>\n",
       "    </tr>\n",
       "  </thead>\n",
       "  <tbody>\n",
       "    <tr>\n",
       "      <th>0</th>\n",
       "      <td>1</td>\n",
       "    </tr>\n",
       "  </tbody>\n",
       "</table>\n",
       "</div>"
      ],
      "text/plain": [
       "   1\n",
       "0  1"
      ]
     },
     "execution_count": 17,
     "metadata": {},
     "output_type": "execute_result"
    }
   ],
   "source": [
    "df_data"
   ]
  },
  {
   "cell_type": "code",
   "execution_count": null,
   "metadata": {
    "collapsed": true
   },
   "outputs": [],
   "source": [
    "В базе DWHRU создан пользователь AAKHMEDOV\n",
    "Пароль gVe3Mc9_Lwkq0j17xs"
   ]
  },
  {
   "cell_type": "code",
   "execution_count": null,
   "metadata": {
    "collapsed": true
   },
   "outputs": [],
   "source": []
  },
  {
   "cell_type": "code",
   "execution_count": null,
   "metadata": {
    "collapsed": true
   },
   "outputs": [],
   "source": []
  }
 ],
 "metadata": {
  "kernelspec": {
   "display_name": "Python 3 (ipykernel)",
   "language": "python",
   "name": "python3"
  },
  "language_info": {
   "codemirror_mode": {
    "name": "ipython",
    "version": 3
   },
   "file_extension": ".py",
   "mimetype": "text/x-python",
   "name": "python",
   "nbconvert_exporter": "python",
   "pygments_lexer": "ipython3",
   "version": "3.5.6"
  }
 },
 "nbformat": 4,
 "nbformat_minor": 2
}
